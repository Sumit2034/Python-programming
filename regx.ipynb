{
 "cells": [
  {
   "cell_type": "code",
   "execution_count": 3,
   "metadata": {},
   "outputs": [
    {
     "name": "stdout",
     "output_type": "stream",
     "text": [
      "Yes we have match!!\n"
     ]
    }
   ],
   "source": [
    "#Search the string to see if it starts with \"The\" and ends with \"Spain\":\n",
    "mport re\n",
    "\n",
    "text = \"the rain in spain\"\n",
    "\n",
    "x = re.search(\"^the.*spain$\",text)\n",
    "\n",
    "if x:\n",
    "    print(\"Yes we have match!!\")\n",
    "else:\n",
    "    print(\"NO match found\")"
   ]
  },
  {
   "cell_type": "code",
   "execution_count": 4,
   "metadata": {},
   "outputs": [
    {
     "name": "stdout",
     "output_type": "stream",
     "text": [
      "['ai', 'ai']\n"
     ]
    }
   ],
   "source": [
    "import re\n",
    "\n",
    "txt = \"the rain in spain\"\n",
    "\n",
    "x = re.findall(\"ai\",txt)\n",
    "print(x)\n",
    "#Return an empty list if no match was found:"
   ]
  },
  {
   "cell_type": "code",
   "execution_count": 5,
   "metadata": {},
   "outputs": [
    {
     "name": "stdout",
     "output_type": "stream",
     "text": [
      "The first white-space character is located in position: 3\n"
     ]
    }
   ],
   "source": [
    "import re\n",
    "\n",
    "txt = \"The rain in Spain\"\n",
    "x = re.search(\"\\s\", txt)\n",
    "\n",
    "print(\"The first white-space character is located in position:\", x.start()) \n"
   ]
  },
  {
   "cell_type": "code",
   "execution_count": 6,
   "metadata": {},
   "outputs": [
    {
     "name": "stdout",
     "output_type": "stream",
     "text": [
      "['The', 'rain', 'in', 'Spain']\n"
     ]
    }
   ],
   "source": [
    "#Split at each white-space character:\n",
    "\n",
    "import re\n",
    "\n",
    "txt = \"The rain in Spain\"\n",
    "x = re.split(\"\\s\", txt)\n",
    "print(x)"
   ]
  },
  {
   "cell_type": "code",
   "execution_count": 7,
   "metadata": {},
   "outputs": [
    {
     "name": "stdout",
     "output_type": "stream",
     "text": [
      "['The', 'rain in Spain']\n"
     ]
    }
   ],
   "source": [
    "#You can control the number of occurrences by specifying the maxsplit parameter:\n",
    "import re\n",
    "\n",
    "txt = \"The rain in Spain\"\n",
    "x = re.split(\"\\s\", txt, 1)\n",
    "print(x)\n"
   ]
  },
  {
   "cell_type": "code",
   "execution_count": 8,
   "metadata": {},
   "outputs": [
    {
     "name": "stdout",
     "output_type": "stream",
     "text": [
      "The9rain9in9Spain\n"
     ]
    }
   ],
   "source": [
    "#The sub() function replaces the matches with the text of your choice:\n",
    "import re\n",
    "\n",
    "txt = \"The rain in Spain\"\n",
    "x = re.sub(\"\\s\", \"9\", txt)\n",
    "print(x)"
   ]
  },
  {
   "cell_type": "code",
   "execution_count": 9,
   "metadata": {},
   "outputs": [
    {
     "name": "stdout",
     "output_type": "stream",
     "text": [
      "The9rain9in Spain\n"
     ]
    }
   ],
   "source": [
    "#You can control the number of replacements by specifying the count parameter:\n",
    "import re\n",
    "\n",
    "txt = \"The rain in Spain\"\n",
    "x = re.sub(\"\\s\", \"9\", txt,2)\n",
    "print(x)\n"
   ]
  },
  {
   "cell_type": "code",
   "execution_count": 16,
   "metadata": {},
   "outputs": [
    {
     "name": "stdout",
     "output_type": "stream",
     "text": [
      "(5, 7)\n"
     ]
    }
   ],
   "source": [
    "#match object\n",
    "import re\n",
    "\n",
    "txt = \"The rain in Spain\"\n",
    "x = re.search(\"ai\", txt)\n",
    "print(x.span())"
   ]
  },
  {
   "cell_type": "code",
   "execution_count": 15,
   "metadata": {},
   "outputs": [
    {
     "name": "stdout",
     "output_type": "stream",
     "text": [
      "(12, 17)\n"
     ]
    }
   ],
   "source": [
    "#he regular expression looks for any words that starts with an upper case \"S\":\n",
    "import re\n",
    "\n",
    "txt = \"The rain in Spain\"\n",
    "x = re.search(r\"\\bS\\w+\", txt)\n",
    "print(x.span())"
   ]
  },
  {
   "cell_type": "code",
   "execution_count": 18,
   "metadata": {},
   "outputs": [
    {
     "name": "stdout",
     "output_type": "stream",
     "text": [
      "Spain\n"
     ]
    }
   ],
   "source": [
    "import re\n",
    "\n",
    "#Search for an upper case \"S\" character in the beginning of a word, and print the word:\n",
    "\n",
    "txt = \"The rain in Spain\"\n",
    "x = re.search(r\"\\bS\\w+\", txt)\n",
    "print(x.group())\n"
   ]
  }
 ],
 "metadata": {
  "kernelspec": {
   "display_name": "Python 3",
   "language": "python",
   "name": "python3"
  },
  "language_info": {
   "codemirror_mode": {
    "name": "ipython",
    "version": 3
   },
   "file_extension": ".py",
   "mimetype": "text/x-python",
   "name": "python",
   "nbconvert_exporter": "python",
   "pygments_lexer": "ipython3",
   "version": "3.7.6"
  }
 },
 "nbformat": 4,
 "nbformat_minor": 4
}
