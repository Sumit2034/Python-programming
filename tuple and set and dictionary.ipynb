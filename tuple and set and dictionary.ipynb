{
 "cells": [
  {
   "cell_type": "code",
   "execution_count": 1,
   "metadata": {},
   "outputs": [
    {
     "name": "stdout",
     "output_type": "stream",
     "text": [
      "<class 'int'>\n",
      "<class 'tuple'>\n"
     ]
    }
   ],
   "source": [
    "li = (1)\n",
    "tup = (1,)\n",
    "print(type(li))\n",
    "print(type(tup))"
   ]
  },
  {
   "cell_type": "code",
   "execution_count": 44,
   "metadata": {},
   "outputs": [
    {
     "name": "stdout",
     "output_type": "stream",
     "text": [
      "<class 'tuple'>\n",
      "<class 'list'>\n",
      "[1, 2, 3, 4, 5, 9, 10]\n",
      "(1, 2, 3, 4, 5, 9, 10)\n"
     ]
    }
   ],
   "source": [
    "tup = (1, 6, 3, 5, 4, 2)\n",
    "print(type(tup))\n",
    "#how to convert tuple to list\n",
    "li = list(tup)\n",
    "print(type(li))\n",
    "li[1] = 10\n",
    "li.append(9)\n",
    "li.sort()\n",
    "print(li)\n",
    "tup = tuple(li)\n",
    "\n",
    "print(tup)\n",
    "del tup"
   ]
  },
  {
   "cell_type": "code",
   "execution_count": null,
   "metadata": {},
   "outputs": [],
   "source": [
    "#joining two tuples\n",
    "#doubt kya fyda hai maam iska jb immutable hi hai toh hum final vgara bhi toh lga skte hai toh iska kya fyda\n",
    "tup1 = (1, 2, 3)\n",
    "tup2 = (5, 6, 7)\n",
    "tup3 = tup1 + tup2\n",
    "\n",
    "print(tup3)"
   ]
  },
  {
   "cell_type": "code",
   "execution_count": null,
   "metadata": {},
   "outputs": [],
   "source": [
    "#count of particular vairable\n",
    "\n",
    "tup1 = (1, 2, 3, 4, 2, 1, 6, 8, 9, 2)\n",
    "print(tup1.count(2))"
   ]
  },
  {
   "cell_type": "code",
   "execution_count": null,
   "metadata": {},
   "outputs": [],
   "source": [
    "tup1 = (1, 2, 3, 4, 2, 1, 6, 8, 9, 2)\n",
    "print(tup1.index(4))"
   ]
  },
  {
   "cell_type": "code",
   "execution_count": null,
   "metadata": {},
   "outputs": [],
   "source": [
    "#SET"
   ]
  },
  {
   "cell_type": "code",
   "execution_count": null,
   "metadata": {},
   "outputs": [],
   "source": [
    "s1 =  {1,2,3,4}\n",
    "print(type(s1))"
   ]
  },
  {
   "cell_type": "code",
   "execution_count": null,
   "metadata": {},
   "outputs": [],
   "source": [
    "print(s1)"
   ]
  },
  {
   "cell_type": "code",
   "execution_count": null,
   "metadata": {},
   "outputs": [],
   "source": [
    "dict = {1:\"hello\", 2:\"say\"}\n",
    "print(type(dict))"
   ]
  },
  {
   "cell_type": "code",
   "execution_count": null,
   "metadata": {},
   "outputs": [],
   "source": [
    "s1 = {1,2,3,4,5}\n",
    "s1.add(7)\n",
    "print(s1)"
   ]
  },
  {
   "cell_type": "code",
   "execution_count": null,
   "metadata": {},
   "outputs": [],
   "source": [
    "#if i want to addd no. of elements at a time\n",
    "s1 = {1,2,8,4,5}\n",
    "s1.update({6,9,10})\n",
    "print(s1)"
   ]
  },
  {
   "cell_type": "code",
   "execution_count": null,
   "metadata": {},
   "outputs": [],
   "source": [
    "s1.remove(4)\n",
    "print(s1)"
   ]
  },
  {
   "cell_type": "code",
   "execution_count": null,
   "metadata": {},
   "outputs": [],
   "source": [
    "s1.discard(8)\n",
    "print(s1)"
   ]
  },
  {
   "cell_type": "code",
   "execution_count": null,
   "metadata": {},
   "outputs": [],
   "source": [
    "s1.pop()\n",
    "print(s1)"
   ]
  },
  {
   "cell_type": "code",
   "execution_count": null,
   "metadata": {},
   "outputs": [],
   "source": [
    "s1.pop()\n",
    "print(s1)"
   ]
  },
  {
   "cell_type": "code",
   "execution_count": null,
   "metadata": {},
   "outputs": [],
   "source": [
    "s1 = {1,5,2,6,7}\n",
    "s2 = {7,2,9,4,1}\n",
    "print(s1)\n",
    "print(s2)\n",
    "#s3 = s1.union(s2)\n",
    "s3 = s1.intersection(s2)\n",
    "print(s3)"
   ]
  },
  {
   "cell_type": "code",
   "execution_count": null,
   "metadata": {},
   "outputs": [],
   "source": [
    "s1 = {1,5,2,6,7}\n",
    "s2 = {7,2,9,4,1}\n",
    "print(s1)\n",
    "print(s2)\n",
    "s3 = s1.difference(s2)\n",
    "print(s3)"
   ]
  },
  {
   "cell_type": "code",
   "execution_count": null,
   "metadata": {},
   "outputs": [],
   "source": [
    "s1 = input(\"enter a string :\")\n",
    "\n",
    "s2 = s1[::-1]\n",
    "if(s1==s2):\n",
    "    print(\"palidromic\")\n",
    "else:\n",
    "    print(\"Not palindromic\")"
   ]
  },
  {
   "cell_type": "code",
   "execution_count": null,
   "metadata": {},
   "outputs": [],
   "source": []
  },
  {
   "cell_type": "code",
   "execution_count": null,
   "metadata": {},
   "outputs": [],
   "source": [
    "#to apply comas after a word in string\n",
    "str = input(\"enter a string\")\n",
    "li = str.split(\" \")\n",
    "print(li)"
   ]
  },
  {
   "cell_type": "code",
   "execution_count": 3,
   "metadata": {},
   "outputs": [
    {
     "name": "stdout",
     "output_type": "stream",
     "text": [
      "enter a stringhi this is mee\n",
      "iti sme\n"
     ]
    }
   ],
   "source": [
    "#to find odd place charater in string and add in new var\n",
    "str = input(\"enter a string\")\n",
    "#li = []\n",
    "str2 = \"\"\n",
    "for x in range(len(str)):\n",
    "    \n",
    "    if (x%2!=0):\n",
    "        str2 = str2 + str[x]\n",
    "        #li.append(str[x])\n",
    "\n",
    "#to change li in str\n",
    "#str1 = \"\".join(li)\n",
    "print(str2)"
   ]
  },
  {
   "cell_type": "code",
   "execution_count": 4,
   "metadata": {},
   "outputs": [
    {
     "name": "stdout",
     "output_type": "stream",
     "text": [
      "enter a string: dgjkjhg\n",
      "gkh\n"
     ]
    }
   ],
   "source": [
    "str = input(\"enter a string: \")\n",
    "new = str[1::2]\n",
    "print(new)"
   ]
  },
  {
   "cell_type": "markdown",
   "metadata": {},
   "source": [
    "# DICTIONARY"
   ]
  },
  {
   "cell_type": "code",
   "execution_count": 5,
   "metadata": {},
   "outputs": [
    {
     "name": "stdout",
     "output_type": "stream",
     "text": [
      "<class 'dict'>\n"
     ]
    }
   ],
   "source": [
    "dict = {1:\"abc\", 2:\"dfg\", 3:\"dfaf\", 4:\"fiod\"}\n",
    "print(type(dict))"
   ]
  },
  {
   "cell_type": "code",
   "execution_count": 6,
   "metadata": {},
   "outputs": [
    {
     "name": "stdout",
     "output_type": "stream",
     "text": [
      "{1: 'abc', 2: 'dfg', 3: 'dfaf', 4: 'fiod'}\n"
     ]
    }
   ],
   "source": [
    "print(dict)"
   ]
  },
  {
   "cell_type": "code",
   "execution_count": 7,
   "metadata": {},
   "outputs": [
    {
     "name": "stdout",
     "output_type": "stream",
     "text": [
      "1\n",
      "2\n",
      "3\n",
      "4\n"
     ]
    }
   ],
   "source": [
    "for x in dict:\n",
    "    print(x)"
   ]
  },
  {
   "cell_type": "code",
   "execution_count": null,
   "metadata": {},
   "outputs": [],
   "source": [
    "for x in dict:\n",
    "    print(dict[x])"
   ]
  },
  {
   "cell_type": "code",
   "execution_count": 8,
   "metadata": {},
   "outputs": [
    {
     "name": "stdout",
     "output_type": "stream",
     "text": [
      "abc\n",
      "dfg\n",
      "dfaf\n",
      "fiod\n"
     ]
    }
   ],
   "source": [
    "for x in dict.values():\n",
    "    print(x)"
   ]
  },
  {
   "cell_type": "code",
   "execution_count": null,
   "metadata": {},
   "outputs": [],
   "source": [
    "for x in dict.keys():\n",
    "    print(x)"
   ]
  },
  {
   "cell_type": "code",
   "execution_count": null,
   "metadata": {},
   "outputs": [],
   "source": [
    "for x,y in dict.items():\n",
    "    print(x,y)"
   ]
  },
  {
   "cell_type": "code",
   "execution_count": null,
   "metadata": {},
   "outputs": [],
   "source": [
    "if 2 in dict:\n",
    "    print(\"yes\")\n",
    "else:\n",
    "    print(\"no\")"
   ]
  },
  {
   "cell_type": "code",
   "execution_count": 9,
   "metadata": {},
   "outputs": [
    {
     "name": "stdout",
     "output_type": "stream",
     "text": [
      "4\n"
     ]
    }
   ],
   "source": [
    "print(len(dict))"
   ]
  },
  {
   "cell_type": "code",
   "execution_count": 10,
   "metadata": {},
   "outputs": [
    {
     "name": "stdout",
     "output_type": "stream",
     "text": [
      "{1: 'abc', 2: 'dfg', 4: 'fiod'}\n"
     ]
    }
   ],
   "source": [
    "dict.pop(3)\n",
    "print(dict)"
   ]
  },
  {
   "cell_type": "code",
   "execution_count": 13,
   "metadata": {},
   "outputs": [
    {
     "name": "stdout",
     "output_type": "stream",
     "text": [
      "{1: 'abc', 2: 'dfg', 4: 'fiod', 5: 'namis'}\n",
      "{1: 'abc', 2: 'dfg', 4: 'fiod', 5: 'namis'}\n"
     ]
    }
   ],
   "source": [
    "dict1 = dict.copy()\n",
    "print(dict1)\n",
    "dict[5] = \"namis\"\n",
    "print(dict)"
   ]
  },
  {
   "cell_type": "code",
   "execution_count": 14,
   "metadata": {},
   "outputs": [
    {
     "name": "stdout",
     "output_type": "stream",
     "text": [
      "{1: {'name': 'ssss', 'age': 18}, 2: {'name': 'sads', 'age': 38}, 3: {'name': 'sggd', 'age': 28}}\n"
     ]
    }
   ],
   "source": [
    "dict2 = {1:{\"name\":\"ssss\",\"age\":18}, 2:{\"name\":\"sads\",\"age\":38}, 3:{\"name\":\"sggd\",\"age\":28}}\n",
    "print(dict2)"
   ]
  },
  {
   "cell_type": "code",
   "execution_count": 16,
   "metadata": {},
   "outputs": [
    {
     "name": "stdout",
     "output_type": "stream",
     "text": [
      "{'first': {'name': 'sumit', 'marks': 57, 'age': 21}, 'second': {'name': 'amit', 'marks': 60, 'age': 20}, 'third': {'name': 'ajit', 'marks': 87, 'age': 22}}\n"
     ]
    }
   ],
   "source": [
    "record1 = {\"name\":\"sumit\", \"marks\":57, \"age\":21}\n",
    "record2 = {\"name\":\"amit\", \"marks\":60, \"age\":20}\n",
    "record3 = {\"name\":\"ajit\", \"marks\":87, \"age\":22}\n",
    "parentdict = {\"first\":record1, \"second\":record2, \"third\":record3}\n",
    "print(parentdict)"
   ]
  },
  {
   "cell_type": "code",
   "execution_count": 17,
   "metadata": {},
   "outputs": [
    {
     "name": "stdout",
     "output_type": "stream",
     "text": [
      "first {'name': 'sumit', 'marks': 57, 'age': 21}\n",
      "second {'name': 'amit', 'marks': 60, 'age': 20}\n",
      "third {'name': 'ajit', 'marks': 87, 'age': 22}\n"
     ]
    }
   ],
   "source": [
    "for x,y in parentdict.items():\n",
    "    print(x,y)"
   ]
  },
  {
   "cell_type": "code",
   "execution_count": 19,
   "metadata": {},
   "outputs": [
    {
     "name": "stdout",
     "output_type": "stream",
     "text": [
      "21\n",
      "20\n",
      "22\n"
     ]
    }
   ],
   "source": [
    "for x in parentdict:\n",
    "    print(parentdict[x][\"age\"])"
   ]
  },
  {
   "cell_type": "code",
   "execution_count": 22,
   "metadata": {},
   "outputs": [
    {
     "name": "stdout",
     "output_type": "stream",
     "text": [
      "sumit\n"
     ]
    }
   ],
   "source": [
    "print(parentdict[\"first\"][\"name\"])"
   ]
  },
  {
   "cell_type": "code",
   "execution_count": 25,
   "metadata": {},
   "outputs": [
    {
     "name": "stdout",
     "output_type": "stream",
     "text": [
      "first:\n",
      "name sumit\n",
      "marks 57\n",
      "age 21\n",
      "second:\n",
      "name amit\n",
      "marks 60\n",
      "age 20\n",
      "third:\n",
      "name ajit\n",
      "marks 87\n",
      "age 22\n"
     ]
    }
   ],
   "source": [
    "for x,y in parentdict.items():\n",
    "    print(x + \":\")\n",
    "    for i in y:\n",
    "        print(i,y[i])\n",
    "    "
   ]
  },
  {
   "cell_type": "code",
   "execution_count": 35,
   "metadata": {},
   "outputs": [
    {
     "name": "stdout",
     "output_type": "stream",
     "text": [
      "enter the string :asdafd@fgks.com\n",
      "asdafd\n",
      "aaddfs\n"
     ]
    }
   ],
   "source": [
    "str = input(\"enter the string :\")\n",
    "str1 = str.split('@')[0]\n",
    "print(str1)\n",
    "print(''.join(sorted(str1)))"
   ]
  },
  {
   "cell_type": "code",
   "execution_count": 39,
   "metadata": {},
   "outputs": [
    {
     "name": "stdout",
     "output_type": "stream",
     "text": [
      "enter name :asd\n",
      "enter roll no. :1342564\n",
      "enter year in which you entered :2018\n",
      "enter branch :cse\n",
      "asd2564.cse18@chitkara.edu.in\n"
     ]
    }
   ],
   "source": [
    "# write email like chitkara university\n",
    "\n",
    "name = input(\"enter name :\")\n",
    "rollno = input(\"enter roll no. :\")\n",
    "year = input(\"enter year in which you entered :\")\n",
    "branch = input(\"enter branch :\")\n",
    "\n",
    "result = name.split(' ')[0] + rollno[-4:] + \".\" + branch + year[-2:]+ '@chitkara.edu.in'\n",
    "print(result)"
   ]
  },
  {
   "cell_type": "code",
   "execution_count": 40,
   "metadata": {},
   "outputs": [
    {
     "name": "stdout",
     "output_type": "stream",
     "text": [
      "{5, 6, 7}\n"
     ]
    }
   ],
   "source": [
    "a = {5,6,7}\n",
    "a.add(5)\n",
    "print(a)"
   ]
  },
  {
   "cell_type": "code",
   "execution_count": 46,
   "metadata": {},
   "outputs": [
    {
     "name": "stdout",
     "output_type": "stream",
     "text": [
      "('e', 'x', 'y', 'c', 'd', 'h')\n"
     ]
    }
   ],
   "source": [
    "#to delete last element of tupple\n",
    "tup = ('e','x','y','c','d','h','k')\n",
    "l1 = list(tup)\n",
    "l1.pop()\n",
    "tup = tuple(l1)\n",
    "print(tup)"
   ]
  },
  {
   "cell_type": "code",
   "execution_count": 85,
   "metadata": {},
   "outputs": [
    {
     "name": "stdout",
     "output_type": "stream",
     "text": [
      "['hello', '1', '3.4', 'byee', 'google', 'microsoft', 'tesla', 'facebook']\n"
     ]
    }
   ],
   "source": [
    "list1 = [\"hello\",\"1\",\"3.4\",\"byee\"]\n",
    "list2 = [\"google\",\"microsoft\",\"tesla\",\"facebook\"]\n",
    "list1.extend(list2)\n",
    "print(list1)"
   ]
  },
  {
   "cell_type": "code",
   "execution_count": 86,
   "metadata": {},
   "outputs": [
    {
     "name": "stdout",
     "output_type": "stream",
     "text": [
      "enter roll no. : 123\n",
      "['1', '2', '3']\n",
      "['hello', '1', '3.4', 'byee', 'google', 'microsoft', 'tesla', 'facebook', '1', '2', '3']\n"
     ]
    }
   ],
   "source": [
    "rn = input(\"enter roll no. : \")\n",
    "var = list(rn)\n",
    "print(var)\n",
    "list1.extend(var)\n",
    "print(list1)"
   ]
  },
  {
   "cell_type": "code",
   "execution_count": 87,
   "metadata": {},
   "outputs": [
    {
     "name": "stdout",
     "output_type": "stream",
     "text": [
      "['1', '1', '2', '3', '3.4', 'byee', 'facebook', 'google', 'hello', 'microsoft', 'tesla']\n"
     ]
    }
   ],
   "source": [
    "\n",
    "list1.sort()\n",
    "print(list1)"
   ]
  },
  {
   "cell_type": "code",
   "execution_count": 102,
   "metadata": {},
   "outputs": [
    {
     "name": "stdout",
     "output_type": "stream",
     "text": [
      "94 1\n",
      "(3, 94, 4, 8, 2, 1)\n",
      "length of tupple is: 6\n",
      "(3, 2)\n"
     ]
    }
   ],
   "source": [
    "tup = (1,2,8,4,94,3)\n",
    "high = max(tup)\n",
    "low = min(tup)\n",
    "print(high,low)\n",
    "list1 = list(tup)\n",
    "list1.reverse()\n",
    "tup = tuple(list1)\n",
    "print(tup)\n",
    "print(\"length of tupple is:\",len(tup))\n",
    "print(tup[::4])"
   ]
  },
  {
   "cell_type": "code",
   "execution_count": null,
   "metadata": {},
   "outputs": [],
   "source": []
  }
 ],
 "metadata": {
  "kernelspec": {
   "display_name": "Python 3",
   "language": "python",
   "name": "python3"
  },
  "language_info": {
   "codemirror_mode": {
    "name": "ipython",
    "version": 3
   },
   "file_extension": ".py",
   "mimetype": "text/x-python",
   "name": "python",
   "nbconvert_exporter": "python",
   "pygments_lexer": "ipython3",
   "version": "3.7.6"
  }
 },
 "nbformat": 4,
 "nbformat_minor": 4
}
