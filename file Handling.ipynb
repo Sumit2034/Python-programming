{
 "cells": [
  {
   "cell_type": "code",
   "execution_count": 10,
   "metadata": {},
   "outputs": [
    {
     "data": {
      "text/plain": [
       "34"
      ]
     },
     "execution_count": 10,
     "metadata": {},
     "output_type": "execute_result"
    }
   ],
   "source": [
    "f = open(\"demo.txt\",\"w\")\n",
    "f.write(\"hello, i am using jupyter \" + \"\\n\" + \"akdfjkd\")"
   ]
  },
  {
   "cell_type": "code",
   "execution_count": 11,
   "metadata": {},
   "outputs": [
    {
     "name": "stdout",
     "output_type": "stream",
     "text": [
      "hello, i am using jupyter \n",
      "akdfjkd\n"
     ]
    }
   ],
   "source": [
    "f = open(\"demo.txt\",\"r\")\n",
    "print(f.read())"
   ]
  },
  {
   "cell_type": "code",
   "execution_count": 13,
   "metadata": {},
   "outputs": [
    {
     "name": "stdout",
     "output_type": "stream",
     "text": [
      "hello\n"
     ]
    }
   ],
   "source": [
    "f = open(\"demo.txt\",\"r\")\n",
    "print(f.read(5))"
   ]
  },
  {
   "cell_type": "code",
   "execution_count": 38,
   "metadata": {},
   "outputs": [
    {
     "name": "stdout",
     "output_type": "stream",
     "text": [
      "hello, i am using jupyter \n",
      "\n"
     ]
    }
   ],
   "source": [
    "f = open(\"demo.txt\",\"r\")\n",
    "print(f.readline())\n",
    "#print(f.readlines()) #working as a list"
   ]
  },
  {
   "cell_type": "code",
   "execution_count": 30,
   "metadata": {},
   "outputs": [
    {
     "data": {
      "text/plain": [
       "30"
      ]
     },
     "execution_count": 30,
     "metadata": {},
     "output_type": "execute_result"
    }
   ],
   "source": [
    "x = open(\"demo1.txt\",\"a\")\n",
    "x.write(\"\\nI am learning to code in python\")\n",
    "x.write(\"\\nYou are really good in coding\")"
   ]
  },
  {
   "cell_type": "code",
   "execution_count": 31,
   "metadata": {},
   "outputs": [
    {
     "name": "stdout",
     "output_type": "stream",
     "text": [
      "\n",
      "I am learning to code in python\n",
      "You are really good in coding\n"
     ]
    }
   ],
   "source": [
    "x = open(\"demo1.txt\",\"r\")\n",
    "print(x.read())"
   ]
  },
  {
   "cell_type": "code",
   "execution_count": 34,
   "metadata": {},
   "outputs": [
    {
     "name": "stdout",
     "output_type": "stream",
     "text": [
      "\n",
      "\n",
      "I am learning to code in python\n",
      "\n",
      "You are really good in coding\n"
     ]
    }
   ],
   "source": [
    "x = open(\"demo1.txt\",\"r\")\n",
    "for i in x:\n",
    "    print(i)"
   ]
  },
  {
   "cell_type": "code",
   "execution_count": 2,
   "metadata": {},
   "outputs": [
    {
     "name": "stdout",
     "output_type": "stream",
     "text": [
      "<class 'str'>\n",
      "110.25\n"
     ]
    }
   ],
   "source": [
    "with open(\"multi.txt\",\"w\") as fi:\n",
    "    fi.write(str(10.5))\n",
    "with open(\"multi.txt\",\"r\") as fi:\n",
    "    char = fi.read()\n",
    "    print(type(char))\n",
    "    print(float(char)*10.5)"
   ]
  },
  {
   "cell_type": "code",
   "execution_count": 3,
   "metadata": {},
   "outputs": [
    {
     "name": "stdout",
     "output_type": "stream",
     "text": [
      "utf-8\n"
     ]
    }
   ],
   "source": [
    "import sys\n",
    "print(sys.getdefaultencoding())"
   ]
  },
  {
   "cell_type": "code",
   "execution_count": 15,
   "metadata": {},
   "outputs": [
    {
     "name": "stdout",
     "output_type": "stream",
     "text": [
      "enter no. of employees 2\n",
      "enter employee id : 1\n",
      "enter name : sumit\n",
      "enter email : sksksksk\n",
      "enter employee id : 2\n",
      "enter name : sourav\n",
      "enter email : skskskha\n",
      "{1: {'name': 'sumit', 'email': 'sksksksk'}, 2: {'name': 'sourav', 'email': 'skskskha'}}\n"
     ]
    }
   ],
   "source": [
    "dict2 = {}\n",
    "n = int(input(\"enter no. of employees \"))\n",
    "for i in range(0,n):\n",
    "    id1 = int(input(\"enter employee id : \"))\n",
    "    dict1 = {}\n",
    "    for j in range(0,1):\n",
    "        name = input(\"enter name : \")\n",
    "        email = input(\"enter email : \")\n",
    "        dict1['name'] = name\n",
    "        dict1['email'] = email\n",
    "        \n",
    "    dict2[id1] = dict1\n",
    "\n",
    "print(dict2)"
   ]
  },
  {
   "cell_type": "code",
   "execution_count": 3,
   "metadata": {},
   "outputs": [
    {
     "name": "stdout",
     "output_type": "stream",
     "text": [
      "Name : sumit\n",
      "Id : 1\n",
      "More : ss\n",
      "Name : 2\n",
      "Id : 2\n",
      "More : n\n"
     ]
    }
   ],
   "source": [
    "import pickle\n",
    "more = 'y'\n",
    "d = {}\n",
    "emp_d = {}\n",
    "num = 1\n",
    "with open(\"emp_data.txt\",\"wb\") as fi:\n",
    "    while more!='n':\n",
    "        d={}\n",
    "        name = input(\"Name : \")\n",
    "        id = int(input(\"Id : \"))\n",
    "        d['name'] = name\n",
    "        d[ 'id' ] = id\n",
    "        #print(d)\n",
    "        emp_d[str(num)] = d\n",
    "        num = num + 1\n",
    "        more = input(\"More : \")\n",
    "    pickle.dump(emp_d,fi)"
   ]
  },
  {
   "cell_type": "code",
   "execution_count": 4,
   "metadata": {},
   "outputs": [
    {
     "name": "stdout",
     "output_type": "stream",
     "text": [
      "{'1': {'name': 'sumit', 'id': 1}, '2': {'name': '2', 'id': 2}}\n",
      "<class 'dict'>\n"
     ]
    }
   ],
   "source": [
    "with open(\"emp_data.txt\",\"rb\") as fi:\n",
    "    data = pickle.load(fi)\n",
    "    print(data)\n",
    "    print(type(data))\n",
    "    fi.close()"
   ]
  },
  {
   "cell_type": "code",
   "execution_count": 166,
   "metadata": {},
   "outputs": [],
   "source": [
    "### to print how many lines in a file\n",
    "\n",
    "with open(\"lines.txt\",\"w\") as f:\n",
    "    f.write(\"hi how are u\\n\")\n",
    "    f.write(\"i am fine thankyou\\n\")\n",
    "    f.write(\"what about you?\\n\")\n",
    "    f.write(\"i am also fine\")\n",
    "    f.close()"
   ]
  },
  {
   "cell_type": "code",
   "execution_count": 50,
   "metadata": {},
   "outputs": [
    {
     "name": "stdout",
     "output_type": "stream",
     "text": [
      "number of lines are :  4\n"
     ]
    }
   ],
   "source": [
    "with open(\"lines.txt\",\"r\") as f:\n",
    "    list = (f.readlines())\n",
    "    \n",
    "    print(\"number of lines are : \", len(list))"
   ]
  },
  {
   "cell_type": "code",
   "execution_count": 116,
   "metadata": {},
   "outputs": [],
   "source": [
    "with open(\"maxletter.txt\",\"w\") as fi:\n",
    "    fi.write(\"i am doing python instead of any other language \\n aaaajajjaj\")\n",
    "    fi.close()\n",
    "    "
   ]
  },
  {
   "cell_type": "code",
   "execution_count": 128,
   "metadata": {},
   "outputs": [
    {
     "name": "stdout",
     "output_type": "stream",
     "text": [
      "count and value is :  10 , aaaajajjaj\n"
     ]
    }
   ],
   "source": [
    "with open(\"maxletter.txt\",\"r\") as fi:\n",
    "    char = fi.read()\n",
    "    str = char.split()\n",
    "    #print(str)\n",
    "    max = 0\n",
    "for i in str:\n",
    "    if(max < len(i)):\n",
    "        max = len(i)\n",
    "        val = i\n",
    "print(\"count and value is : \",max,\",\",val)"
   ]
  },
  {
   "cell_type": "code",
   "execution_count": 120,
   "metadata": {},
   "outputs": [
    {
     "name": "stdout",
     "output_type": "stream",
     "text": [
      "['hi', 'how', 'are', 'u', 'i', 'am', 'fine', 'thankyou', 'what', 'about', 'you?', 'i', 'am', 'also', 'fine']\n",
      "hi : 1\n",
      "how : 1\n",
      "are : 1\n",
      "u : 1\n",
      "i : 2\n",
      "am : 2\n",
      "fine : 2\n",
      "thankyou : 1\n",
      "what : 1\n",
      "about : 1\n",
      "you? : 1\n",
      "also : 1\n"
     ]
    }
   ],
   "source": [
    "with open(\"lines.txt\",\"r\") as fi:\n",
    "    list1 = fi.read()\n",
    "    list2 = list1.split()\n",
    "d = {}\n",
    "print(list2)\n",
    "for i in list2:\n",
    "    if i in d:\n",
    "        d[i] = d[i] + 1\n",
    "    else:\n",
    "        d[i] = 1\n",
    "for key,val in d.items():\n",
    "    print(key,\":\", val)"
   ]
  },
  {
   "cell_type": "code",
   "execution_count": 126,
   "metadata": {},
   "outputs": [
    {
     "name": "stdout",
     "output_type": "stream",
     "text": [
      "['hi', 'how', 'are', 'u', 'i', 'am', 'fine', 'thankyou', 'what', 'about', 'you?', 'i', 'am', 'also', 'fine']\n",
      "['hi', 'how', 'are', 'u', 'i', 'am', 'fine', 'thankyou', 'what', 'about', 'you?', 'also']\n",
      "hi : 1\n",
      "how : 1\n",
      "are : 1\n",
      "u : 1\n",
      "i : 2\n",
      "am : 2\n",
      "fine : 2\n",
      "thankyou : 1\n",
      "what : 1\n",
      "about : 1\n",
      "you? : 1\n",
      "also : 1\n"
     ]
    }
   ],
   "source": [
    "# ALTERNATE OF ABOVE\n",
    "with open(\"lines.txt\",\"r\") as fi:\n",
    "    char = fi.read()\n",
    "    list1 = char.split()\n",
    "print(list1)\n",
    "temp = []\n",
    "for i in list1:\n",
    "    if i not in temp:\n",
    "        temp.append(i)\n",
    "        \n",
    "print(temp)\n",
    "for i in range(len(temp)):\n",
    "    print(temp[i], \":\",list1.count(temp[i]))"
   ]
  },
  {
   "cell_type": "code",
   "execution_count": 73,
   "metadata": {},
   "outputs": [],
   "source": [
    "# to know about current working directry\n",
    "import os"
   ]
  },
  {
   "cell_type": "code",
   "execution_count": 74,
   "metadata": {},
   "outputs": [
    {
     "data": {
      "text/plain": [
       "'C:\\\\Users\\\\user\\\\Desktop\\\\Python'"
      ]
     },
     "execution_count": 74,
     "metadata": {},
     "output_type": "execute_result"
    }
   ],
   "source": [
    "os.getcwd()"
   ]
  },
  {
   "cell_type": "code",
   "execution_count": 76,
   "metadata": {},
   "outputs": [
    {
     "name": "stdout",
     "output_type": "stream",
     "text": [
      "C:\\Users\\user\\Desktop\\Python\n"
     ]
    }
   ],
   "source": [
    "print(os.getcwd())"
   ]
  },
  {
   "cell_type": "code",
   "execution_count": 77,
   "metadata": {},
   "outputs": [
    {
     "data": {
      "text/plain": [
       "['.ipynb_checkpoints',\n",
       " 'array.ipynb',\n",
       " 'classes in python.ipynb',\n",
       " 'demo.txt',\n",
       " 'demo1.txt',\n",
       " 'dictionary and assingment 3.ipynb',\n",
       " 'emp_data.txt',\n",
       " 'file Handling.ipynb',\n",
       " 'lines.txt',\n",
       " 'maxletter.txt',\n",
       " 'multi.txt',\n",
       " 'numpy library.ipynb',\n",
       " 'practice.ipynb',\n",
       " 'practicee que and exception handling.ipynb',\n",
       " 'practiceque.ipynb',\n",
       " 'practicequestions.ipynb',\n",
       " 'python basics.ipynb',\n",
       " 'tuple and set.ipynb',\n",
       " 'Untitled.ipynb',\n",
       " 'Untitled1.ipynb']"
      ]
     },
     "execution_count": 77,
     "metadata": {},
     "output_type": "execute_result"
    }
   ],
   "source": [
    "#if want to change directory\n",
    "##os.chdir(\"dir name\")\n",
    "os.listdir()"
   ]
  },
  {
   "cell_type": "code",
   "execution_count": 78,
   "metadata": {},
   "outputs": [],
   "source": [
    "# to make new directory\n",
    "os.mkdir(\"newwork\")"
   ]
  },
  {
   "cell_type": "code",
   "execution_count": 79,
   "metadata": {},
   "outputs": [
    {
     "data": {
      "text/plain": [
       "['.ipynb_checkpoints',\n",
       " 'array.ipynb',\n",
       " 'classes in python.ipynb',\n",
       " 'demo.txt',\n",
       " 'demo1.txt',\n",
       " 'dictionary and assingment 3.ipynb',\n",
       " 'emp_data.txt',\n",
       " 'file Handling.ipynb',\n",
       " 'lines.txt',\n",
       " 'maxletter.txt',\n",
       " 'multi.txt',\n",
       " 'newwork',\n",
       " 'numpy library.ipynb',\n",
       " 'practice.ipynb',\n",
       " 'practicee que and exception handling.ipynb',\n",
       " 'practiceque.ipynb',\n",
       " 'practicequestions.ipynb',\n",
       " 'python basics.ipynb',\n",
       " 'tuple and set.ipynb',\n",
       " 'Untitled.ipynb',\n",
       " 'Untitled1.ipynb']"
      ]
     },
     "execution_count": 79,
     "metadata": {},
     "output_type": "execute_result"
    }
   ],
   "source": [
    "os.listdir()"
   ]
  },
  {
   "cell_type": "code",
   "execution_count": 80,
   "metadata": {},
   "outputs": [],
   "source": [
    "#how to rename directory\n",
    "os.rename('newwork','newexam')"
   ]
  },
  {
   "cell_type": "code",
   "execution_count": 81,
   "metadata": {},
   "outputs": [
    {
     "data": {
      "text/plain": [
       "['.ipynb_checkpoints',\n",
       " 'array.ipynb',\n",
       " 'classes in python.ipynb',\n",
       " 'demo.txt',\n",
       " 'demo1.txt',\n",
       " 'dictionary and assingment 3.ipynb',\n",
       " 'emp_data.txt',\n",
       " 'file Handling.ipynb',\n",
       " 'lines.txt',\n",
       " 'maxletter.txt',\n",
       " 'multi.txt',\n",
       " 'newexam',\n",
       " 'numpy library.ipynb',\n",
       " 'practice.ipynb',\n",
       " 'practicee que and exception handling.ipynb',\n",
       " 'practiceque.ipynb',\n",
       " 'practicequestions.ipynb',\n",
       " 'python basics.ipynb',\n",
       " 'tuple and set.ipynb',\n",
       " 'Untitled.ipynb',\n",
       " 'Untitled1.ipynb']"
      ]
     },
     "execution_count": 81,
     "metadata": {},
     "output_type": "execute_result"
    }
   ],
   "source": [
    "os.listdir()"
   ]
  },
  {
   "cell_type": "code",
   "execution_count": 89,
   "metadata": {},
   "outputs": [],
   "source": [
    "os.chdir(\"C:\\\\Users\\\\user\\\\Desktop\\\\Python\\\\newexam\")"
   ]
  },
  {
   "cell_type": "code",
   "execution_count": 90,
   "metadata": {},
   "outputs": [
    {
     "data": {
      "text/plain": [
       "'C:\\\\Users\\\\user\\\\Desktop\\\\Python\\\\newexam'"
      ]
     },
     "execution_count": 90,
     "metadata": {},
     "output_type": "execute_result"
    }
   ],
   "source": [
    "os.getcwd()"
   ]
  },
  {
   "cell_type": "code",
   "execution_count": 91,
   "metadata": {},
   "outputs": [],
   "source": [
    "with open(\"text.txt\",\"w\") as f:\n",
    "    f.write(\"asjadkjadf\")\n",
    "    f.close()"
   ]
  },
  {
   "cell_type": "code",
   "execution_count": 93,
   "metadata": {},
   "outputs": [
    {
     "name": "stdout",
     "output_type": "stream",
     "text": [
      "asjadkjadf\n"
     ]
    }
   ],
   "source": [
    "with open(\"text.txt\",\"r\") as f:\n",
    "    print(f.read())\n",
    "    f.close()"
   ]
  },
  {
   "cell_type": "code",
   "execution_count": 96,
   "metadata": {},
   "outputs": [],
   "source": [
    "os.chdir(\"C:\\\\Users\\\\user\\\\Desktop\\\\Python\")"
   ]
  },
  {
   "cell_type": "code",
   "execution_count": 97,
   "metadata": {},
   "outputs": [
    {
     "data": {
      "text/plain": [
       "'C:\\\\Users\\\\user\\\\Desktop\\\\Python'"
      ]
     },
     "execution_count": 97,
     "metadata": {},
     "output_type": "execute_result"
    }
   ],
   "source": [
    "os.getcwd()"
   ]
  },
  {
   "cell_type": "code",
   "execution_count": 98,
   "metadata": {},
   "outputs": [
    {
     "ename": "OSError",
     "evalue": "[WinError 145] The directory is not empty: 'newexam'",
     "output_type": "error",
     "traceback": [
      "\u001b[1;31m---------------------------------------------------------------------------\u001b[0m",
      "\u001b[1;31mOSError\u001b[0m                                   Traceback (most recent call last)",
      "\u001b[1;32m<ipython-input-98-a6b954f21bca>\u001b[0m in \u001b[0;36m<module>\u001b[1;34m\u001b[0m\n\u001b[1;32m----> 1\u001b[1;33m \u001b[0mos\u001b[0m\u001b[1;33m.\u001b[0m\u001b[0mrmdir\u001b[0m\u001b[1;33m(\u001b[0m\u001b[1;34m\"newexam\"\u001b[0m\u001b[1;33m)\u001b[0m\u001b[1;33m\u001b[0m\u001b[1;33m\u001b[0m\u001b[0m\n\u001b[0m",
      "\u001b[1;31mOSError\u001b[0m: [WinError 145] The directory is not empty: 'newexam'"
     ]
    }
   ],
   "source": [
    "os.rmdir(\"newexam\")"
   ]
  },
  {
   "cell_type": "code",
   "execution_count": 100,
   "metadata": {},
   "outputs": [],
   "source": [
    "import shutil"
   ]
  },
  {
   "cell_type": "code",
   "execution_count": 101,
   "metadata": {},
   "outputs": [],
   "source": [
    "shutil.rmtree(\"newexam\")"
   ]
  },
  {
   "cell_type": "code",
   "execution_count": 102,
   "metadata": {},
   "outputs": [
    {
     "data": {
      "text/plain": [
       "['.ipynb_checkpoints',\n",
       " 'array.ipynb',\n",
       " 'classes in python.ipynb',\n",
       " 'demo.txt',\n",
       " 'demo1.txt',\n",
       " 'dictionary and assingment 3.ipynb',\n",
       " 'emp_data.txt',\n",
       " 'file Handling.ipynb',\n",
       " 'lines.txt',\n",
       " 'maxletter.txt',\n",
       " 'multi.txt',\n",
       " 'numpy library.ipynb',\n",
       " 'practice.ipynb',\n",
       " 'practicee que and exception handling.ipynb',\n",
       " 'practiceque.ipynb',\n",
       " 'practicequestions.ipynb',\n",
       " 'python basics.ipynb',\n",
       " 'tuple and set.ipynb',\n",
       " 'Untitled.ipynb',\n",
       " 'Untitled1.ipynb']"
      ]
     },
     "execution_count": 102,
     "metadata": {},
     "output_type": "execute_result"
    }
   ],
   "source": [
    "os.listdir()"
   ]
  },
  {
   "cell_type": "code",
   "execution_count": 103,
   "metadata": {},
   "outputs": [],
   "source": [
    "with open(\"text.txt\",\"w\") as f:\n",
    "    f.write(\"asjadkjadf\")\n",
    "    f.close()"
   ]
  },
  {
   "cell_type": "code",
   "execution_count": 132,
   "metadata": {},
   "outputs": [
    {
     "name": "stdout",
     "output_type": "stream",
     "text": [
      "0\n",
      "asjadkjadf\n",
      "10\n",
      "9\n",
      "f\n"
     ]
    }
   ],
   "source": [
    "with open(\"text.txt\",\"r\") as f:\n",
    "    print(f.tell())# tells us where is cursor at present\n",
    "    print(f.readline())\n",
    "    print(f.tell())\n",
    "    f.seek(9,0)\n",
    "    print(f.tell())\n",
    "    print(f.readline())"
   ]
  },
  {
   "cell_type": "code",
   "execution_count": 201,
   "metadata": {},
   "outputs": [
    {
     "name": "stdout",
     "output_type": "stream",
     "text": [
      "hi how are u i am fine thankyou what about you? i am also fine   \n"
     ]
    }
   ],
   "source": [
    "#PROGRAM TO REMOVE \"\\n\" from a file\n",
    "try:\n",
    "    with open(\"lines.txt\",\"r\") as fi:\n",
    "        char = fi.read()\n",
    "        list = char.split(\"\\n\")\n",
    "        str5 = \"\"\n",
    "        for i in list:\n",
    "            str5 = str5 + \"\".join(i) + \" \"\n",
    "        print(str5)\n",
    "except Exception as e:\n",
    "    print(e)\n",
    "with open(\"lines.txt\",\"w\") as fi:\n",
    "    fi.write(str5)\n",
    "    fi.close()"
   ]
  },
  {
   "cell_type": "code",
   "execution_count": 169,
   "metadata": {},
   "outputs": [
    {
     "name": "stdout",
     "output_type": "stream",
     "text": [
      "hi how are u i am fine thankyou what about you? i am also fine \n"
     ]
    }
   ],
   "source": [
    "with open(\"lines.txt\",\"r\") as fi:\n",
    "       print(fi.read())"
   ]
  },
  {
   "cell_type": "code",
   "execution_count": 194,
   "metadata": {},
   "outputs": [],
   "source": [
    "#PROGRAM TO REMOVE DUPLICATE LINES\n",
    "with open(\"removedup.txt\",\"w\") as fi:\n",
    "    fi.write(\"hi i am using jupyter\\n\")\n",
    "    fi.write(\"ok thats good\\n\")\n",
    "    fi.write(\"hi i am using jupyter\\n\")    \n",
    "    fi.write(\"okk i already know that\\n\")\n",
    "    fi.write(\"hi i am using jupyter\\n\")\n",
    "    fi.write(\"can you please keep quiet\")\n",
    "    fi.close()"
   ]
  },
  {
   "cell_type": "code",
   "execution_count": 195,
   "metadata": {},
   "outputs": [
    {
     "name": "stdout",
     "output_type": "stream",
     "text": [
      "['hi i am using jupyter', 'ok thats good', 'hi i am using jupyter', 'okk i already know that', 'hi i am using jupyter', 'can you please keep quiet']\n"
     ]
    }
   ],
   "source": [
    "with open(\"removedup.txt\",\"r\") as fi:\n",
    "    char = fi.read()\n",
    "    list2 = char.split(\"\\n\")\n",
    "    print(list2)\n",
    "    result = \"\" \n",
    "    for i in list2:\n",
    "        if i not in result:\n",
    "            result = result + \"\".join(i) + \"\\n\"\n",
    "with open(\"removedup.txt\",\"w\") as fi:\n",
    "    fi.write(result)\n",
    "    fi.close()"
   ]
  },
  {
   "cell_type": "code",
   "execution_count": 196,
   "metadata": {},
   "outputs": [
    {
     "name": "stdout",
     "output_type": "stream",
     "text": [
      "hi i am using jupyter\n",
      "ok thats good\n",
      "okk i already know that\n",
      "can you please keep quiet\n",
      "\n"
     ]
    }
   ],
   "source": [
    "with open(\"removedup.txt\",\"r\") as fi:\n",
    "    print(fi.read())"
   ]
  },
  {
   "cell_type": "code",
   "execution_count": null,
   "metadata": {},
   "outputs": [],
   "source": []
  }
 ],
 "metadata": {
  "kernelspec": {
   "display_name": "Python 3",
   "language": "python",
   "name": "python3"
  },
  "language_info": {
   "codemirror_mode": {
    "name": "ipython",
    "version": 3
   },
   "file_extension": ".py",
   "mimetype": "text/x-python",
   "name": "python",
   "nbconvert_exporter": "python",
   "pygments_lexer": "ipython3",
   "version": "3.7.6"
  }
 },
 "nbformat": 4,
 "nbformat_minor": 4
}
