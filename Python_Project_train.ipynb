{
 "cells": [
  {
   "cell_type": "code",
   "execution_count": 3,
   "metadata": {},
   "outputs": [],
   "source": [
    "import pandas as pd\n",
    "import numpy as np\n",
    "from scipy.stats import skew\n",
    "from scipy.stats import kurtosis"
   ]
  },
  {
   "cell_type": "code",
   "execution_count": 4,
   "metadata": {},
   "outputs": [
    {
     "name": "stdout",
     "output_type": "stream",
     "text": [
      "[WinError 3] The system cannot find the path specified: 'desktop\\\\python'\n",
      "C:\\Users\\user\\Desktop\\Python\\imarticus\n"
     ]
    }
   ],
   "source": [
    "cd desktop\\python\n"
   ]
  },
  {
   "cell_type": "code",
   "execution_count": 5,
   "metadata": {},
   "outputs": [
    {
     "name": "stdout",
     "output_type": "stream",
     "text": [
      "[WinError 2] The system cannot find the file specified: 'imarticus'\n",
      "C:\\Users\\user\\Desktop\\Python\\imarticus\n"
     ]
    }
   ],
   "source": [
    "cd imarticus"
   ]
  },
  {
   "cell_type": "code",
   "execution_count": 6,
   "metadata": {},
   "outputs": [],
   "source": [
    "yt_data = pd.read_csv('train.csv')"
   ]
  },
  {
   "cell_type": "code",
   "execution_count": 7,
   "metadata": {},
   "outputs": [],
   "source": [
    "data = pd.DataFrame(yt_data)"
   ]
  },
  {
   "cell_type": "code",
   "execution_count": 8,
   "metadata": {},
   "outputs": [
    {
     "data": {
      "text/html": [
       "<div>\n",
       "<style scoped>\n",
       "    .dataframe tbody tr th:only-of-type {\n",
       "        vertical-align: middle;\n",
       "    }\n",
       "\n",
       "    .dataframe tbody tr th {\n",
       "        vertical-align: top;\n",
       "    }\n",
       "\n",
       "    .dataframe thead th {\n",
       "        text-align: right;\n",
       "    }\n",
       "</style>\n",
       "<table border=\"1\" class=\"dataframe\">\n",
       "  <thead>\n",
       "    <tr style=\"text-align: right;\">\n",
       "      <th></th>\n",
       "      <th>Video_id</th>\n",
       "      <th>category_id</th>\n",
       "      <th>channel_title</th>\n",
       "      <th>subscriber</th>\n",
       "      <th>title</th>\n",
       "      <th>tags</th>\n",
       "      <th>description</th>\n",
       "      <th>Trend_day_count</th>\n",
       "      <th>Tag_count</th>\n",
       "      <th>Trend_tag_count</th>\n",
       "      <th>comment_count</th>\n",
       "      <th>comment_disabled</th>\n",
       "      <th>like dislike disabled</th>\n",
       "      <th>likes</th>\n",
       "      <th>dislike</th>\n",
       "      <th>tag appered in title</th>\n",
       "      <th>views</th>\n",
       "      <th>Unnamed: 17</th>\n",
       "      <th>Unnamed: 18</th>\n",
       "    </tr>\n",
       "  </thead>\n",
       "  <tbody>\n",
       "    <tr>\n",
       "      <th>0</th>\n",
       "      <td>HDR9SQc79</td>\n",
       "      <td>22</td>\n",
       "      <td>CaseyNeistat</td>\n",
       "      <td>9086142.0</td>\n",
       "      <td>WE WANT TO TALK ABOUT OUR MARRIAGE</td>\n",
       "      <td>SHANtell martin</td>\n",
       "      <td>SHANTELL'S CHANNEL - https://www.youtube.com/s...</td>\n",
       "      <td>6.0</td>\n",
       "      <td>21</td>\n",
       "      <td>6</td>\n",
       "      <td></td>\n",
       "      <td>FALSE</td>\n",
       "      <td>FALSE</td>\n",
       "      <td>13342</td>\n",
       "      <td>6089</td>\n",
       "      <td>False</td>\n",
       "      <td>1978978</td>\n",
       "      <td>NaN</td>\n",
       "      <td>NaN</td>\n",
       "    </tr>\n",
       "    <tr>\n",
       "      <th>1</th>\n",
       "      <td>KNH52UF?48</td>\n",
       "      <td>24</td>\n",
       "      <td>LastWeekTonight</td>\n",
       "      <td>5937292.0</td>\n",
       "      <td>The Trump Presidency: Last Week Tonight with J...</td>\n",
       "      <td>last week tonight trump presidency|last week t...</td>\n",
       "      <td>One year after the presidential election, John...</td>\n",
       "      <td>1.0</td>\n",
       "      <td>23</td>\n",
       "      <td>1</td>\n",
       "      <td>116266</td>\n",
       "      <td>TRUE</td>\n",
       "      <td>FALSE</td>\n",
       "      <td>5761</td>\n",
       "      <td>3044</td>\n",
       "      <td>False</td>\n",
       "      <td>1487870</td>\n",
       "      <td>NaN</td>\n",
       "      <td>NaN</td>\n",
       "    </tr>\n",
       "    <tr>\n",
       "      <th>2</th>\n",
       "      <td>QTW28IRG36</td>\n",
       "      <td>23</td>\n",
       "      <td>Rudy Mancuso</td>\n",
       "      <td>4191209.0</td>\n",
       "      <td>Racist Superman | Rudy Mancuso, King Bach &amp; Le...</td>\n",
       "      <td>racist superman|rudy|mancuso|king|bach|racist|...</td>\n",
       "      <td>WATCH MY PREVIOUS VIDEO ▶ \\n\\nSUBSCRIBE ► http...</td>\n",
       "      <td>10.0</td>\n",
       "      <td>22</td>\n",
       "      <td>3</td>\n",
       "      <td>257850</td>\n",
       "      <td>TRUE</td>\n",
       "      <td>TRUE</td>\n",
       "      <td>0</td>\n",
       "      <td>0</td>\n",
       "      <td>True</td>\n",
       "      <td>1502102</td>\n",
       "      <td>NaN</td>\n",
       "      <td>NaN</td>\n",
       "    </tr>\n",
       "    <tr>\n",
       "      <th>3</th>\n",
       "      <td>MGL76WI]26</td>\n",
       "      <td>24</td>\n",
       "      <td>Good Mythical Morning</td>\n",
       "      <td>13186408.0</td>\n",
       "      <td>Nickelback Lyrics: Real or Fake?</td>\n",
       "      <td>rhett and link|gmm|good mythical morning|rhett...</td>\n",
       "      <td>Today we find out if Link is a Nickelback amat...</td>\n",
       "      <td>12.0</td>\n",
       "      <td>17</td>\n",
       "      <td>5</td>\n",
       "      <td>263939</td>\n",
       "      <td>TRUE</td>\n",
       "      <td>TRUE</td>\n",
       "      <td>0</td>\n",
       "      <td>0</td>\n",
       "      <td>True</td>\n",
       "      <td>3519302</td>\n",
       "      <td>NaN</td>\n",
       "      <td>NaN</td>\n",
       "    </tr>\n",
       "    <tr>\n",
       "      <th>4</th>\n",
       "      <td>TWP93KXT70</td>\n",
       "      <td>24</td>\n",
       "      <td>nigahiga</td>\n",
       "      <td>20563106.0</td>\n",
       "      <td>I Dare You: GOING BALD!?</td>\n",
       "      <td>ryan|higa|higatv|nigahiga|i dare you|idy|rhpc|...</td>\n",
       "      <td>I know it's been a while since we did this sho...</td>\n",
       "      <td>11.0</td>\n",
       "      <td>15</td>\n",
       "      <td>7</td>\n",
       "      <td>268085</td>\n",
       "      <td>TRUE</td>\n",
       "      <td>TRUE</td>\n",
       "      <td>0</td>\n",
       "      <td>0</td>\n",
       "      <td>True</td>\n",
       "      <td>4835374</td>\n",
       "      <td>NaN</td>\n",
       "      <td>NaN</td>\n",
       "    </tr>\n",
       "  </tbody>\n",
       "</table>\n",
       "</div>"
      ],
      "text/plain": [
       "     Video_id category_id          channel_title  subscriber  \\\n",
       "0   HDR9SQc79          22           CaseyNeistat   9086142.0   \n",
       "1  KNH52UF?48          24        LastWeekTonight   5937292.0   \n",
       "2  QTW28IRG36          23           Rudy Mancuso   4191209.0   \n",
       "3  MGL76WI]26          24  Good Mythical Morning  13186408.0   \n",
       "4  TWP93KXT70          24               nigahiga  20563106.0   \n",
       "\n",
       "                                               title  \\\n",
       "0                 WE WANT TO TALK ABOUT OUR MARRIAGE   \n",
       "1  The Trump Presidency: Last Week Tonight with J...   \n",
       "2  Racist Superman | Rudy Mancuso, King Bach & Le...   \n",
       "3                   Nickelback Lyrics: Real or Fake?   \n",
       "4                           I Dare You: GOING BALD!?   \n",
       "\n",
       "                                                tags  \\\n",
       "0                                    SHANtell martin   \n",
       "1  last week tonight trump presidency|last week t...   \n",
       "2  racist superman|rudy|mancuso|king|bach|racist|...   \n",
       "3  rhett and link|gmm|good mythical morning|rhett...   \n",
       "4  ryan|higa|higatv|nigahiga|i dare you|idy|rhpc|...   \n",
       "\n",
       "                                         description  Trend_day_count  \\\n",
       "0  SHANTELL'S CHANNEL - https://www.youtube.com/s...              6.0   \n",
       "1  One year after the presidential election, John...              1.0   \n",
       "2  WATCH MY PREVIOUS VIDEO ▶ \\n\\nSUBSCRIBE ► http...             10.0   \n",
       "3  Today we find out if Link is a Nickelback amat...             12.0   \n",
       "4  I know it's been a while since we did this sho...             11.0   \n",
       "\n",
       "  Tag_count Trend_tag_count comment_count comment_disabled  \\\n",
       "0        21               6                          FALSE   \n",
       "1        23               1        116266             TRUE   \n",
       "2        22               3        257850             TRUE   \n",
       "3        17               5        263939             TRUE   \n",
       "4        15               7        268085             TRUE   \n",
       "\n",
       "  like dislike disabled  likes dislike tag appered in title    views  \\\n",
       "0                 FALSE  13342    6089                False  1978978   \n",
       "1                 FALSE   5761    3044                False  1487870   \n",
       "2                  TRUE      0       0                 True  1502102   \n",
       "3                  TRUE      0       0                 True  3519302   \n",
       "4                  TRUE      0       0                 True  4835374   \n",
       "\n",
       "   Unnamed: 17 Unnamed: 18  \n",
       "0          NaN         NaN  \n",
       "1          NaN         NaN  \n",
       "2          NaN         NaN  \n",
       "3          NaN         NaN  \n",
       "4          NaN         NaN  "
      ]
     },
     "execution_count": 8,
     "metadata": {},
     "output_type": "execute_result"
    }
   ],
   "source": [
    "data.head()"
   ]
  },
  {
   "cell_type": "code",
   "execution_count": 9,
   "metadata": {},
   "outputs": [],
   "source": [
    "data = data.drop('Unnamed: 17', axis=1)"
   ]
  },
  {
   "cell_type": "code",
   "execution_count": 10,
   "metadata": {},
   "outputs": [],
   "source": [
    "data = data.drop('Unnamed: 18', axis=1)"
   ]
  },
  {
   "cell_type": "code",
   "execution_count": 11,
   "metadata": {},
   "outputs": [],
   "source": [
    "data['comment_count'] = data['comment_count'].replace(' ',0)\n",
    "# as comments are not mentiioned for some of channels so i can assume it as zero"
   ]
  },
  {
   "cell_type": "code",
   "execution_count": 12,
   "metadata": {},
   "outputs": [
    {
     "data": {
      "text/html": [
       "<div>\n",
       "<style scoped>\n",
       "    .dataframe tbody tr th:only-of-type {\n",
       "        vertical-align: middle;\n",
       "    }\n",
       "\n",
       "    .dataframe tbody tr th {\n",
       "        vertical-align: top;\n",
       "    }\n",
       "\n",
       "    .dataframe thead th {\n",
       "        text-align: right;\n",
       "    }\n",
       "</style>\n",
       "<table border=\"1\" class=\"dataframe\">\n",
       "  <thead>\n",
       "    <tr style=\"text-align: right;\">\n",
       "      <th></th>\n",
       "      <th>Video_id</th>\n",
       "      <th>category_id</th>\n",
       "      <th>channel_title</th>\n",
       "      <th>subscriber</th>\n",
       "      <th>title</th>\n",
       "      <th>tags</th>\n",
       "      <th>description</th>\n",
       "      <th>Trend_day_count</th>\n",
       "      <th>Tag_count</th>\n",
       "      <th>Trend_tag_count</th>\n",
       "      <th>comment_count</th>\n",
       "      <th>comment_disabled</th>\n",
       "      <th>like dislike disabled</th>\n",
       "      <th>likes</th>\n",
       "      <th>dislike</th>\n",
       "      <th>tag appered in title</th>\n",
       "      <th>views</th>\n",
       "    </tr>\n",
       "  </thead>\n",
       "  <tbody>\n",
       "    <tr>\n",
       "      <th>0</th>\n",
       "      <td>HDR9SQc79</td>\n",
       "      <td>22</td>\n",
       "      <td>CaseyNeistat</td>\n",
       "      <td>9086142.0</td>\n",
       "      <td>WE WANT TO TALK ABOUT OUR MARRIAGE</td>\n",
       "      <td>SHANtell martin</td>\n",
       "      <td>SHANTELL'S CHANNEL - https://www.youtube.com/s...</td>\n",
       "      <td>6.0</td>\n",
       "      <td>21</td>\n",
       "      <td>6</td>\n",
       "      <td>0</td>\n",
       "      <td>FALSE</td>\n",
       "      <td>FALSE</td>\n",
       "      <td>13342</td>\n",
       "      <td>6089</td>\n",
       "      <td>False</td>\n",
       "      <td>1978978</td>\n",
       "    </tr>\n",
       "    <tr>\n",
       "      <th>1</th>\n",
       "      <td>KNH52UF?48</td>\n",
       "      <td>24</td>\n",
       "      <td>LastWeekTonight</td>\n",
       "      <td>5937292.0</td>\n",
       "      <td>The Trump Presidency: Last Week Tonight with J...</td>\n",
       "      <td>last week tonight trump presidency|last week t...</td>\n",
       "      <td>One year after the presidential election, John...</td>\n",
       "      <td>1.0</td>\n",
       "      <td>23</td>\n",
       "      <td>1</td>\n",
       "      <td>116266</td>\n",
       "      <td>TRUE</td>\n",
       "      <td>FALSE</td>\n",
       "      <td>5761</td>\n",
       "      <td>3044</td>\n",
       "      <td>False</td>\n",
       "      <td>1487870</td>\n",
       "    </tr>\n",
       "    <tr>\n",
       "      <th>2</th>\n",
       "      <td>QTW28IRG36</td>\n",
       "      <td>23</td>\n",
       "      <td>Rudy Mancuso</td>\n",
       "      <td>4191209.0</td>\n",
       "      <td>Racist Superman | Rudy Mancuso, King Bach &amp; Le...</td>\n",
       "      <td>racist superman|rudy|mancuso|king|bach|racist|...</td>\n",
       "      <td>WATCH MY PREVIOUS VIDEO ▶ \\n\\nSUBSCRIBE ► http...</td>\n",
       "      <td>10.0</td>\n",
       "      <td>22</td>\n",
       "      <td>3</td>\n",
       "      <td>257850</td>\n",
       "      <td>TRUE</td>\n",
       "      <td>TRUE</td>\n",
       "      <td>0</td>\n",
       "      <td>0</td>\n",
       "      <td>True</td>\n",
       "      <td>1502102</td>\n",
       "    </tr>\n",
       "    <tr>\n",
       "      <th>3</th>\n",
       "      <td>MGL76WI]26</td>\n",
       "      <td>24</td>\n",
       "      <td>Good Mythical Morning</td>\n",
       "      <td>13186408.0</td>\n",
       "      <td>Nickelback Lyrics: Real or Fake?</td>\n",
       "      <td>rhett and link|gmm|good mythical morning|rhett...</td>\n",
       "      <td>Today we find out if Link is a Nickelback amat...</td>\n",
       "      <td>12.0</td>\n",
       "      <td>17</td>\n",
       "      <td>5</td>\n",
       "      <td>263939</td>\n",
       "      <td>TRUE</td>\n",
       "      <td>TRUE</td>\n",
       "      <td>0</td>\n",
       "      <td>0</td>\n",
       "      <td>True</td>\n",
       "      <td>3519302</td>\n",
       "    </tr>\n",
       "    <tr>\n",
       "      <th>4</th>\n",
       "      <td>TWP93KXT70</td>\n",
       "      <td>24</td>\n",
       "      <td>nigahiga</td>\n",
       "      <td>20563106.0</td>\n",
       "      <td>I Dare You: GOING BALD!?</td>\n",
       "      <td>ryan|higa|higatv|nigahiga|i dare you|idy|rhpc|...</td>\n",
       "      <td>I know it's been a while since we did this sho...</td>\n",
       "      <td>11.0</td>\n",
       "      <td>15</td>\n",
       "      <td>7</td>\n",
       "      <td>268085</td>\n",
       "      <td>TRUE</td>\n",
       "      <td>TRUE</td>\n",
       "      <td>0</td>\n",
       "      <td>0</td>\n",
       "      <td>True</td>\n",
       "      <td>4835374</td>\n",
       "    </tr>\n",
       "    <tr>\n",
       "      <th>...</th>\n",
       "      <td>...</td>\n",
       "      <td>...</td>\n",
       "      <td>...</td>\n",
       "      <td>...</td>\n",
       "      <td>...</td>\n",
       "      <td>...</td>\n",
       "      <td>...</td>\n",
       "      <td>...</td>\n",
       "      <td>...</td>\n",
       "      <td>...</td>\n",
       "      <td>...</td>\n",
       "      <td>...</td>\n",
       "      <td>...</td>\n",
       "      <td>...</td>\n",
       "      <td>...</td>\n",
       "      <td>...</td>\n",
       "      <td>...</td>\n",
       "    </tr>\n",
       "    <tr>\n",
       "      <th>3193</th>\n",
       "      <td>OKR48DOE67</td>\n",
       "      <td>20</td>\n",
       "      <td>EA SPORTS FIFA</td>\n",
       "      <td>3150213.0</td>\n",
       "      <td>FIFA 18 - FUT Champions Cup Barcelona - Day 1</td>\n",
       "      <td>fifa|fifa ultimate team|fut|fifa pack opening|...</td>\n",
       "      <td>Day 1 of the FUT Champions Cup Barcelona featu...</td>\n",
       "      <td>7.0</td>\n",
       "      <td>20</td>\n",
       "      <td>5</td>\n",
       "      <td>0</td>\n",
       "      <td>FALSE</td>\n",
       "      <td>FALSE</td>\n",
       "      <td>9734</td>\n",
       "      <td>5912</td>\n",
       "      <td>False</td>\n",
       "      <td>747960</td>\n",
       "    </tr>\n",
       "    <tr>\n",
       "      <th>3194</th>\n",
       "      <td>QJK69DS?91</td>\n",
       "      <td>10</td>\n",
       "      <td>JackWhiteVEVO</td>\n",
       "      <td>261596.0</td>\n",
       "      <td>Jack White - Corporation (Audio)</td>\n",
       "      <td>Alternative|Corporation|Jack White|Third Man R...</td>\n",
       "      <td>“Corporation” by Jack White from the forthcomi...</td>\n",
       "      <td>7.0</td>\n",
       "      <td>8</td>\n",
       "      <td>6</td>\n",
       "      <td>0</td>\n",
       "      <td>FALSE</td>\n",
       "      <td>FALSE</td>\n",
       "      <td>16006</td>\n",
       "      <td>12019</td>\n",
       "      <td>True</td>\n",
       "      <td>200410</td>\n",
       "    </tr>\n",
       "    <tr>\n",
       "      <th>3195</th>\n",
       "      <td>VHF51NVr11</td>\n",
       "      <td>10</td>\n",
       "      <td>JamesBlakeVEVO</td>\n",
       "      <td>28321.0</td>\n",
       "      <td>James Blake - If The Car Beside You Moves Ahea...</td>\n",
       "      <td>James|Blake|If|The|Car|Beside|You|Moves|Ahead|...</td>\n",
       "      <td>If the car beside you moves ahead \\nAs much as...</td>\n",
       "      <td>11.0</td>\n",
       "      <td>15</td>\n",
       "      <td>4</td>\n",
       "      <td>0</td>\n",
       "      <td>FALSE</td>\n",
       "      <td>TRUE</td>\n",
       "      <td>0</td>\n",
       "      <td>0</td>\n",
       "      <td>True</td>\n",
       "      <td>244022</td>\n",
       "    </tr>\n",
       "    <tr>\n",
       "      <th>3196</th>\n",
       "      <td>XHU22OAJ39</td>\n",
       "      <td>26</td>\n",
       "      <td>Refinery29</td>\n",
       "      <td>890739.0</td>\n",
       "      <td>Lucie Fink Trains Like A Professional Gymnast ...</td>\n",
       "      <td>refinery29|refinery 29|r29|r29 video|refinery2...</td>\n",
       "      <td>On this episode of Lucie For Hire, our host Lu...</td>\n",
       "      <td>11.0</td>\n",
       "      <td>14</td>\n",
       "      <td>6</td>\n",
       "      <td>250750</td>\n",
       "      <td>TRUE</td>\n",
       "      <td>FALSE</td>\n",
       "      <td>6859</td>\n",
       "      <td>1247</td>\n",
       "      <td>True</td>\n",
       "      <td>907340</td>\n",
       "    </tr>\n",
       "    <tr>\n",
       "      <th>3197</th>\n",
       "      <td>IFD79NSG47</td>\n",
       "      <td>22</td>\n",
       "      <td>MN khan</td>\n",
       "      <td>0.0</td>\n",
       "      <td>Man drops magnum of Champagne on the floor in ...</td>\n",
       "      <td>NaN</td>\n",
       "      <td>Man spills magnum of champagne ‘worth £30,000’...</td>\n",
       "      <td>12.0</td>\n",
       "      <td>12</td>\n",
       "      <td>4</td>\n",
       "      <td>32337</td>\n",
       "      <td>TRUE</td>\n",
       "      <td>FALSE</td>\n",
       "      <td>8339</td>\n",
       "      <td>5436</td>\n",
       "      <td>True</td>\n",
       "      <td>465531</td>\n",
       "    </tr>\n",
       "  </tbody>\n",
       "</table>\n",
       "<p>3198 rows × 17 columns</p>\n",
       "</div>"
      ],
      "text/plain": [
       "        Video_id category_id          channel_title  subscriber  \\\n",
       "0      HDR9SQc79          22           CaseyNeistat   9086142.0   \n",
       "1     KNH52UF?48          24        LastWeekTonight   5937292.0   \n",
       "2     QTW28IRG36          23           Rudy Mancuso   4191209.0   \n",
       "3     MGL76WI]26          24  Good Mythical Morning  13186408.0   \n",
       "4     TWP93KXT70          24               nigahiga  20563106.0   \n",
       "...          ...         ...                    ...         ...   \n",
       "3193  OKR48DOE67          20         EA SPORTS FIFA   3150213.0   \n",
       "3194  QJK69DS?91          10          JackWhiteVEVO    261596.0   \n",
       "3195  VHF51NVr11          10         JamesBlakeVEVO     28321.0   \n",
       "3196  XHU22OAJ39          26             Refinery29    890739.0   \n",
       "3197  IFD79NSG47          22                MN khan         0.0   \n",
       "\n",
       "                                                  title  \\\n",
       "0                    WE WANT TO TALK ABOUT OUR MARRIAGE   \n",
       "1     The Trump Presidency: Last Week Tonight with J...   \n",
       "2     Racist Superman | Rudy Mancuso, King Bach & Le...   \n",
       "3                      Nickelback Lyrics: Real or Fake?   \n",
       "4                              I Dare You: GOING BALD!?   \n",
       "...                                                 ...   \n",
       "3193      FIFA 18 - FUT Champions Cup Barcelona - Day 1   \n",
       "3194                   Jack White - Corporation (Audio)   \n",
       "3195  James Blake - If The Car Beside You Moves Ahea...   \n",
       "3196  Lucie Fink Trains Like A Professional Gymnast ...   \n",
       "3197  Man drops magnum of Champagne on the floor in ...   \n",
       "\n",
       "                                                   tags  \\\n",
       "0                                       SHANtell martin   \n",
       "1     last week tonight trump presidency|last week t...   \n",
       "2     racist superman|rudy|mancuso|king|bach|racist|...   \n",
       "3     rhett and link|gmm|good mythical morning|rhett...   \n",
       "4     ryan|higa|higatv|nigahiga|i dare you|idy|rhpc|...   \n",
       "...                                                 ...   \n",
       "3193  fifa|fifa ultimate team|fut|fifa pack opening|...   \n",
       "3194  Alternative|Corporation|Jack White|Third Man R...   \n",
       "3195  James|Blake|If|The|Car|Beside|You|Moves|Ahead|...   \n",
       "3196  refinery29|refinery 29|r29|r29 video|refinery2...   \n",
       "3197                                                NaN   \n",
       "\n",
       "                                            description  Trend_day_count  \\\n",
       "0     SHANTELL'S CHANNEL - https://www.youtube.com/s...              6.0   \n",
       "1     One year after the presidential election, John...              1.0   \n",
       "2     WATCH MY PREVIOUS VIDEO ▶ \\n\\nSUBSCRIBE ► http...             10.0   \n",
       "3     Today we find out if Link is a Nickelback amat...             12.0   \n",
       "4     I know it's been a while since we did this sho...             11.0   \n",
       "...                                                 ...              ...   \n",
       "3193  Day 1 of the FUT Champions Cup Barcelona featu...              7.0   \n",
       "3194  “Corporation” by Jack White from the forthcomi...              7.0   \n",
       "3195  If the car beside you moves ahead \\nAs much as...             11.0   \n",
       "3196  On this episode of Lucie For Hire, our host Lu...             11.0   \n",
       "3197  Man spills magnum of champagne ‘worth £30,000’...             12.0   \n",
       "\n",
       "     Tag_count Trend_tag_count comment_count comment_disabled  \\\n",
       "0           21               6             0            FALSE   \n",
       "1           23               1        116266             TRUE   \n",
       "2           22               3        257850             TRUE   \n",
       "3           17               5        263939             TRUE   \n",
       "4           15               7        268085             TRUE   \n",
       "...        ...             ...           ...              ...   \n",
       "3193        20               5             0            FALSE   \n",
       "3194         8               6             0            FALSE   \n",
       "3195        15               4             0            FALSE   \n",
       "3196        14               6        250750             TRUE   \n",
       "3197        12               4         32337             TRUE   \n",
       "\n",
       "     like dislike disabled  likes dislike tag appered in title    views  \n",
       "0                    FALSE  13342    6089                False  1978978  \n",
       "1                    FALSE   5761    3044                False  1487870  \n",
       "2                     TRUE      0       0                 True  1502102  \n",
       "3                     TRUE      0       0                 True  3519302  \n",
       "4                     TRUE      0       0                 True  4835374  \n",
       "...                    ...    ...     ...                  ...      ...  \n",
       "3193                 FALSE   9734    5912                False   747960  \n",
       "3194                 FALSE  16006   12019                 True   200410  \n",
       "3195                  TRUE      0       0                 True   244022  \n",
       "3196                 FALSE   6859    1247                 True   907340  \n",
       "3197                 FALSE   8339    5436                 True   465531  \n",
       "\n",
       "[3198 rows x 17 columns]"
      ]
     },
     "execution_count": 12,
     "metadata": {},
     "output_type": "execute_result"
    }
   ],
   "source": [
    "data"
   ]
  },
  {
   "cell_type": "code",
   "execution_count": 13,
   "metadata": {},
   "outputs": [
    {
     "data": {
      "text/plain": [
       "Index(['Video_id', 'category_id', 'channel_title', 'subscriber', 'title',\n",
       "       'tags', 'description', 'Trend_day_count', 'Tag_count',\n",
       "       'Trend_tag_count', 'comment_count', 'comment_disabled',\n",
       "       'like dislike disabled', 'likes', 'dislike', 'tag appered in title',\n",
       "       'views'],\n",
       "      dtype='object')"
      ]
     },
     "execution_count": 13,
     "metadata": {},
     "output_type": "execute_result"
    }
   ],
   "source": [
    "# now i want to categorise videos on the basis of category id\n",
    "\n",
    "data.columns"
   ]
  },
  {
   "cell_type": "code",
   "execution_count": 14,
   "metadata": {},
   "outputs": [
    {
     "data": {
      "text/plain": [
       "6"
      ]
     },
     "execution_count": 14,
     "metadata": {},
     "output_type": "execute_result"
    }
   ],
   "source": [
    "data['category_id'].isnull().sum()"
   ]
  },
  {
   "cell_type": "code",
   "execution_count": 15,
   "metadata": {},
   "outputs": [
    {
     "data": {
      "text/plain": [
       "array(['22', '24', '23', '28', '1', '25', '17', '10', '15', '27', '26',\n",
       "       '2', '19', '20', nan, '29', '“24', '43'], dtype=object)"
      ]
     },
     "execution_count": 15,
     "metadata": {},
     "output_type": "execute_result"
    }
   ],
   "source": [
    "data['category_id'].unique()"
   ]
  },
  {
   "cell_type": "code",
   "execution_count": 16,
   "metadata": {},
   "outputs": [
    {
     "data": {
      "text/html": [
       "<div>\n",
       "<style scoped>\n",
       "    .dataframe tbody tr th:only-of-type {\n",
       "        vertical-align: middle;\n",
       "    }\n",
       "\n",
       "    .dataframe tbody tr th {\n",
       "        vertical-align: top;\n",
       "    }\n",
       "\n",
       "    .dataframe thead th {\n",
       "        text-align: right;\n",
       "    }\n",
       "</style>\n",
       "<table border=\"1\" class=\"dataframe\">\n",
       "  <thead>\n",
       "    <tr style=\"text-align: right;\">\n",
       "      <th></th>\n",
       "      <th>Video_id</th>\n",
       "      <th>category_id</th>\n",
       "      <th>channel_title</th>\n",
       "      <th>subscriber</th>\n",
       "      <th>title</th>\n",
       "      <th>tags</th>\n",
       "      <th>description</th>\n",
       "      <th>Trend_day_count</th>\n",
       "      <th>Tag_count</th>\n",
       "      <th>Trend_tag_count</th>\n",
       "      <th>comment_count</th>\n",
       "      <th>comment_disabled</th>\n",
       "      <th>like dislike disabled</th>\n",
       "      <th>likes</th>\n",
       "      <th>dislike</th>\n",
       "      <th>tag appered in title</th>\n",
       "      <th>views</th>\n",
       "    </tr>\n",
       "  </thead>\n",
       "  <tbody>\n",
       "    <tr>\n",
       "      <th>187</th>\n",
       "      <td>HCQ73RZo7</td>\n",
       "      <td>NaN</td>\n",
       "      <td>Chicago Sun-Times</td>\n",
       "      <td>11133.0</td>\n",
       "      <td>Obama arrives for jury duty at Daley Center</td>\n",
       "      <td>NaN</td>\n",
       "      <td>Watch former President Barack Obama greet othe...</td>\n",
       "      <td>4.0</td>\n",
       "      <td>10</td>\n",
       "      <td>5</td>\n",
       "      <td>213427</td>\n",
       "      <td>TRUE</td>\n",
       "      <td>FALSE</td>\n",
       "      <td>14535</td>\n",
       "      <td>10728</td>\n",
       "      <td>False</td>\n",
       "      <td>537701</td>\n",
       "    </tr>\n",
       "    <tr>\n",
       "      <th>595</th>\n",
       "      <td>NLM1FZ&gt;80</td>\n",
       "      <td>NaN</td>\n",
       "      <td>The Infographics Show</td>\n",
       "      <td>1607518.0</td>\n",
       "      <td>How Likely Are You to Die During a Black Frida...</td>\n",
       "      <td>black friday|black friday sales|How Likely Are...</td>\n",
       "      <td>🐻 Check out our new channel: Fuzzy &amp; Nutz 🐿️ ►...</td>\n",
       "      <td>3.0</td>\n",
       "      <td>25</td>\n",
       "      <td>5</td>\n",
       "      <td>68068</td>\n",
       "      <td>TRUE</td>\n",
       "      <td>TRUE</td>\n",
       "      <td>0</td>\n",
       "      <td>0</td>\n",
       "      <td>True</td>\n",
       "      <td>517759</td>\n",
       "    </tr>\n",
       "    <tr>\n",
       "      <th>798</th>\n",
       "      <td>GKQ34HXG87</td>\n",
       "      <td>NaN</td>\n",
       "      <td>The Voice</td>\n",
       "      <td>5850161.0</td>\n",
       "      <td>The Voice 2017 - Team Miley: Man! I Feel Like ...</td>\n",
       "      <td>the voice|the voice nbc|the voice season 13|wa...</td>\n",
       "      <td>Miley Cyrus joins Ashland Craft, Brooke Simpso...</td>\n",
       "      <td>12.0</td>\n",
       "      <td>14</td>\n",
       "      <td>6</td>\n",
       "      <td>72128</td>\n",
       "      <td>TRUE</td>\n",
       "      <td>FALSE</td>\n",
       "      <td>14302</td>\n",
       "      <td>10959</td>\n",
       "      <td>True</td>\n",
       "      <td>1687526</td>\n",
       "    </tr>\n",
       "    <tr>\n",
       "      <th>864</th>\n",
       "      <td>NCX50MJl16</td>\n",
       "      <td>NaN</td>\n",
       "      <td>Trailers Promos Teasers</td>\n",
       "      <td>18000.0</td>\n",
       "      <td>All The Money In The World - TV Spot featuring...</td>\n",
       "      <td>All The Money In The World|Christopher Plummer</td>\n",
       "      <td>All The Money In The World - The story of the ...</td>\n",
       "      <td>4.0</td>\n",
       "      <td>21</td>\n",
       "      <td>2</td>\n",
       "      <td>0</td>\n",
       "      <td>FALSE</td>\n",
       "      <td>FALSE</td>\n",
       "      <td>15068</td>\n",
       "      <td>6486</td>\n",
       "      <td>True</td>\n",
       "      <td>123902</td>\n",
       "    </tr>\n",
       "    <tr>\n",
       "      <th>913</th>\n",
       "      <td>HOT6GH&gt;20</td>\n",
       "      <td>NaN</td>\n",
       "      <td>IISuperwomanII</td>\n",
       "      <td>13357328.0</td>\n",
       "      <td>When You Catch Your Boyfriend (ft. Nick Jonas)</td>\n",
       "      <td>iisuperwomanii|superwoman|team|super”|super|wo...</td>\n",
       "      <td>That moment when you awkwardly walk in and cat...</td>\n",
       "      <td>7.0</td>\n",
       "      <td>21</td>\n",
       "      <td>6</td>\n",
       "      <td>248173</td>\n",
       "      <td>TRUE</td>\n",
       "      <td>TRUE</td>\n",
       "      <td>0</td>\n",
       "      <td>0</td>\n",
       "      <td>True</td>\n",
       "      <td>3292905</td>\n",
       "    </tr>\n",
       "    <tr>\n",
       "      <th>972</th>\n",
       "      <td>HPR67IDa88</td>\n",
       "      <td>NaN</td>\n",
       "      <td>Shoshana Bean</td>\n",
       "      <td>24589.0</td>\n",
       "      <td>Taylor Swift - I Did Something Bad (Cover) | B...</td>\n",
       "      <td>taylor swift|reputation|acoustic|live|soul|pop...</td>\n",
       "      <td>Sho: @shobean\\nCynthia: @cynthiaerivo\\n\\nShot ...</td>\n",
       "      <td>4.0</td>\n",
       "      <td>9</td>\n",
       "      <td>4</td>\n",
       "      <td>203113</td>\n",
       "      <td>TRUE</td>\n",
       "      <td>FALSE</td>\n",
       "      <td>21742</td>\n",
       "      <td>13223</td>\n",
       "      <td>False</td>\n",
       "      <td>580010</td>\n",
       "    </tr>\n",
       "  </tbody>\n",
       "</table>\n",
       "</div>"
      ],
      "text/plain": [
       "       Video_id category_id            channel_title  subscriber  \\\n",
       "187   HCQ73RZo7         NaN        Chicago Sun-Times     11133.0   \n",
       "595   NLM1FZ>80         NaN    The Infographics Show   1607518.0   \n",
       "798  GKQ34HXG87         NaN                The Voice   5850161.0   \n",
       "864  NCX50MJl16         NaN  Trailers Promos Teasers     18000.0   \n",
       "913   HOT6GH>20         NaN           IISuperwomanII  13357328.0   \n",
       "972  HPR67IDa88         NaN            Shoshana Bean     24589.0   \n",
       "\n",
       "                                                 title  \\\n",
       "187        Obama arrives for jury duty at Daley Center   \n",
       "595  How Likely Are You to Die During a Black Frida...   \n",
       "798  The Voice 2017 - Team Miley: Man! I Feel Like ...   \n",
       "864  All The Money In The World - TV Spot featuring...   \n",
       "913     When You Catch Your Boyfriend (ft. Nick Jonas)   \n",
       "972  Taylor Swift - I Did Something Bad (Cover) | B...   \n",
       "\n",
       "                                                  tags  \\\n",
       "187                                                NaN   \n",
       "595  black friday|black friday sales|How Likely Are...   \n",
       "798  the voice|the voice nbc|the voice season 13|wa...   \n",
       "864     All The Money In The World|Christopher Plummer   \n",
       "913  iisuperwomanii|superwoman|team|super”|super|wo...   \n",
       "972  taylor swift|reputation|acoustic|live|soul|pop...   \n",
       "\n",
       "                                           description  Trend_day_count  \\\n",
       "187  Watch former President Barack Obama greet othe...              4.0   \n",
       "595  🐻 Check out our new channel: Fuzzy & Nutz 🐿️ ►...              3.0   \n",
       "798  Miley Cyrus joins Ashland Craft, Brooke Simpso...             12.0   \n",
       "864  All The Money In The World - The story of the ...              4.0   \n",
       "913  That moment when you awkwardly walk in and cat...              7.0   \n",
       "972  Sho: @shobean\\nCynthia: @cynthiaerivo\\n\\nShot ...              4.0   \n",
       "\n",
       "    Tag_count Trend_tag_count comment_count comment_disabled  \\\n",
       "187        10               5        213427             TRUE   \n",
       "595        25               5         68068             TRUE   \n",
       "798        14               6         72128             TRUE   \n",
       "864        21               2             0            FALSE   \n",
       "913        21               6        248173             TRUE   \n",
       "972         9               4        203113             TRUE   \n",
       "\n",
       "    like dislike disabled  likes dislike tag appered in title    views  \n",
       "187                 FALSE  14535   10728                False   537701  \n",
       "595                  TRUE      0       0                 True   517759  \n",
       "798                 FALSE  14302   10959                 True  1687526  \n",
       "864                 FALSE  15068    6486                 True   123902  \n",
       "913                  TRUE      0       0                 True  3292905  \n",
       "972                 FALSE  21742   13223                False   580010  "
      ]
     },
     "execution_count": 16,
     "metadata": {},
     "output_type": "execute_result"
    }
   ],
   "source": [
    "data[data['category_id'].isna()]\n",
    "# as we have 6 value which are null and for understanding i put these in category '0' beacause we dont have 0 category"
   ]
  },
  {
   "cell_type": "code",
   "execution_count": 17,
   "metadata": {},
   "outputs": [],
   "source": [
    "data['category_id'] = data['category_id'].fillna(0)"
   ]
  },
  {
   "cell_type": "code",
   "execution_count": 18,
   "metadata": {},
   "outputs": [
    {
     "data": {
      "text/plain": [
       "0"
      ]
     },
     "execution_count": 18,
     "metadata": {},
     "output_type": "execute_result"
    }
   ],
   "source": [
    "data['category_id'].isnull().sum()"
   ]
  },
  {
   "cell_type": "code",
   "execution_count": 19,
   "metadata": {},
   "outputs": [],
   "source": [
    "data['category_id']=data['category_id'].replace('“24',24)"
   ]
  },
  {
   "cell_type": "code",
   "execution_count": 20,
   "metadata": {},
   "outputs": [
    {
     "data": {
      "text/plain": [
       "array(['22', '24', '23', '28', '1', '25', '17', '10', '15', '27', '26',\n",
       "       '2', '19', '20', 0, '29', 24, '43'], dtype=object)"
      ]
     },
     "execution_count": 20,
     "metadata": {},
     "output_type": "execute_result"
    }
   ],
   "source": [
    "data['category_id'].unique()"
   ]
  },
  {
   "cell_type": "code",
   "execution_count": 21,
   "metadata": {},
   "outputs": [],
   "source": [
    "df = data.groupby(['category_id','title','comment_count','likes'])[['views']].sum()"
   ]
  },
  {
   "cell_type": "code",
   "execution_count": 22,
   "metadata": {},
   "outputs": [
    {
     "data": {
      "text/html": [
       "<div>\n",
       "<style scoped>\n",
       "    .dataframe tbody tr th:only-of-type {\n",
       "        vertical-align: middle;\n",
       "    }\n",
       "\n",
       "    .dataframe tbody tr th {\n",
       "        vertical-align: top;\n",
       "    }\n",
       "\n",
       "    .dataframe thead th {\n",
       "        text-align: right;\n",
       "    }\n",
       "</style>\n",
       "<table border=\"1\" class=\"dataframe\">\n",
       "  <thead>\n",
       "    <tr style=\"text-align: right;\">\n",
       "      <th></th>\n",
       "      <th></th>\n",
       "      <th></th>\n",
       "      <th></th>\n",
       "      <th>views</th>\n",
       "    </tr>\n",
       "    <tr>\n",
       "      <th>category_id</th>\n",
       "      <th>title</th>\n",
       "      <th>comment_count</th>\n",
       "      <th>likes</th>\n",
       "      <th></th>\n",
       "    </tr>\n",
       "  </thead>\n",
       "  <tbody>\n",
       "    <tr>\n",
       "      <th rowspan=\"5\" valign=\"top\">0</th>\n",
       "      <th>All The Money In The World - TV Spot featuring Christopher Plummer</th>\n",
       "      <th>0</th>\n",
       "      <th>15068</th>\n",
       "      <td>123902</td>\n",
       "    </tr>\n",
       "    <tr>\n",
       "      <th>How Likely Are You to Die During a Black Friday Sale?</th>\n",
       "      <th>68068</th>\n",
       "      <th>0</th>\n",
       "      <td>517759</td>\n",
       "    </tr>\n",
       "    <tr>\n",
       "      <th>Obama arrives for jury duty at Daley Center</th>\n",
       "      <th>213427</th>\n",
       "      <th>14535</th>\n",
       "      <td>537701</td>\n",
       "    </tr>\n",
       "    <tr>\n",
       "      <th>Taylor Swift - I Did Something Bad (Cover) | By Shoshana Bean and Cynthia Erivo</th>\n",
       "      <th>203113</th>\n",
       "      <th>21742</th>\n",
       "      <td>580010</td>\n",
       "    </tr>\n",
       "    <tr>\n",
       "      <th>The Voice 2017 - Team Miley: Man! I Feel Like a Woman</th>\n",
       "      <th>72128</th>\n",
       "      <th>14302</th>\n",
       "      <td>1687526</td>\n",
       "    </tr>\n",
       "    <tr>\n",
       "      <th>...</th>\n",
       "      <th>...</th>\n",
       "      <th>...</th>\n",
       "      <th>...</th>\n",
       "      <td>...</td>\n",
       "    </tr>\n",
       "    <tr>\n",
       "      <th rowspan=\"3\" valign=\"top\">29</th>\n",
       "      <th>Suicide: Be Here Tomorrow.</th>\n",
       "      <th>0</th>\n",
       "      <th>0</th>\n",
       "      <td>3429320</td>\n",
       "    </tr>\n",
       "    <tr>\n",
       "      <th>Tell Hollywood to stand with immigrants</th>\n",
       "      <th>170749</th>\n",
       "      <th>16477</th>\n",
       "      <td>455542</td>\n",
       "    </tr>\n",
       "    <tr>\n",
       "      <th>The Obama Presidential Center: Where We Are Now</th>\n",
       "      <th>40004</th>\n",
       "      <th>10245</th>\n",
       "      <td>261921</td>\n",
       "    </tr>\n",
       "    <tr>\n",
       "      <th rowspan=\"2\" valign=\"top\">43</th>\n",
       "      <th>Apple HomePod: Everything to know before you buy (Apple Byte)</th>\n",
       "      <th>0</th>\n",
       "      <th>16387</th>\n",
       "      <td>547439</td>\n",
       "    </tr>\n",
       "    <tr>\n",
       "      <th>You're not crazy. Apple is slowing down older iPhones. (Apple Byte)</th>\n",
       "      <th>0</th>\n",
       "      <th>18903</th>\n",
       "      <td>586832</td>\n",
       "    </tr>\n",
       "  </tbody>\n",
       "</table>\n",
       "<p>3195 rows × 1 columns</p>\n",
       "</div>"
      ],
      "text/plain": [
       "                                                                                      views\n",
       "category_id title                                              comment_count likes         \n",
       "0           All The Money In The World - TV Spot featuring ... 0             15068   123902\n",
       "            How Likely Are You to Die During a Black Friday... 68068         0       517759\n",
       "            Obama arrives for jury duty at Daley Center        213427        14535   537701\n",
       "            Taylor Swift - I Did Something Bad (Cover) | By... 203113        21742   580010\n",
       "            The Voice 2017 - Team Miley: Man! I Feel Like a... 72128         14302  1687526\n",
       "...                                                                                     ...\n",
       "29          Suicide: Be Here Tomorrow.                         0             0      3429320\n",
       "            Tell Hollywood to stand with immigrants            170749        16477   455542\n",
       "            The Obama Presidential Center: Where We Are Now    40004         10245   261921\n",
       "43          Apple HomePod: Everything to know before you bu... 0             16387   547439\n",
       "            You're not crazy. Apple is slowing down older i... 0             18903   586832\n",
       "\n",
       "[3195 rows x 1 columns]"
      ]
     },
     "execution_count": 22,
     "metadata": {},
     "output_type": "execute_result"
    }
   ],
   "source": [
    "df# this indicating that which video fell in same categorie"
   ]
  },
  {
   "cell_type": "code",
   "execution_count": 23,
   "metadata": {},
   "outputs": [
    {
     "data": {
      "text/plain": [
       "0       22\n",
       "1       24\n",
       "2       23\n",
       "3       24\n",
       "4       24\n",
       "        ..\n",
       "3193    20\n",
       "3194    10\n",
       "3195    10\n",
       "3196    26\n",
       "3197    22\n",
       "Name: category_id, Length: 3198, dtype: int32"
      ]
     },
     "execution_count": 23,
     "metadata": {},
     "output_type": "execute_result"
    }
   ],
   "source": [
    "data['category_id'].astype('int')"
   ]
  },
  {
   "cell_type": "code",
   "execution_count": 24,
   "metadata": {},
   "outputs": [],
   "source": [
    "pvt = data.pivot_table(values=[\"likes\",\"views\"], index=[\"category_id\",\"title\"], aggfunc = np.sum)"
   ]
  },
  {
   "cell_type": "code",
   "execution_count": 73,
   "metadata": {},
   "outputs": [
    {
     "data": {
      "text/html": [
       "<div>\n",
       "<style scoped>\n",
       "    .dataframe tbody tr th:only-of-type {\n",
       "        vertical-align: middle;\n",
       "    }\n",
       "\n",
       "    .dataframe tbody tr th {\n",
       "        vertical-align: top;\n",
       "    }\n",
       "\n",
       "    .dataframe thead th {\n",
       "        text-align: right;\n",
       "    }\n",
       "</style>\n",
       "<table border=\"1\" class=\"dataframe\">\n",
       "  <thead>\n",
       "    <tr style=\"text-align: right;\">\n",
       "      <th></th>\n",
       "      <th></th>\n",
       "      <th>likes</th>\n",
       "      <th>views</th>\n",
       "    </tr>\n",
       "    <tr>\n",
       "      <th>category_id</th>\n",
       "      <th>title</th>\n",
       "      <th></th>\n",
       "      <th></th>\n",
       "    </tr>\n",
       "  </thead>\n",
       "  <tbody>\n",
       "    <tr>\n",
       "      <th rowspan=\"5\" valign=\"top\">0</th>\n",
       "      <th>All The Money In The World - TV Spot featuring Christopher Plummer</th>\n",
       "      <td>15068</td>\n",
       "      <td>123902</td>\n",
       "    </tr>\n",
       "    <tr>\n",
       "      <th>How Likely Are You to Die During a Black Friday Sale?</th>\n",
       "      <td>0</td>\n",
       "      <td>517759</td>\n",
       "    </tr>\n",
       "    <tr>\n",
       "      <th>Obama arrives for jury duty at Daley Center</th>\n",
       "      <td>14535</td>\n",
       "      <td>537701</td>\n",
       "    </tr>\n",
       "    <tr>\n",
       "      <th>Taylor Swift - I Did Something Bad (Cover) | By Shoshana Bean and Cynthia Erivo</th>\n",
       "      <td>21742</td>\n",
       "      <td>580010</td>\n",
       "    </tr>\n",
       "    <tr>\n",
       "      <th>The Voice 2017 - Team Miley: Man! I Feel Like a Woman</th>\n",
       "      <td>14302</td>\n",
       "      <td>1687526</td>\n",
       "    </tr>\n",
       "    <tr>\n",
       "      <th>...</th>\n",
       "      <th>...</th>\n",
       "      <td>...</td>\n",
       "      <td>...</td>\n",
       "    </tr>\n",
       "    <tr>\n",
       "      <th rowspan=\"3\" valign=\"top\">29</th>\n",
       "      <th>Suicide: Be Here Tomorrow.</th>\n",
       "      <td>0</td>\n",
       "      <td>3429320</td>\n",
       "    </tr>\n",
       "    <tr>\n",
       "      <th>Tell Hollywood to stand with immigrants</th>\n",
       "      <td>16477</td>\n",
       "      <td>455542</td>\n",
       "    </tr>\n",
       "    <tr>\n",
       "      <th>The Obama Presidential Center: Where We Are Now</th>\n",
       "      <td>10245</td>\n",
       "      <td>261921</td>\n",
       "    </tr>\n",
       "    <tr>\n",
       "      <th rowspan=\"2\" valign=\"top\">43</th>\n",
       "      <th>Apple HomePod: Everything to know before you buy (Apple Byte)</th>\n",
       "      <td>16387</td>\n",
       "      <td>547439</td>\n",
       "    </tr>\n",
       "    <tr>\n",
       "      <th>You're not crazy. Apple is slowing down older iPhones. (Apple Byte)</th>\n",
       "      <td>18903</td>\n",
       "      <td>586832</td>\n",
       "    </tr>\n",
       "  </tbody>\n",
       "</table>\n",
       "<p>3191 rows × 2 columns</p>\n",
       "</div>"
      ],
      "text/plain": [
       "                                                                likes    views\n",
       "category_id title                                                             \n",
       "0           All The Money In The World - TV Spot featuring ...  15068   123902\n",
       "            How Likely Are You to Die During a Black Friday...      0   517759\n",
       "            Obama arrives for jury duty at Daley Center         14535   537701\n",
       "            Taylor Swift - I Did Something Bad (Cover) | By...  21742   580010\n",
       "            The Voice 2017 - Team Miley: Man! I Feel Like a...  14302  1687526\n",
       "...                                                               ...      ...\n",
       "29          Suicide: Be Here Tomorrow.                              0  3429320\n",
       "            Tell Hollywood to stand with immigrants             16477   455542\n",
       "            The Obama Presidential Center: Where We Are Now     10245   261921\n",
       "43          Apple HomePod: Everything to know before you bu...  16387   547439\n",
       "            You're not crazy. Apple is slowing down older i...  18903   586832\n",
       "\n",
       "[3191 rows x 2 columns]"
      ]
     },
     "execution_count": 73,
     "metadata": {},
     "output_type": "execute_result"
    }
   ],
   "source": [
    "pvt# having table for likes and views on particular title and category id"
   ]
  },
  {
   "cell_type": "code",
   "execution_count": 26,
   "metadata": {},
   "outputs": [],
   "source": [
    "pvt_sub = data.pivot_table(values = \"subscriber\", index=\"channel_title\", aggfunc=np.sum)"
   ]
  },
  {
   "cell_type": "code",
   "execution_count": 27,
   "metadata": {},
   "outputs": [
    {
     "data": {
      "text/html": [
       "<div>\n",
       "<style scoped>\n",
       "    .dataframe tbody tr th:only-of-type {\n",
       "        vertical-align: middle;\n",
       "    }\n",
       "\n",
       "    .dataframe tbody tr th {\n",
       "        vertical-align: top;\n",
       "    }\n",
       "\n",
       "    .dataframe thead th {\n",
       "        text-align: right;\n",
       "    }\n",
       "</style>\n",
       "<table border=\"1\" class=\"dataframe\">\n",
       "  <thead>\n",
       "    <tr style=\"text-align: right;\">\n",
       "      <th></th>\n",
       "      <th>subscriber</th>\n",
       "    </tr>\n",
       "    <tr>\n",
       "      <th>channel_title</th>\n",
       "      <th></th>\n",
       "    </tr>\n",
       "  </thead>\n",
       "  <tbody>\n",
       "    <tr>\n",
       "      <th>12 News</th>\n",
       "      <td>2710.0</td>\n",
       "    </tr>\n",
       "    <tr>\n",
       "      <th>1theK (원더케이)</th>\n",
       "      <td>47850650.0</td>\n",
       "    </tr>\n",
       "    <tr>\n",
       "      <th>20th Century Fox</th>\n",
       "      <td>22081446.0</td>\n",
       "    </tr>\n",
       "    <tr>\n",
       "      <th>2CELLOS</th>\n",
       "      <td>3073400.0</td>\n",
       "    </tr>\n",
       "    <tr>\n",
       "      <th>3D Printing Nerd</th>\n",
       "      <td>183465.0</td>\n",
       "    </tr>\n",
       "    <tr>\n",
       "      <th>...</th>\n",
       "      <td>...</td>\n",
       "    </tr>\n",
       "    <tr>\n",
       "      <th>yovo68</th>\n",
       "      <td>40167.0</td>\n",
       "    </tr>\n",
       "    <tr>\n",
       "      <th>ТСН</th>\n",
       "      <td>442641.0</td>\n",
       "    </tr>\n",
       "    <tr>\n",
       "      <th>ワーナー ブラザース 公式チャンネル</th>\n",
       "      <td>151008.0</td>\n",
       "    </tr>\n",
       "    <tr>\n",
       "      <th>郭韋辰</th>\n",
       "      <td>19.0</td>\n",
       "    </tr>\n",
       "    <tr>\n",
       "      <th>영국남자 Korean Englishman</th>\n",
       "      <td>2472987.0</td>\n",
       "    </tr>\n",
       "  </tbody>\n",
       "</table>\n",
       "<p>1501 rows × 1 columns</p>\n",
       "</div>"
      ],
      "text/plain": [
       "                        subscriber\n",
       "channel_title                     \n",
       "12 News                     2710.0\n",
       "1theK (원더케이)            47850650.0\n",
       "20th Century Fox        22081446.0\n",
       "2CELLOS                  3073400.0\n",
       "3D Printing Nerd          183465.0\n",
       "...                            ...\n",
       "yovo68                     40167.0\n",
       "ТСН                       442641.0\n",
       "ワーナー ブラザース 公式チャンネル        151008.0\n",
       "郭韋辰                           19.0\n",
       "영국남자 Korean Englishman   2472987.0\n",
       "\n",
       "[1501 rows x 1 columns]"
      ]
     },
     "execution_count": 27,
     "metadata": {},
     "output_type": "execute_result"
    }
   ],
   "source": [
    "pvt_sub"
   ]
  },
  {
   "cell_type": "code",
   "execution_count": 28,
   "metadata": {},
   "outputs": [],
   "source": [
    "data['comment_count'] = data['comment_count'].astype('int') "
   ]
  },
  {
   "cell_type": "code",
   "execution_count": 29,
   "metadata": {},
   "outputs": [],
   "source": [
    "import matplotlib.pyplot as plt"
   ]
  },
  {
   "cell_type": "code",
   "execution_count": 30,
   "metadata": {},
   "outputs": [],
   "source": [
    "import seaborn as sns"
   ]
  },
  {
   "cell_type": "code",
   "execution_count": 31,
   "metadata": {},
   "outputs": [
    {
     "name": "stderr",
     "output_type": "stream",
     "text": [
      "c:\\users\\user\\appdata\\local\\programs\\python\\python37-32\\lib\\site-packages\\seaborn\\_decorators.py:43: FutureWarning: Pass the following variable as a keyword arg: x. From version 0.12, the only valid positional argument will be `data`, and passing other arguments without an explicit keyword will result in an error or misinterpretation.\n",
      "  FutureWarning\n"
     ]
    },
    {
     "data": {
      "text/plain": [
       "<AxesSubplot:xlabel='comment_count'>"
      ]
     },
     "execution_count": 31,
     "metadata": {},
     "output_type": "execute_result"
    },
    {
     "data": {
      "image/png": "[encoded data removed]",
      "text/plain": [
       "<Figure size 432x288 with 1 Axes>"
      ]
     },
     "metadata": {
      "needs_background": "light"
     },
     "output_type": "display_data"
    }
   ],
   "source": [
    "sns.boxplot(data['comment_count'])# it is positive skewness lets check skew as well"
   ]
  },
  {
   "cell_type": "code",
   "execution_count": 33,
   "metadata": {},
   "outputs": [
    {
     "data": {
      "text/plain": [
       "0.32715403757702005"
      ]
     },
     "execution_count": 33,
     "metadata": {},
     "output_type": "execute_result"
    }
   ],
   "source": [
    "data['comment_count'].skew()# skeness for comment_count"
   ]
  },
  {
   "cell_type": "code",
   "execution_count": 83,
   "metadata": {},
   "outputs": [
    {
     "data": {
      "text/plain": [
       "-1.3197250097299473"
      ]
     },
     "execution_count": 83,
     "metadata": {},
     "output_type": "execute_result"
    }
   ],
   "source": [
    "kurtosis(data['comment_count'])"
   ]
  },
  {
   "cell_type": "code",
   "execution_count": 34,
   "metadata": {},
   "outputs": [],
   "source": [
    "data['tags'] = data['tags'].fillna(\"NOtags\")"
   ]
  },
  {
   "cell_type": "code",
   "execution_count": 35,
   "metadata": {},
   "outputs": [
    {
     "name": "stdout",
     "output_type": "stream",
     "text": [
      "<class 'pandas.core.frame.DataFrame'>\n",
      "RangeIndex: 3198 entries, 0 to 3197\n",
      "Data columns (total 17 columns):\n",
      " #   Column                 Non-Null Count  Dtype  \n",
      "---  ------                 --------------  -----  \n",
      " 0   Video_id               3198 non-null   object \n",
      " 1   category_id            3198 non-null   object \n",
      " 2   channel_title          3195 non-null   object \n",
      " 3   subscriber             3175 non-null   float64\n",
      " 4   title                  3195 non-null   object \n",
      " 5   tags                   3198 non-null   object \n",
      " 6   description            3133 non-null   object \n",
      " 7   Trend_day_count        3197 non-null   float64\n",
      " 8   Tag_count              3197 non-null   object \n",
      " 9   Trend_tag_count        3197 non-null   object \n",
      " 10  comment_count          3198 non-null   int32  \n",
      " 11  comment_disabled       3198 non-null   object \n",
      " 12  like dislike disabled  3198 non-null   object \n",
      " 13  likes                  3198 non-null   object \n",
      " 14  dislike                3198 non-null   object \n",
      " 15  tag appered in title   3197 non-null   object \n",
      " 16  views                  3198 non-null   object \n",
      "dtypes: float64(2), int32(1), object(14)\n",
      "memory usage: 237.4+ KB\n"
     ]
    }
   ],
   "source": [
    "data.info()"
   ]
  },
  {
   "cell_type": "code",
   "execution_count": 36,
   "metadata": {},
   "outputs": [
    {
     "data": {
      "text/plain": [
       "1"
      ]
     },
     "execution_count": 36,
     "metadata": {},
     "output_type": "execute_result"
    }
   ],
   "source": [
    "data['Tag_count'].str.contains('alissa ashley|alissa ashley makeup|hooded eye makeup|makeup for hooded eyes').sum()"
   ]
  },
  {
   "cell_type": "code",
   "execution_count": 37,
   "metadata": {},
   "outputs": [],
   "source": [
    "data['Tag_count'] = data['Tag_count'].replace('alissa ashley|alissa ashley makeup|hooded eye makeup|makeup for hooded eyes',4)\n",
    "#AS IT HAVE FOUR TAGS SO I PUT 4 TAG COUNT AT THAT VALUE."
   ]
  },
  {
   "cell_type": "code",
   "execution_count": 38,
   "metadata": {},
   "outputs": [
    {
     "data": {
      "text/plain": [
       "0"
      ]
     },
     "execution_count": 38,
     "metadata": {},
     "output_type": "execute_result"
    }
   ],
   "source": [
    "data['Tag_count'].str.contains('alissa ashley|alissa ashley makeup|hooded eye makeup|makeup for hooded eyes').sum()"
   ]
  },
  {
   "cell_type": "code",
   "execution_count": 39,
   "metadata": {},
   "outputs": [],
   "source": [
    "data['Tag_count'] = data['Tag_count'].fillna(0)"
   ]
  },
  {
   "cell_type": "code",
   "execution_count": 40,
   "metadata": {},
   "outputs": [],
   "source": [
    "data['Tag_count'] = data['Tag_count'].astype('int')"
   ]
  },
  {
   "cell_type": "code",
   "execution_count": 41,
   "metadata": {},
   "outputs": [],
   "source": [
    "import matplotlib.pyplot as plt"
   ]
  },
  {
   "cell_type": "code",
   "execution_count": 42,
   "metadata": {},
   "outputs": [],
   "source": [
    "taking_data_of_tag_count = data['Tag_count'].loc[200:300]"
   ]
  },
  {
   "cell_type": "code",
   "execution_count": 43,
   "metadata": {},
   "outputs": [
    {
     "data": {
      "text/plain": [
       "200    18\n",
       "201    24\n",
       "202    13\n",
       "203    20\n",
       "204    20\n",
       "       ..\n",
       "296    23\n",
       "297    18\n",
       "298     8\n",
       "299    19\n",
       "300    24\n",
       "Name: Tag_count, Length: 101, dtype: int32"
      ]
     },
     "execution_count": 43,
     "metadata": {},
     "output_type": "execute_result"
    }
   ],
   "source": [
    "taking_data_of_tag_count"
   ]
  },
  {
   "cell_type": "code",
   "execution_count": 44,
   "metadata": {},
   "outputs": [
    {
     "data": {
      "text/plain": [
       "[<matplotlib.lines.Line2D at 0x139c7d50>]"
      ]
     },
     "execution_count": 44,
     "metadata": {},
     "output_type": "execute_result"
    },
    {
     "data": {
      "image/png": "[encoded data removed]",
      "text/plain": [
       "<Figure size 432x288 with 1 Axes>"
      ]
     },
     "metadata": {
      "needs_background": "light"
     },
     "output_type": "display_data"
    }
   ],
   "source": [
    "plt.plot(taking_data_of_tag_count)# as we seen from graph Tag_count is varying with time is not stable"
   ]
  },
  {
   "cell_type": "code",
   "execution_count": 45,
   "metadata": {},
   "outputs": [
    {
     "data": {
      "text/plain": [
       "39.71473768873629"
      ]
     },
     "execution_count": 45,
     "metadata": {},
     "output_type": "execute_result"
    }
   ],
   "source": [
    "data['Tag_count'].skew()# negative skewing is present there means we need more data to find accuracy"
   ]
  },
  {
   "cell_type": "code",
   "execution_count": 82,
   "metadata": {},
   "outputs": [
    {
     "data": {
      "text/plain": [
       "1580.5017893033648"
      ]
     },
     "execution_count": 82,
     "metadata": {},
     "output_type": "execute_result"
    }
   ],
   "source": [
    "kurtosis(data['Tag_count'])"
   ]
  },
  {
   "cell_type": "code",
   "execution_count": 46,
   "metadata": {},
   "outputs": [
    {
     "data": {
      "text/plain": [
       "1"
      ]
     },
     "execution_count": 46,
     "metadata": {},
     "output_type": "execute_result"
    }
   ],
   "source": [
    "data['views'].str.contains('#VALUE!').sum()"
   ]
  },
  {
   "cell_type": "code",
   "execution_count": 47,
   "metadata": {},
   "outputs": [],
   "source": [
    "data['views'] = data['views'].replace(\"#VALUE!\",0)\n"
   ]
  },
  {
   "cell_type": "code",
   "execution_count": 48,
   "metadata": {},
   "outputs": [],
   "source": [
    "data['views'] = data['views'].astype('int')"
   ]
  },
  {
   "cell_type": "code",
   "execution_count": 49,
   "metadata": {},
   "outputs": [],
   "source": [
    "data['dislike'] = data['dislike'].replace('FALSE',0)"
   ]
  },
  {
   "cell_type": "code",
   "execution_count": 50,
   "metadata": {},
   "outputs": [],
   "source": [
    "data['dislike'] = data['dislike'].astype('int')"
   ]
  },
  {
   "cell_type": "code",
   "execution_count": 51,
   "metadata": {},
   "outputs": [],
   "source": [
    "data['likes'] = data['likes'].replace([' '], 0)"
   ]
  },
  {
   "cell_type": "code",
   "execution_count": 52,
   "metadata": {},
   "outputs": [],
   "source": [
    "data['likes'] = data['likes'].astype('int')"
   ]
  },
  {
   "cell_type": "code",
   "execution_count": 53,
   "metadata": {},
   "outputs": [],
   "source": [
    "data['Trend_tag_count'] = data['Trend_tag_count'].fillna(0)"
   ]
  },
  {
   "cell_type": "code",
   "execution_count": 54,
   "metadata": {},
   "outputs": [],
   "source": [
    "data['Trend_tag_count'] = data['Trend_tag_count'].replace('>',0)"
   ]
  },
  {
   "cell_type": "code",
   "execution_count": 55,
   "metadata": {},
   "outputs": [],
   "source": [
    "data['Trend_day_count'] = data['Trend_day_count'].fillna(0)"
   ]
  },
  {
   "cell_type": "code",
   "execution_count": 56,
   "metadata": {},
   "outputs": [],
   "source": [
    "data['Trend_day_count'] = data['Trend_day_count'].astype('int')"
   ]
  },
  {
   "cell_type": "code",
   "execution_count": 57,
   "metadata": {},
   "outputs": [],
   "source": [
    "data['subscriber'] = data['subscriber'].fillna(0)"
   ]
  },
  {
   "cell_type": "code",
   "execution_count": 58,
   "metadata": {},
   "outputs": [],
   "source": [
    "data['subscriber'] = data['subscriber'].astype('int')"
   ]
  },
  {
   "cell_type": "code",
   "execution_count": 59,
   "metadata": {},
   "outputs": [],
   "source": [
    "data['category_id'] = data['category_id'].astype('int')"
   ]
  },
  {
   "cell_type": "code",
   "execution_count": 60,
   "metadata": {},
   "outputs": [
    {
     "name": "stdout",
     "output_type": "stream",
     "text": [
      "<class 'pandas.core.frame.DataFrame'>\n",
      "RangeIndex: 3198 entries, 0 to 3197\n",
      "Data columns (total 17 columns):\n",
      " #   Column                 Non-Null Count  Dtype \n",
      "---  ------                 --------------  ----- \n",
      " 0   Video_id               3198 non-null   object\n",
      " 1   category_id            3198 non-null   int32 \n",
      " 2   channel_title          3195 non-null   object\n",
      " 3   subscriber             3198 non-null   int32 \n",
      " 4   title                  3195 non-null   object\n",
      " 5   tags                   3198 non-null   object\n",
      " 6   description            3133 non-null   object\n",
      " 7   Trend_day_count        3198 non-null   int32 \n",
      " 8   Tag_count              3198 non-null   int32 \n",
      " 9   Trend_tag_count        3198 non-null   object\n",
      " 10  comment_count          3198 non-null   int32 \n",
      " 11  comment_disabled       3198 non-null   object\n",
      " 12  like dislike disabled  3198 non-null   object\n",
      " 13  likes                  3198 non-null   int32 \n",
      " 14  dislike                3198 non-null   int32 \n",
      " 15  tag appered in title   3197 non-null   object\n",
      " 16  views                  3198 non-null   int32 \n",
      "dtypes: int32(8), object(9)\n",
      "memory usage: 212.4+ KB\n"
     ]
    }
   ],
   "source": [
    "data.info()"
   ]
  },
  {
   "cell_type": "code",
   "execution_count": 61,
   "metadata": {},
   "outputs": [
    {
     "name": "stderr",
     "output_type": "stream",
     "text": [
      "c:\\users\\user\\appdata\\local\\programs\\python\\python37-32\\lib\\site-packages\\seaborn\\distributions.py:2557: FutureWarning: `distplot` is a deprecated function and will be removed in a future version. Please adapt your code to use either `displot` (a figure-level function with similar flexibility) or `histplot` (an axes-level function for histograms).\n",
      "  warnings.warn(msg, FutureWarning)\n"
     ]
    },
    {
     "data": {
      "text/plain": [
       "<AxesSubplot:xlabel='subscriber', ylabel='Density'>"
      ]
     },
     "execution_count": 61,
     "metadata": {},
     "output_type": "execute_result"
    },
    {
     "data": {
      "image/png": "[encoded data removed]",
      "text/plain": [
       "<Figure size 432x288 with 1 Axes>"
      ]
     },
     "metadata": {
      "needs_background": "light"
     },
     "output_type": "display_data"
    }
   ],
   "source": [
    "sns.distplot(data['subscriber'].loc[200:500])"
   ]
  },
  {
   "cell_type": "code",
   "execution_count": 62,
   "metadata": {},
   "outputs": [
    {
     "name": "stderr",
     "output_type": "stream",
     "text": [
      "c:\\users\\user\\appdata\\local\\programs\\python\\python37-32\\lib\\site-packages\\seaborn\\distributions.py:2557: FutureWarning: `distplot` is a deprecated function and will be removed in a future version. Please adapt your code to use either `displot` (a figure-level function with similar flexibility) or `histplot` (an axes-level function for histograms).\n",
      "  warnings.warn(msg, FutureWarning)\n"
     ]
    },
    {
     "data": {
      "text/plain": [
       "<AxesSubplot:xlabel='views', ylabel='Density'>"
      ]
     },
     "execution_count": 62,
     "metadata": {},
     "output_type": "execute_result"
    },
    {
     "data": {
      "image/png": "[encoded data removed]",
      "text/plain": [
       "<Figure size 432x288 with 1 Axes>"
      ]
     },
     "metadata": {
      "needs_background": "light"
     },
     "output_type": "display_data"
    }
   ],
   "source": [
    "sns.distplot(data['views'].loc[200:500])"
   ]
  },
  {
   "cell_type": "code",
   "execution_count": 63,
   "metadata": {},
   "outputs": [
    {
     "data": {
      "text/plain": [
       "<AxesSubplot:xlabel='comment_count', ylabel='likes'>"
      ]
     },
     "execution_count": 63,
     "metadata": {},
     "output_type": "execute_result"
    },
    {
     "data": {
      "image/png": "[encoded data removed]",
      "text/plain": [
       "<Figure size 432x288 with 1 Axes>"
      ]
     },
     "metadata": {
      "needs_background": "light"
     },
     "output_type": "display_data"
    }
   ],
   "source": [
    "sns.scatterplot(x = data['comment_count'].loc[200:300], y = data['likes'].loc[200:300]) \n",
    "# it varies with different values and this graph is between comment and likes per video and it varies with content of video\n",
    "#may be a good video has more comments comparteively bad one"
   ]
  },
  {
   "cell_type": "code",
   "execution_count": 64,
   "metadata": {},
   "outputs": [
    {
     "data": {
      "text/plain": [
       "<AxesSubplot:xlabel='Trend_day_count', ylabel='Tag_count'>"
      ]
     },
     "execution_count": 64,
     "metadata": {},
     "output_type": "execute_result"
    },
    {
     "data": {
      "image/png": "[encoded data removed]",
      "text/plain": [
       "<Figure size 432x288 with 1 Axes>"
      ]
     },
     "metadata": {
      "needs_background": "light"
     },
     "output_type": "display_data"
    }
   ],
   "source": [
    "sns.lineplot(x = data['Trend_day_count'].loc[200:400], y = data['Tag_count'].loc[200:400])\n",
    "#below graph shows as trending day increases the the tag count also slightly increasing"
   ]
  },
  {
   "cell_type": "code",
   "execution_count": 65,
   "metadata": {},
   "outputs": [
    {
     "name": "stderr",
     "output_type": "stream",
     "text": [
      "c:\\users\\user\\appdata\\local\\programs\\python\\python37-32\\lib\\site-packages\\seaborn\\_decorators.py:43: FutureWarning: Pass the following variable as a keyword arg: x. From version 0.12, the only valid positional argument will be `data`, and passing other arguments without an explicit keyword will result in an error or misinterpretation.\n",
      "  FutureWarning\n"
     ]
    },
    {
     "data": {
      "text/plain": [
       "<AxesSubplot:xlabel='category_id', ylabel='count'>"
      ]
     },
     "execution_count": 65,
     "metadata": {},
     "output_type": "execute_result"
    },
    {
     "data": {
      "image/png": "[encoded data removed]",
      "text/plain": [
       "<Figure size 432x288 with 1 Axes>"
      ]
     },
     "metadata": {
      "needs_background": "light"
     },
     "output_type": "display_data"
    }
   ],
   "source": [
    "sns.countplot(data['category_id'])\n",
    "# this graph show hoe many video in one category, 24 category is max "
   ]
  },
  {
   "cell_type": "code",
   "execution_count": 66,
   "metadata": {},
   "outputs": [
    {
     "data": {
      "text/plain": [
       "<AxesSubplot:xlabel='subscriber', ylabel='channel_title'>"
      ]
     },
     "execution_count": 66,
     "metadata": {},
     "output_type": "execute_result"
    },
    {
     "data": {
      "image/png": "[encoded data removed]",
      "text/plain": [
       "<Figure size 720x720 with 1 Axes>"
      ]
     },
     "metadata": {
      "needs_background": "light"
     },
     "output_type": "display_data"
    }
   ],
   "source": [
    "from matplotlib import pyplot\n",
    "fig, ax = pyplot.subplots(figsize=(10,10))\n",
    "sns.barplot(x = data['subscriber'].loc[200:210], y = data['channel_title'].loc[200:210])\n",
    "\n",
    "#this grapdh shows how many subscriber per channel"
   ]
  },
  {
   "cell_type": "code",
   "execution_count": 67,
   "metadata": {},
   "outputs": [
    {
     "data": {
      "text/html": [
       "<div>\n",
       "<style scoped>\n",
       "    .dataframe tbody tr th:only-of-type {\n",
       "        vertical-align: middle;\n",
       "    }\n",
       "\n",
       "    .dataframe tbody tr th {\n",
       "        vertical-align: top;\n",
       "    }\n",
       "\n",
       "    .dataframe thead th {\n",
       "        text-align: right;\n",
       "    }\n",
       "</style>\n",
       "<table border=\"1\" class=\"dataframe\">\n",
       "  <thead>\n",
       "    <tr style=\"text-align: right;\">\n",
       "      <th></th>\n",
       "      <th>Video_id</th>\n",
       "      <th>category_id</th>\n",
       "      <th>channel_title</th>\n",
       "      <th>subscriber</th>\n",
       "      <th>title</th>\n",
       "      <th>tags</th>\n",
       "      <th>description</th>\n",
       "      <th>Trend_day_count</th>\n",
       "      <th>Tag_count</th>\n",
       "      <th>Trend_tag_count</th>\n",
       "      <th>comment_count</th>\n",
       "      <th>comment_disabled</th>\n",
       "      <th>like dislike disabled</th>\n",
       "      <th>likes</th>\n",
       "      <th>dislike</th>\n",
       "      <th>tag appered in title</th>\n",
       "      <th>views</th>\n",
       "    </tr>\n",
       "  </thead>\n",
       "  <tbody>\n",
       "    <tr>\n",
       "      <th>0</th>\n",
       "      <td>HDR9SQc79</td>\n",
       "      <td>22</td>\n",
       "      <td>CaseyNeistat</td>\n",
       "      <td>9086142</td>\n",
       "      <td>WE WANT TO TALK ABOUT OUR MARRIAGE</td>\n",
       "      <td>SHANtell martin</td>\n",
       "      <td>SHANTELL'S CHANNEL - https://www.youtube.com/s...</td>\n",
       "      <td>6</td>\n",
       "      <td>21</td>\n",
       "      <td>6</td>\n",
       "      <td>0</td>\n",
       "      <td>FALSE</td>\n",
       "      <td>FALSE</td>\n",
       "      <td>13342</td>\n",
       "      <td>6089</td>\n",
       "      <td>False</td>\n",
       "      <td>1978978</td>\n",
       "    </tr>\n",
       "    <tr>\n",
       "      <th>1</th>\n",
       "      <td>KNH52UF?48</td>\n",
       "      <td>24</td>\n",
       "      <td>LastWeekTonight</td>\n",
       "      <td>5937292</td>\n",
       "      <td>The Trump Presidency: Last Week Tonight with J...</td>\n",
       "      <td>last week tonight trump presidency|last week t...</td>\n",
       "      <td>One year after the presidential election, John...</td>\n",
       "      <td>1</td>\n",
       "      <td>23</td>\n",
       "      <td>1</td>\n",
       "      <td>116266</td>\n",
       "      <td>TRUE</td>\n",
       "      <td>FALSE</td>\n",
       "      <td>5761</td>\n",
       "      <td>3044</td>\n",
       "      <td>False</td>\n",
       "      <td>1487870</td>\n",
       "    </tr>\n",
       "    <tr>\n",
       "      <th>2</th>\n",
       "      <td>QTW28IRG36</td>\n",
       "      <td>23</td>\n",
       "      <td>Rudy Mancuso</td>\n",
       "      <td>4191209</td>\n",
       "      <td>Racist Superman | Rudy Mancuso, King Bach &amp; Le...</td>\n",
       "      <td>racist superman|rudy|mancuso|king|bach|racist|...</td>\n",
       "      <td>WATCH MY PREVIOUS VIDEO ▶ \\n\\nSUBSCRIBE ► http...</td>\n",
       "      <td>10</td>\n",
       "      <td>22</td>\n",
       "      <td>3</td>\n",
       "      <td>257850</td>\n",
       "      <td>TRUE</td>\n",
       "      <td>TRUE</td>\n",
       "      <td>0</td>\n",
       "      <td>0</td>\n",
       "      <td>True</td>\n",
       "      <td>1502102</td>\n",
       "    </tr>\n",
       "    <tr>\n",
       "      <th>3</th>\n",
       "      <td>MGL76WI]26</td>\n",
       "      <td>24</td>\n",
       "      <td>Good Mythical Morning</td>\n",
       "      <td>13186408</td>\n",
       "      <td>Nickelback Lyrics: Real or Fake?</td>\n",
       "      <td>rhett and link|gmm|good mythical morning|rhett...</td>\n",
       "      <td>Today we find out if Link is a Nickelback amat...</td>\n",
       "      <td>12</td>\n",
       "      <td>17</td>\n",
       "      <td>5</td>\n",
       "      <td>263939</td>\n",
       "      <td>TRUE</td>\n",
       "      <td>TRUE</td>\n",
       "      <td>0</td>\n",
       "      <td>0</td>\n",
       "      <td>True</td>\n",
       "      <td>3519302</td>\n",
       "    </tr>\n",
       "    <tr>\n",
       "      <th>4</th>\n",
       "      <td>TWP93KXT70</td>\n",
       "      <td>24</td>\n",
       "      <td>nigahiga</td>\n",
       "      <td>20563106</td>\n",
       "      <td>I Dare You: GOING BALD!?</td>\n",
       "      <td>ryan|higa|higatv|nigahiga|i dare you|idy|rhpc|...</td>\n",
       "      <td>I know it's been a while since we did this sho...</td>\n",
       "      <td>11</td>\n",
       "      <td>15</td>\n",
       "      <td>7</td>\n",
       "      <td>268085</td>\n",
       "      <td>TRUE</td>\n",
       "      <td>TRUE</td>\n",
       "      <td>0</td>\n",
       "      <td>0</td>\n",
       "      <td>True</td>\n",
       "      <td>4835374</td>\n",
       "    </tr>\n",
       "  </tbody>\n",
       "</table>\n",
       "</div>"
      ],
      "text/plain": [
       "     Video_id  category_id          channel_title  subscriber  \\\n",
       "0   HDR9SQc79           22           CaseyNeistat     9086142   \n",
       "1  KNH52UF?48           24        LastWeekTonight     5937292   \n",
       "2  QTW28IRG36           23           Rudy Mancuso     4191209   \n",
       "3  MGL76WI]26           24  Good Mythical Morning    13186408   \n",
       "4  TWP93KXT70           24               nigahiga    20563106   \n",
       "\n",
       "                                               title  \\\n",
       "0                 WE WANT TO TALK ABOUT OUR MARRIAGE   \n",
       "1  The Trump Presidency: Last Week Tonight with J...   \n",
       "2  Racist Superman | Rudy Mancuso, King Bach & Le...   \n",
       "3                   Nickelback Lyrics: Real or Fake?   \n",
       "4                           I Dare You: GOING BALD!?   \n",
       "\n",
       "                                                tags  \\\n",
       "0                                    SHANtell martin   \n",
       "1  last week tonight trump presidency|last week t...   \n",
       "2  racist superman|rudy|mancuso|king|bach|racist|...   \n",
       "3  rhett and link|gmm|good mythical morning|rhett...   \n",
       "4  ryan|higa|higatv|nigahiga|i dare you|idy|rhpc|...   \n",
       "\n",
       "                                         description  Trend_day_count  \\\n",
       "0  SHANTELL'S CHANNEL - https://www.youtube.com/s...                6   \n",
       "1  One year after the presidential election, John...                1   \n",
       "2  WATCH MY PREVIOUS VIDEO ▶ \\n\\nSUBSCRIBE ► http...               10   \n",
       "3  Today we find out if Link is a Nickelback amat...               12   \n",
       "4  I know it's been a while since we did this sho...               11   \n",
       "\n",
       "   Tag_count Trend_tag_count  comment_count comment_disabled  \\\n",
       "0         21               6              0            FALSE   \n",
       "1         23               1         116266             TRUE   \n",
       "2         22               3         257850             TRUE   \n",
       "3         17               5         263939             TRUE   \n",
       "4         15               7         268085             TRUE   \n",
       "\n",
       "  like dislike disabled  likes  dislike tag appered in title    views  \n",
       "0                 FALSE  13342     6089                False  1978978  \n",
       "1                 FALSE   5761     3044                False  1487870  \n",
       "2                  TRUE      0        0                 True  1502102  \n",
       "3                  TRUE      0        0                 True  3519302  \n",
       "4                  TRUE      0        0                 True  4835374  "
      ]
     },
     "execution_count": 67,
     "metadata": {},
     "output_type": "execute_result"
    }
   ],
   "source": [
    "data.head()"
   ]
  },
  {
   "cell_type": "code",
   "execution_count": 68,
   "metadata": {},
   "outputs": [
    {
     "name": "stdout",
     "output_type": "stream",
     "text": [
      "           channel_title  subsciber  likes\n",
      "0           CaseyNeistat          1      2\n",
      "1        LastWeekTonight          2      4\n",
      "2           Rudy Mancuso          3      6\n",
      "3  Good Mythical Morning          4      8\n",
      "4               nigahiga          5     10\n",
      "5               iJustine          6     12\n",
      "6    Saturday Night Live          7     14\n",
      "7     CrazyRussianHacker          8     16\n"
     ]
    },
    {
     "data": {
      "text/plain": [
       "<AxesSubplot:xlabel='channel_title'>"
      ]
     },
     "execution_count": 68,
     "metadata": {},
     "output_type": "execute_result"
    },
    {
     "data": {
      "image/png": "[encoded data removed]",
      "text/plain": [
       "<Figure size 432x288 with 1 Axes>"
      ]
     },
     "metadata": {
      "needs_background": "light"
     },
     "output_type": "display_data"
    }
   ],
   "source": [
    "import matplotlib.pyplot as lib\n",
    "import pandas as pd\n",
    "dict1 = {\n",
    "    'channel_title' : ['CaseyNeistat', 'LastWeekTonight', 'Rudy Mancuso', 'Good Mythical Morning', 'nigahiga', 'iJustine', 'Saturday Night Live', 'CrazyRussianHacker'],\n",
    "    'subsciber' : [1, 2, 3, 4, 5, 6, 7, 8],\n",
    "    'likes' : [2, 4, 6, 8, 10, 12, 14, 16]\n",
    "}\n",
    "table1 = pd.DataFrame(dict1)\n",
    "print(table1)\n",
    "ax = lib.gca()\n",
    "table1.plot(kind = 'bar', x = 'channel_title', y = 'likes', ax = ax)  #getting the comparison with the two data\n",
    "table1.plot(kind = 'bar', x = 'channel_title', y = 'subsciber', color = 'red', ax = ax)"
   ]
  },
  {
   "cell_type": "code",
   "execution_count": 72,
   "metadata": {},
   "outputs": [
    {
     "data": {
      "text/plain": [
       "1576229455"
      ]
     },
     "execution_count": 72,
     "metadata": {},
     "output_type": "execute_result"
    }
   ],
   "source": [
    "data['subscriber'].max()# maximum subsriber reached till date.. on a youtube"
   ]
  },
  {
   "cell_type": "code",
   "execution_count": 74,
   "metadata": {},
   "outputs": [
    {
     "data": {
      "text/html": [
       "<div>\n",
       "<style scoped>\n",
       "    .dataframe tbody tr th:only-of-type {\n",
       "        vertical-align: middle;\n",
       "    }\n",
       "\n",
       "    .dataframe tbody tr th {\n",
       "        vertical-align: top;\n",
       "    }\n",
       "\n",
       "    .dataframe thead th {\n",
       "        text-align: right;\n",
       "    }\n",
       "</style>\n",
       "<table border=\"1\" class=\"dataframe\">\n",
       "  <thead>\n",
       "    <tr style=\"text-align: right;\">\n",
       "      <th></th>\n",
       "      <th>category_id</th>\n",
       "      <th>subscriber</th>\n",
       "      <th>Trend_day_count</th>\n",
       "      <th>Tag_count</th>\n",
       "      <th>comment_count</th>\n",
       "      <th>likes</th>\n",
       "      <th>dislike</th>\n",
       "      <th>views</th>\n",
       "    </tr>\n",
       "  </thead>\n",
       "  <tbody>\n",
       "    <tr>\n",
       "      <th>count</th>\n",
       "      <td>3198.000000</td>\n",
       "      <td>3.198000e+03</td>\n",
       "      <td>3198.000000</td>\n",
       "      <td>3198.000000</td>\n",
       "      <td>3198.000000</td>\n",
       "      <td>3.198000e+03</td>\n",
       "      <td>3198.000000</td>\n",
       "      <td>3.198000e+03</td>\n",
       "    </tr>\n",
       "    <tr>\n",
       "      <th>mean</th>\n",
       "      <td>20.322076</td>\n",
       "      <td>3.796479e+06</td>\n",
       "      <td>7.961851</td>\n",
       "      <td>18.610381</td>\n",
       "      <td>112487.494371</td>\n",
       "      <td>9.763094e+03</td>\n",
       "      <td>5782.877423</td>\n",
       "      <td>1.571630e+06</td>\n",
       "    </tr>\n",
       "    <tr>\n",
       "      <th>std</th>\n",
       "      <td>7.379694</td>\n",
       "      <td>2.855627e+07</td>\n",
       "      <td>78.543895</td>\n",
       "      <td>80.355273</td>\n",
       "      <td>101861.271626</td>\n",
       "      <td>2.240396e+04</td>\n",
       "      <td>4861.070612</td>\n",
       "      <td>2.053533e+07</td>\n",
       "    </tr>\n",
       "    <tr>\n",
       "      <th>min</th>\n",
       "      <td>0.000000</td>\n",
       "      <td>0.000000e+00</td>\n",
       "      <td>0.000000</td>\n",
       "      <td>0.000000</td>\n",
       "      <td>0.000000</td>\n",
       "      <td>0.000000e+00</td>\n",
       "      <td>0.000000</td>\n",
       "      <td>0.000000e+00</td>\n",
       "    </tr>\n",
       "    <tr>\n",
       "      <th>25%</th>\n",
       "      <td>17.000000</td>\n",
       "      <td>2.326040e+05</td>\n",
       "      <td>4.000000</td>\n",
       "      <td>12.000000</td>\n",
       "      <td>0.000000</td>\n",
       "      <td>0.000000e+00</td>\n",
       "      <td>0.000000</td>\n",
       "      <td>4.304118e+05</td>\n",
       "    </tr>\n",
       "    <tr>\n",
       "      <th>50%</th>\n",
       "      <td>24.000000</td>\n",
       "      <td>1.206997e+06</td>\n",
       "      <td>7.000000</td>\n",
       "      <td>17.000000</td>\n",
       "      <td>99582.000000</td>\n",
       "      <td>1.022150e+04</td>\n",
       "      <td>5351.500000</td>\n",
       "      <td>7.080920e+05</td>\n",
       "    </tr>\n",
       "    <tr>\n",
       "      <th>75%</th>\n",
       "      <td>25.000000</td>\n",
       "      <td>3.808198e+06</td>\n",
       "      <td>10.000000</td>\n",
       "      <td>21.000000</td>\n",
       "      <td>203208.250000</td>\n",
       "      <td>1.505300e+04</td>\n",
       "      <td>10040.250000</td>\n",
       "      <td>1.204446e+06</td>\n",
       "    </tr>\n",
       "    <tr>\n",
       "      <th>max</th>\n",
       "      <td>43.000000</td>\n",
       "      <td>1.576229e+09</td>\n",
       "      <td>4444.000000</td>\n",
       "      <td>3225.000000</td>\n",
       "      <td>299877.000000</td>\n",
       "      <td>1.213628e+06</td>\n",
       "      <td>14858.000000</td>\n",
       "      <td>9.898735e+08</td>\n",
       "    </tr>\n",
       "  </tbody>\n",
       "</table>\n",
       "</div>"
      ],
      "text/plain": [
       "       category_id    subscriber  Trend_day_count    Tag_count  comment_count  \\\n",
       "count  3198.000000  3.198000e+03      3198.000000  3198.000000    3198.000000   \n",
       "mean     20.322076  3.796479e+06         7.961851    18.610381  112487.494371   \n",
       "std       7.379694  2.855627e+07        78.543895    80.355273  101861.271626   \n",
       "min       0.000000  0.000000e+00         0.000000     0.000000       0.000000   \n",
       "25%      17.000000  2.326040e+05         4.000000    12.000000       0.000000   \n",
       "50%      24.000000  1.206997e+06         7.000000    17.000000   99582.000000   \n",
       "75%      25.000000  3.808198e+06        10.000000    21.000000  203208.250000   \n",
       "max      43.000000  1.576229e+09      4444.000000  3225.000000  299877.000000   \n",
       "\n",
       "              likes       dislike         views  \n",
       "count  3.198000e+03   3198.000000  3.198000e+03  \n",
       "mean   9.763094e+03   5782.877423  1.571630e+06  \n",
       "std    2.240396e+04   4861.070612  2.053533e+07  \n",
       "min    0.000000e+00      0.000000  0.000000e+00  \n",
       "25%    0.000000e+00      0.000000  4.304118e+05  \n",
       "50%    1.022150e+04   5351.500000  7.080920e+05  \n",
       "75%    1.505300e+04  10040.250000  1.204446e+06  \n",
       "max    1.213628e+06  14858.000000  9.898735e+08  "
      ]
     },
     "execution_count": 74,
     "metadata": {},
     "output_type": "execute_result"
    }
   ],
   "source": [
    "data.describe()"
   ]
  },
  {
   "cell_type": "code",
   "execution_count": 76,
   "metadata": {},
   "outputs": [
    {
     "data": {
      "text/plain": [
       "1562"
      ]
     },
     "execution_count": 76,
     "metadata": {},
     "output_type": "execute_result"
    }
   ],
   "source": [
    "data['subscriber'].idxmax()# finding where it is max subscriber and it will gave row number"
   ]
  },
  {
   "cell_type": "code",
   "execution_count": 79,
   "metadata": {},
   "outputs": [
    {
     "data": {
      "text/html": [
       "<div>\n",
       "<style scoped>\n",
       "    .dataframe tbody tr th:only-of-type {\n",
       "        vertical-align: middle;\n",
       "    }\n",
       "\n",
       "    .dataframe tbody tr th {\n",
       "        vertical-align: top;\n",
       "    }\n",
       "\n",
       "    .dataframe thead th {\n",
       "        text-align: right;\n",
       "    }\n",
       "</style>\n",
       "<table border=\"1\" class=\"dataframe\">\n",
       "  <thead>\n",
       "    <tr style=\"text-align: right;\">\n",
       "      <th></th>\n",
       "      <th>Video_id</th>\n",
       "      <th>category_id</th>\n",
       "      <th>channel_title</th>\n",
       "      <th>subscriber</th>\n",
       "      <th>title</th>\n",
       "      <th>tags</th>\n",
       "      <th>description</th>\n",
       "      <th>Trend_day_count</th>\n",
       "      <th>Tag_count</th>\n",
       "      <th>Trend_tag_count</th>\n",
       "      <th>comment_count</th>\n",
       "      <th>comment_disabled</th>\n",
       "      <th>like dislike disabled</th>\n",
       "      <th>likes</th>\n",
       "      <th>dislike</th>\n",
       "      <th>tag appered in title</th>\n",
       "      <th>views</th>\n",
       "    </tr>\n",
       "  </thead>\n",
       "  <tbody>\n",
       "    <tr>\n",
       "      <th>1562</th>\n",
       "      <td>TPH92WV\\45</td>\n",
       "      <td>23</td>\n",
       "      <td>The Tonight Show Starring Jimmy Fallon</td>\n",
       "      <td>1576229455</td>\n",
       "      <td>Alison Brie's GLOW Co-Stars Freaked Out Over H...</td>\n",
       "      <td>The Tonight Show|Jimmy Fallon|Alison Brie|GLOW...</td>\n",
       "      <td>Alison Brie chats about her Golden Globes nomi...</td>\n",
       "      <td>10</td>\n",
       "      <td>18</td>\n",
       "      <td>6</td>\n",
       "      <td>118359</td>\n",
       "      <td>TRUE</td>\n",
       "      <td>TRUE</td>\n",
       "      <td>0</td>\n",
       "      <td>0</td>\n",
       "      <td>True</td>\n",
       "      <td>3558846</td>\n",
       "    </tr>\n",
       "  </tbody>\n",
       "</table>\n",
       "</div>"
      ],
      "text/plain": [
       "        Video_id  category_id                           channel_title  \\\n",
       "1562  TPH92WV\\45           23  The Tonight Show Starring Jimmy Fallon   \n",
       "\n",
       "      subscriber                                              title  \\\n",
       "1562  1576229455  Alison Brie's GLOW Co-Stars Freaked Out Over H...   \n",
       "\n",
       "                                                   tags  \\\n",
       "1562  The Tonight Show|Jimmy Fallon|Alison Brie|GLOW...   \n",
       "\n",
       "                                            description  Trend_day_count  \\\n",
       "1562  Alison Brie chats about her Golden Globes nomi...               10   \n",
       "\n",
       "      Tag_count Trend_tag_count  comment_count comment_disabled  \\\n",
       "1562         18               6         118359             TRUE   \n",
       "\n",
       "     like dislike disabled  likes  dislike tag appered in title    views  \n",
       "1562                  TRUE      0        0                 True  3558846  "
      ]
     },
     "execution_count": 79,
     "metadata": {},
     "output_type": "execute_result"
    }
   ],
   "source": [
    "data.loc[[1562]] # this where we get max subcriber for channel"
   ]
  },
  {
   "cell_type": "code",
   "execution_count": 80,
   "metadata": {},
   "outputs": [
    {
     "data": {
      "text/plain": [
       "29"
      ]
     },
     "execution_count": 80,
     "metadata": {},
     "output_type": "execute_result"
    }
   ],
   "source": [
    "data['views'].idxmax()"
   ]
  },
  {
   "cell_type": "code",
   "execution_count": 81,
   "metadata": {},
   "outputs": [
    {
     "data": {
      "text/html": [
       "<div>\n",
       "<style scoped>\n",
       "    .dataframe tbody tr th:only-of-type {\n",
       "        vertical-align: middle;\n",
       "    }\n",
       "\n",
       "    .dataframe tbody tr th {\n",
       "        vertical-align: top;\n",
       "    }\n",
       "\n",
       "    .dataframe thead th {\n",
       "        text-align: right;\n",
       "    }\n",
       "</style>\n",
       "<table border=\"1\" class=\"dataframe\">\n",
       "  <thead>\n",
       "    <tr style=\"text-align: right;\">\n",
       "      <th></th>\n",
       "      <th>Video_id</th>\n",
       "      <th>category_id</th>\n",
       "      <th>channel_title</th>\n",
       "      <th>subscriber</th>\n",
       "      <th>title</th>\n",
       "      <th>tags</th>\n",
       "      <th>description</th>\n",
       "      <th>Trend_day_count</th>\n",
       "      <th>Tag_count</th>\n",
       "      <th>Trend_tag_count</th>\n",
       "      <th>comment_count</th>\n",
       "      <th>comment_disabled</th>\n",
       "      <th>like dislike disabled</th>\n",
       "      <th>likes</th>\n",
       "      <th>dislike</th>\n",
       "      <th>tag appered in title</th>\n",
       "      <th>views</th>\n",
       "    </tr>\n",
       "  </thead>\n",
       "  <tbody>\n",
       "    <tr>\n",
       "      <th>29</th>\n",
       "      <td>ZUW72GLK1</td>\n",
       "      <td>1</td>\n",
       "      <td>FaeryInLoveInc</td>\n",
       "      <td>44</td>\n",
       "      <td>Nick Andopolis: Drummer</td>\n",
       "      <td>freaks and geeks|jason segel|judd apatow|drums...</td>\n",
       "      <td>The opening of Freaks and Geeks Episode 6, I'm...</td>\n",
       "      <td>12</td>\n",
       "      <td>21</td>\n",
       "      <td>1</td>\n",
       "      <td>273491</td>\n",
       "      <td>TRUE</td>\n",
       "      <td>TRUE</td>\n",
       "      <td>0</td>\n",
       "      <td>0</td>\n",
       "      <td>True</td>\n",
       "      <td>989873537</td>\n",
       "    </tr>\n",
       "  </tbody>\n",
       "</table>\n",
       "</div>"
      ],
      "text/plain": [
       "     Video_id  category_id   channel_title  subscriber  \\\n",
       "29  ZUW72GLK1            1  FaeryInLoveInc          44   \n",
       "\n",
       "                      title  \\\n",
       "29  Nick Andopolis: Drummer   \n",
       "\n",
       "                                                 tags  \\\n",
       "29  freaks and geeks|jason segel|judd apatow|drums...   \n",
       "\n",
       "                                          description  Trend_day_count  \\\n",
       "29  The opening of Freaks and Geeks Episode 6, I'm...               12   \n",
       "\n",
       "    Tag_count Trend_tag_count  comment_count comment_disabled  \\\n",
       "29         21               1         273491             TRUE   \n",
       "\n",
       "   like dislike disabled  likes  dislike tag appered in title      views  \n",
       "29                  TRUE      0        0                 True  989873537  "
      ]
     },
     "execution_count": 81,
     "metadata": {},
     "output_type": "execute_result"
    }
   ],
   "source": [
    "data.loc[[29]]# where there is max views"
   ]
  },
  {
   "cell_type": "code",
   "execution_count": 84,
   "metadata": {},
   "outputs": [
    {
     "data": {
      "text/plain": [
       "<AxesSubplot:>"
      ]
     },
     "execution_count": 84,
     "metadata": {},
     "output_type": "execute_result"
    },
    {
     "data": {
      "image/png": "[encoded data removed]",
      "text/plain": [
       "<Figure size 432x288 with 1 Axes>"
      ]
     },
     "metadata": {
      "needs_background": "light"
     },
     "output_type": "display_data"
    }
   ],
   "source": [
    "data.comment_count.hist()"
   ]
  },
  {
   "cell_type": "code",
   "execution_count": 85,
   "metadata": {},
   "outputs": [],
   "source": [
    "#above graph shows highest the comment rate more will be the trending video"
   ]
  },
  {
   "cell_type": "code",
   "execution_count": 86,
   "metadata": {},
   "outputs": [
    {
     "data": {
      "text/plain": [
       "1091"
      ]
     },
     "execution_count": 86,
     "metadata": {},
     "output_type": "execute_result"
    }
   ],
   "source": [
    "data['dislike'].idxmax()"
   ]
  },
  {
   "cell_type": "code",
   "execution_count": 87,
   "metadata": {},
   "outputs": [
    {
     "data": {
      "text/html": [
       "<div>\n",
       "<style scoped>\n",
       "    .dataframe tbody tr th:only-of-type {\n",
       "        vertical-align: middle;\n",
       "    }\n",
       "\n",
       "    .dataframe tbody tr th {\n",
       "        vertical-align: top;\n",
       "    }\n",
       "\n",
       "    .dataframe thead th {\n",
       "        text-align: right;\n",
       "    }\n",
       "</style>\n",
       "<table border=\"1\" class=\"dataframe\">\n",
       "  <thead>\n",
       "    <tr style=\"text-align: right;\">\n",
       "      <th></th>\n",
       "      <th>Video_id</th>\n",
       "      <th>category_id</th>\n",
       "      <th>channel_title</th>\n",
       "      <th>subscriber</th>\n",
       "      <th>title</th>\n",
       "      <th>tags</th>\n",
       "      <th>description</th>\n",
       "      <th>Trend_day_count</th>\n",
       "      <th>Tag_count</th>\n",
       "      <th>Trend_tag_count</th>\n",
       "      <th>comment_count</th>\n",
       "      <th>comment_disabled</th>\n",
       "      <th>like dislike disabled</th>\n",
       "      <th>likes</th>\n",
       "      <th>dislike</th>\n",
       "      <th>tag appered in title</th>\n",
       "      <th>views</th>\n",
       "    </tr>\n",
       "  </thead>\n",
       "  <tbody>\n",
       "    <tr>\n",
       "      <th>1091</th>\n",
       "      <td>QQY15LPG28</td>\n",
       "      <td>17</td>\n",
       "      <td>ESPN</td>\n",
       "      <td>2702088</td>\n",
       "      <td>Urban Meyer reacts to Ohio State not making th...</td>\n",
       "      <td>espn|espn live|CFP|College Football Playoff|Oh...</td>\n",
       "      <td>Head football coach Urban Meyer reacts to the ...</td>\n",
       "      <td>6</td>\n",
       "      <td>13</td>\n",
       "      <td>1</td>\n",
       "      <td>291981</td>\n",
       "      <td>TRUE</td>\n",
       "      <td>FALSE</td>\n",
       "      <td>16946</td>\n",
       "      <td>14858</td>\n",
       "      <td>True</td>\n",
       "      <td>1307840</td>\n",
       "    </tr>\n",
       "  </tbody>\n",
       "</table>\n",
       "</div>"
      ],
      "text/plain": [
       "        Video_id  category_id channel_title  subscriber  \\\n",
       "1091  QQY15LPG28           17          ESPN     2702088   \n",
       "\n",
       "                                                  title  \\\n",
       "1091  Urban Meyer reacts to Ohio State not making th...   \n",
       "\n",
       "                                                   tags  \\\n",
       "1091  espn|espn live|CFP|College Football Playoff|Oh...   \n",
       "\n",
       "                                            description  Trend_day_count  \\\n",
       "1091  Head football coach Urban Meyer reacts to the ...                6   \n",
       "\n",
       "      Tag_count Trend_tag_count  comment_count comment_disabled  \\\n",
       "1091         13               1         291981             TRUE   \n",
       "\n",
       "     like dislike disabled  likes  dislike tag appered in title    views  \n",
       "1091                 FALSE  16946    14858                 True  1307840  "
      ]
     },
     "execution_count": 87,
     "metadata": {},
     "output_type": "execute_result"
    }
   ],
   "source": [
    "data.loc[[1091]]# most disliked content"
   ]
  },
  {
   "cell_type": "code",
   "execution_count": 96,
   "metadata": {},
   "outputs": [
    {
     "data": {
      "text/plain": [
       "<AxesSubplot:xlabel='comment_count', ylabel='dislike'>"
      ]
     },
     "execution_count": 96,
     "metadata": {},
     "output_type": "execute_result"
    },
    {
     "data": {
      "image/png": "[encoded data removed]",
      "text/plain": [
       "<Figure size 432x288 with 1 Axes>"
      ]
     },
     "metadata": {
      "needs_background": "light"
     },
     "output_type": "display_data"
    }
   ],
   "source": [
    "sns.lineplot(x = data['comment_count'].loc[200:220], y = data['dislike'].loc[200:220])"
   ]
  },
  {
   "cell_type": "code",
   "execution_count": 97,
   "metadata": {},
   "outputs": [],
   "source": [
    "#upper trend shows how dislike and comment_count relate each other.....\n",
    "#in come cases user want to share how you can improve your video so that in that cases we have more dislikes and more comment\n",
    "#in some cases user doesn't want to tell any thinh he/she simply dislike.. in tat cases we have more dislikes then comment_count"
   ]
  },
  {
   "cell_type": "code",
   "execution_count": null,
   "metadata": {},
   "outputs": [],
   "source": []
  }
 ],
 "metadata": {
  "kernelspec": {
   "display_name": "Python 3",
   "language": "python",
   "name": "python3"
  },
  "language_info": {
   "codemirror_mode": {
    "name": "ipython",
    "version": 3
   },
   "file_extension": ".py",
   "mimetype": "text/x-python",
   "name": "python",
   "nbconvert_exporter": "python",
   "pygments_lexer": "ipython3",
   "version": "3.7.6"
  }
 },
 "nbformat": 4,
 "nbformat_minor": 4
}
