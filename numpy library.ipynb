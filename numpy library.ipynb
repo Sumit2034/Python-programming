{
 "cells": [
  {
   "cell_type": "code",
   "execution_count": 2,
   "metadata": {},
   "outputs": [
    {
     "name": "stdout",
     "output_type": "stream",
     "text": [
      "Requirement already satisfied: numpy in c:\\users\\user\\appdata\\local\\programs\\python\\python37-32\\lib\\site-packages (1.19.2)\n"
     ]
    }
   ],
   "source": [
    "!pip install numpy"
   ]
  },
  {
   "cell_type": "code",
   "execution_count": 3,
   "metadata": {},
   "outputs": [],
   "source": [
    "import numpy"
   ]
  },
  {
   "cell_type": "code",
   "execution_count": 4,
   "metadata": {},
   "outputs": [
    {
     "name": "stdout",
     "output_type": "stream",
     "text": [
      "[1 2 3 4 5]\n",
      "<class 'numpy.ndarray'>\n"
     ]
    }
   ],
   "source": [
    "import numpy as np\n",
    "arr = np.array([1,2,3,4,5])\n",
    "\n",
    "print(arr)\n",
    "print(type(arr))"
   ]
  },
  {
   "cell_type": "code",
   "execution_count": 5,
   "metadata": {},
   "outputs": [
    {
     "name": "stdout",
     "output_type": "stream",
     "text": [
      "1.19.2\n"
     ]
    }
   ],
   "source": [
    "print(np.__version__)"
   ]
  },
  {
   "cell_type": "code",
   "execution_count": 6,
   "metadata": {},
   "outputs": [
    {
     "name": "stdout",
     "output_type": "stream",
     "text": [
      "12\n",
      "<class 'numpy.ndarray'>\n",
      "0\n"
     ]
    }
   ],
   "source": [
    "import numpy as np\n",
    "arr = np.array(12)\n",
    "\n",
    "print(arr)\n",
    "print(type(arr))\n",
    "print(arr.ndim)"
   ]
  },
  {
   "cell_type": "code",
   "execution_count": 7,
   "metadata": {},
   "outputs": [
    {
     "name": "stdout",
     "output_type": "stream",
     "text": [
      "[[1 2 3 4 5]\n",
      " [7 8 9 5 4]\n",
      " [3 7 4 9 7]]\n",
      "<class 'numpy.ndarray'>\n",
      "2\n",
      "[[1 2 3 4]\n",
      " [7 8 9 5]\n",
      " [3 7 4 9]]\n"
     ]
    }
   ],
   "source": [
    "import numpy as np\n",
    "arr = np.array([[1,2,3,4,5],[7,8,9,5,4],[3,7,4,9,7]])\n",
    "\n",
    "print(arr)\n",
    "print(type(arr))\n",
    "print(arr.ndim)\n",
    "print(arr[0:3,0:4])"
   ]
  },
  {
   "cell_type": "code",
   "execution_count": 8,
   "metadata": {},
   "outputs": [
    {
     "name": "stdout",
     "output_type": "stream",
     "text": [
      "[[[1 2 3 4 5]\n",
      "  [6 9 6 8 3]]\n",
      "\n",
      " [[1 2 3 4 5]\n",
      "  [7 2 9 5 7]]]\n",
      "<class 'numpy.ndarray'>\n",
      "3\n"
     ]
    }
   ],
   "source": [
    "import numpy as np\n",
    "arr = np.array([[[1,2,3,4,5],[6,9,6,8,3]],[[1,2,3,4,5],[7,2,9,5,7]]])\n",
    "\n",
    "print(arr)\n",
    "print(type(arr))\n",
    "print(arr.ndim)"
   ]
  },
  {
   "cell_type": "code",
   "execution_count": 9,
   "metadata": {},
   "outputs": [
    {
     "name": "stdout",
     "output_type": "stream",
     "text": [
      "enter size6\n",
      "enter value : 1\n",
      "enter value : 2\n",
      "enter value : 3\n",
      "enter value : 4\n",
      "enter value : 5\n",
      "enter value : 6\n",
      "[1, 2, 3, 4, 5, 6]\n",
      "[1 2 3 4 5 6]\n"
     ]
    }
   ],
   "source": [
    "# input for user\n",
    "\n",
    "n = int(input(\"enter size\"))\n",
    "\n",
    "list = []\n",
    "for i in range(0,n):\n",
    "    num = int(input(\"enter value : \"))\n",
    "    list.append(num)\n",
    "    \n",
    "print(list)\n",
    "arr = np.array(list)\n",
    "print(arr)"
   ]
  },
  {
   "cell_type": "code",
   "execution_count": 10,
   "metadata": {},
   "outputs": [
    {
     "name": "stdout",
     "output_type": "stream",
     "text": [
      "[1 2]\n"
     ]
    }
   ],
   "source": [
    "# SLICING OF 1-d ARRAY\n",
    "import numpy as np\n",
    "arr = np.array([1,2,3,4,5])\n",
    "print(arr[0:2])"
   ]
  },
  {
   "cell_type": "code",
   "execution_count": 11,
   "metadata": {},
   "outputs": [
    {
     "name": "stdout",
     "output_type": "stream",
     "text": [
      "[[2 3]\n",
      " [7 8]\n",
      " [6 9]]\n"
     ]
    }
   ],
   "source": [
    "import numpy as np\n",
    "arr = np.array([[1,2,3,4,5],[6,7,8,9,3],[4,6,9,2,5],[3,5,1,9,7]])\n",
    "print(arr[0:3,1:3])"
   ]
  },
  {
   "cell_type": "code",
   "execution_count": 12,
   "metadata": {},
   "outputs": [
    {
     "name": "stdout",
     "output_type": "stream",
     "text": [
      "[ 6  7  8  9 10]\n"
     ]
    }
   ],
   "source": [
    "import numpy as np\n",
    "arr = np.array([1,2,3,4,5])\n",
    "b = arr + 5\n",
    "print(b)"
   ]
  },
  {
   "cell_type": "code",
   "execution_count": 13,
   "metadata": {},
   "outputs": [
    {
     "name": "stdout",
     "output_type": "stream",
     "text": [
      "[ 6 18 12 32 35]\n"
     ]
    }
   ],
   "source": [
    "import numpy as np\n",
    "arr = np.array([1,2,3,4,5])\n",
    "arr2 = np.array([6,9,4,8,7])\n",
    "#c = arr + arr2\n",
    "c = arr * arr2\n",
    "print(c)"
   ]
  },
  {
   "cell_type": "markdown",
   "metadata": {},
   "source": [
    "# DOT PRODUCT AND CROSS PRODUCT"
   ]
  },
  {
   "cell_type": "code",
   "execution_count": 14,
   "metadata": {},
   "outputs": [
    {
     "name": "stdout",
     "output_type": "stream",
     "text": [
      "36\n",
      "[-19  14  -3]\n"
     ]
    }
   ],
   "source": [
    "arr = np.array([1,2,3])\n",
    "arr2 = np.array([6,9,4])\n",
    "print(np.dot(arr,arr2))\n",
    "print(np.cross(arr,arr2))"
   ]
  },
  {
   "cell_type": "code",
   "execution_count": 15,
   "metadata": {},
   "outputs": [
    {
     "name": "stdout",
     "output_type": "stream",
     "text": [
      "[  2.71828183   7.3890561   20.08553692  54.59815003 148.4131591 ]\n"
     ]
    }
   ],
   "source": [
    "a = np.array([1,2,3,4,5])\n",
    "print(np.exp(a))"
   ]
  },
  {
   "cell_type": "code",
   "execution_count": 16,
   "metadata": {},
   "outputs": [
    {
     "name": "stdout",
     "output_type": "stream",
     "text": [
      "[-1.00000000e+00  6.12323400e-17  5.00000000e-01  7.07106781e-01]\n",
      "[1.22464680e-16 1.00000000e+00 8.66025404e-01 7.07106781e-01]\n"
     ]
    }
   ],
   "source": [
    "a = np.array([np.pi,np.pi/2,np.pi/3,np.pi/4])\n",
    "print(np.cos(a))\n",
    "print(np.sin(a))"
   ]
  },
  {
   "cell_type": "code",
   "execution_count": 17,
   "metadata": {},
   "outputs": [
    {
     "name": "stdout",
     "output_type": "stream",
     "text": [
      "[ 2  4  6  8 10 12 14 16 18]\n"
     ]
    }
   ],
   "source": [
    "arr = np.arange(2,20,2)   #(start,stop,increment)\n",
    "print(arr)"
   ]
  },
  {
   "cell_type": "code",
   "execution_count": 18,
   "metadata": {},
   "outputs": [
    {
     "name": "stdout",
     "output_type": "stream",
     "text": [
      "[ 2.          3.14285714  4.28571429  5.42857143  6.57142857  7.71428571\n",
      "  8.85714286 10.        ]\n"
     ]
    }
   ],
   "source": [
    "arr = np.linspace(2,10,8) #(start,stop,no. of elements)\n",
    "print(arr)"
   ]
  },
  {
   "cell_type": "code",
   "execution_count": 19,
   "metadata": {},
   "outputs": [
    {
     "name": "stdout",
     "output_type": "stream",
     "text": [
      "[ 1000.          1389.49549437  1930.69772888  2682.69579528\n",
      "  3727.59372031  5179.47467923  7196.85673001 10000.        ]\n"
     ]
    }
   ],
   "source": [
    "arr = np.logspace(3,4,8)  #(10^first, 10^middle, no. of  elements)\n",
    "print(arr)"
   ]
  },
  {
   "cell_type": "code",
   "execution_count": 20,
   "metadata": {},
   "outputs": [
    {
     "name": "stdout",
     "output_type": "stream",
     "text": [
      "[[0. 0. 0. 0. 0.]\n",
      " [0. 0. 0. 0. 0.]\n",
      " [0. 0. 0. 0. 0.]\n",
      " [0. 0. 0. 0. 0.]\n",
      " [0. 0. 0. 0. 0.]]\n"
     ]
    }
   ],
   "source": [
    "arr = np.zeros((5,5))\n",
    "print(arr)"
   ]
  },
  {
   "cell_type": "code",
   "execution_count": 21,
   "metadata": {},
   "outputs": [
    {
     "name": "stdout",
     "output_type": "stream",
     "text": [
      "[2 5 4 1]\n"
     ]
    }
   ],
   "source": [
    "# ANOTHER DECLARATION OF ARRAY USING DATATYPE\n",
    "arr = np.array([2,5,4,1], dtype = 'int64')\n",
    "#arr = np.array([2,5,'fd',1], dtype = 'int64') error\n",
    "print(arr)"
   ]
  },
  {
   "cell_type": "code",
   "execution_count": 22,
   "metadata": {},
   "outputs": [
    {
     "name": "stdout",
     "output_type": "stream",
     "text": [
      "[1. 1. 1. 1. 1.]\n"
     ]
    }
   ],
   "source": [
    "arr = np.ones(5)\n",
    "print(arr)"
   ]
  },
  {
   "cell_type": "code",
   "execution_count": 23,
   "metadata": {},
   "outputs": [
    {
     "name": "stdout",
     "output_type": "stream",
     "text": [
      "[8 6 4 5 1 6 1 5]\n"
     ]
    }
   ],
   "source": [
    "arr = np.random.randint(0,15,8)   #(start,stop,number of elements)\n",
    "print(arr)"
   ]
  },
  {
   "cell_type": "code",
   "execution_count": 24,
   "metadata": {},
   "outputs": [
    {
     "name": "stdout",
     "output_type": "stream",
     "text": [
      "[0.55519243 0.44570223 0.45236469 0.25989986 0.10572463]\n"
     ]
    }
   ],
   "source": [
    "arr = np.random.rand(5) # for float values random array\n",
    "print(arr)"
   ]
  },
  {
   "cell_type": "code",
   "execution_count": 25,
   "metadata": {},
   "outputs": [
    {
     "name": "stdout",
     "output_type": "stream",
     "text": [
      "[2.75325011 4.41842547 0.77710974 8.6236261  7.08336079 4.11955598\n",
      " 7.83397008 2.41882328 9.88879349]\n"
     ]
    }
   ],
   "source": [
    "arr = np.random.rand(9)*10\n",
    "print(arr)"
   ]
  },
  {
   "cell_type": "code",
   "execution_count": 26,
   "metadata": {},
   "outputs": [
    {
     "name": "stdout",
     "output_type": "stream",
     "text": [
      "[[[7.92911741 7.44698356 5.61428105 6.55827717 5.16706854]\n",
      "  [7.16340502 6.96608487 7.61068984 5.71283505 7.47546026]\n",
      "  [5.49057247 6.06722722 7.94181476 7.42243752 7.52417038]\n",
      "  [7.78166849 6.48376139 7.76523882 6.11422215 6.30642584]\n",
      "  [5.96080794 6.28072539 7.41542748 6.19653367 6.06545834]]\n",
      "\n",
      " [[6.04835081 7.5191792  7.312555   5.3198689  5.84127513]\n",
      "  [6.08585888 7.8034456  7.08701407 6.82923474 6.93425825]\n",
      "  [6.55608161 6.54799367 7.51138207 6.95234437 6.84315556]\n",
      "  [5.25177647 5.56241203 5.57817865 7.56871782 7.06456068]\n",
      "  [7.32110412 7.53563329 7.65566337 7.17417443 7.32674611]]]\n"
     ]
    }
   ],
   "source": [
    "arr = np.random.rand(2,5,5)*3 +5\n",
    "              #(no.of matrix,row,column)* upto + fromwhere\n",
    "print(arr)"
   ]
  },
  {
   "cell_type": "code",
   "execution_count": 27,
   "metadata": {},
   "outputs": [
    {
     "name": "stdout",
     "output_type": "stream",
     "text": [
      "[8 3 8 8 2]\n"
     ]
    }
   ],
   "source": [
    "list = [3,5,9,3,8,2,7]\n",
    "arr = np.random.choice(list,5) # to take random from list\n",
    "print(arr)"
   ]
  },
  {
   "cell_type": "code",
   "execution_count": 28,
   "metadata": {},
   "outputs": [
    {
     "name": "stdout",
     "output_type": "stream",
     "text": [
      "Yes\n"
     ]
    }
   ],
   "source": [
    "# to check whether any of element in a given isa non zero\n",
    "import numpy as np\n",
    "arr = np.array([0,5,0,0,3])\n",
    "for i in arr:\n",
    "    if i!=0:\n",
    "        print(\"Yes\")\n",
    "        break\n",
    "        \n"
   ]
  },
  {
   "cell_type": "code",
   "execution_count": 41,
   "metadata": {},
   "outputs": [
    {
     "name": "stdout",
     "output_type": "stream",
     "text": [
      "False\n",
      "True\n"
     ]
    }
   ],
   "source": [
    "arr = np.array([1,1,0,1,1])\n",
    "print(np.all(arr)) # to check all are 1 in arr\n",
    "print(np.any(arr)) # to check if a num>0 is present"
   ]
  },
  {
   "cell_type": "code",
   "execution_count": 30,
   "metadata": {},
   "outputs": [
    {
     "name": "stdout",
     "output_type": "stream",
     "text": [
      "[30 32 34 36 38 40 42 44 46 48 50 52 54 56 58 60 62 64 66 68 70]\n"
     ]
    }
   ],
   "source": [
    "arr = np.arange(30,72,2)\n",
    "print(arr)"
   ]
  },
  {
   "cell_type": "code",
   "execution_count": 31,
   "metadata": {},
   "outputs": [
    {
     "name": "stdout",
     "output_type": "stream",
     "text": [
      "[0.78131839 0.8009469  0.39161356 0.13089372 0.27498092]\n"
     ]
    }
   ],
   "source": [
    "arr = np.random.rand(5)*1 + 0\n",
    "print(arr)"
   ]
  },
  {
   "cell_type": "code",
   "execution_count": 32,
   "metadata": {},
   "outputs": [
    {
     "name": "stdout",
     "output_type": "stream",
     "text": [
      "ORIGINAL ARRAY:  [10 10 20 20 30 30]\n",
      "UNIQUE ARRAY:  [10 20 30]\n"
     ]
    }
   ],
   "source": [
    "arr = np.array([10,10,20,20,30,30])\n",
    "print(\"ORIGINAL ARRAY: \",arr)\n",
    "arr2 = np.unique(arr)\n",
    "print(\"UNIQUE ARRAY: \",arr2)\n"
   ]
  },
  {
   "cell_type": "code",
   "execution_count": 67,
   "metadata": {},
   "outputs": [
    {
     "name": "stdout",
     "output_type": "stream",
     "text": [
      "enter rows : 3\n",
      "1 2 3\n",
      "1 22 3\n",
      "5 6 7\n",
      "[[ 1  2  3]\n",
      " [ 1 22  3]\n",
      " [ 5  6  7]]\n"
     ]
    }
   ],
   "source": [
    "# input of 2-d array\n",
    "import numpy as np\n",
    "lis = []\n",
    "row = int(input(\"enter rows : \"))\n",
    "for i in range(row):\n",
    "    for j in [input().split()]:\n",
    "        lis.append(j)\n",
    "        arr = np.array(lis,dtype=int)\n",
    "        \n",
    "print(arr)"
   ]
  },
  {
   "cell_type": "code",
   "execution_count": null,
   "metadata": {},
   "outputs": [],
   "source": [
    "## NUMBER IS PERFECT OR NOT\n",
    "def perfect(num):\n",
    "    sum = 0\n",
    "    for i in range(1,num):\n",
    "        if(num%i==0):\n",
    "            sum = sum + i;\n",
    "    if(sum==num):\n",
    "        print(\"PERFECT\")\n",
    "    else:\n",
    "        print(\"NOT PERFECT\")\n",
    "\n",
    "n = int(input(\"ENTER NO.\"))\n",
    "perfect(n)"
   ]
  },
  {
   "cell_type": "code",
   "execution_count": null,
   "metadata": {},
   "outputs": [],
   "source": [
    "#PERFECT NUMBER BETWEEN RANGE\n",
    "def perfect():\n",
    "    sum = 0\n",
    "    for i in range(1,1000):\n",
    "        sum = 0\n",
    "        num = i\n",
    "        for j in range(1,num):\n",
    "            if(num%j==0):\n",
    "                sum = sum + j\n",
    "        if(sum==i):\n",
    "            print(\"PERFECT NO. IS : \",i)\n",
    "\n",
    "perfect()\n"
   ]
  },
  {
   "cell_type": "code",
   "execution_count": 37,
   "metadata": {},
   "outputs": [
    {
     "name": "stdout",
     "output_type": "stream",
     "text": [
      "ENTER NUMBER: 10\n",
      "0\n",
      "1\n",
      "1\n",
      "2\n",
      "3\n",
      "5\n",
      "8\n",
      "13\n",
      "21\n",
      "34\n"
     ]
    }
   ],
   "source": [
    "# N FIBONACCI NUMBER\n",
    "\n",
    "def fibo(n):\n",
    "    if(n<=1):\n",
    "        return n;\n",
    "    else:\n",
    "        return (fibo(n-1) + fibo(n-2))\n",
    "    \n",
    "    \n",
    "num = int(input(\"ENTER NUMBER: \"))\n",
    "#list = []\n",
    "for i in range(0,num):\n",
    "    #list.append(fibo(i))\n",
    "    print(fibo(i))"
   ]
  },
  {
   "cell_type": "code",
   "execution_count": 39,
   "metadata": {},
   "outputs": [
    {
     "name": "stdout",
     "output_type": "stream",
     "text": [
      "ENTER NUM : 10\n",
      "0\n",
      "1\n",
      "1\n",
      "2\n",
      "3\n",
      "5\n",
      "8\n",
      "13\n",
      "21\n",
      "34\n"
     ]
    }
   ],
   "source": [
    "# ALTERNATE OF ABOVE\n",
    "def fiboseries(num):\n",
    "    a=0\n",
    "    b=1\n",
    "    for i in range(num):\n",
    "        print(a)\n",
    "        temp = a\n",
    "        a = b\n",
    "        b = temp + b\n",
    "        \n",
    "num = int(input(\"ENTER NUM : \"))\n",
    "fiboseries(num)"
   ]
  },
  {
   "cell_type": "code",
   "execution_count": 60,
   "metadata": {},
   "outputs": [],
   "source": [
    "# A PASSWORD GENERATOR IN PYHTON\n"
   ]
  },
  {
   "cell_type": "code",
   "execution_count": null,
   "metadata": {},
   "outputs": [],
   "source": []
  }
 ],
 "metadata": {
  "kernelspec": {
   "display_name": "Python 3",
   "language": "python",
   "name": "python3"
  },
  "language_info": {
   "codemirror_mode": {
    "name": "ipython",
    "version": 3
   },
   "file_extension": ".py",
   "mimetype": "text/x-python",
   "name": "python",
   "nbconvert_exporter": "python",
   "pygments_lexer": "ipython3",
   "version": "3.7.6"
  }
 },
 "nbformat": 4,
 "nbformat_minor": 4
}
