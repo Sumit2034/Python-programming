{
 "cells": [
  {
   "cell_type": "markdown",
   "metadata": {},
   "source": [
    "# Question-1\n",
    "Given below are a list of positive and negative words. Also a list of comments is provided. Segregate the comments based on positive and negative sentiments. \n",
    "positive = ['good','awesome', 'best', 'nice'] \n",
    "negative = ['worst','awful'] \n",
    "comments = ['He is a good boy', 'Food is the worst here', 'He is an awesome player', \n",
    "            'She is the best', 'This pizza tastes awful', 'These burger are really nice']"
   ]
  },
  {
   "cell_type": "code",
   "execution_count": 1,
   "metadata": {},
   "outputs": [
    {
     "name": "stdout",
     "output_type": "stream",
     "text": [
      "['He is a good boy', 'He is an awesome player', 'She is the best', 'These burger are really nice']\n",
      "['Food is the worst here', 'This pizza tastes awful']\n"
     ]
    }
   ],
   "source": [
    "pos=[]\n",
    "neg=[]\n",
    "\n",
    "positive = ['good','awesome', 'best', 'nice']\n",
    "negative = ['worst','awful']\n",
    "comments = ['He is a good boy',\n",
    " 'Food is the worst here',\n",
    " 'He is an awesome player',\n",
    " 'She is the best',\n",
    " 'This pizza tastes awful',\n",
    " 'These burger are really nice']\n",
    "\n",
    "for i in comments:\n",
    "    for j in positive:\n",
    "        if j in i:\n",
    "            pos.append(i)\n",
    "            break\n",
    "    else:\n",
    "        neg.append(i)\n",
    "print(pos)\n",
    "print(neg)"
   ]
  },
  {
   "cell_type": "markdown",
   "metadata": {},
   "source": [
    "# Question-2\n",
    "Create a dictionary containing three lambda functions square, cube and square root. E.g. dict = {'Square': function for squaring, 'Cube': function for cube, 'Squareroot': function for square root} Pass the values (input from the user) to the functions in the dictionary respectively. Then add the outputs of each function and print it."
   ]
  },
  {
   "cell_type": "code",
   "execution_count": 2,
   "metadata": {},
   "outputs": [
    {
     "name": "stdout",
     "output_type": "stream",
     "text": [
      "4\n",
      "82.0\n"
     ]
    }
   ],
   "source": [
    "import math\n",
    "sqr=lambda a:a**2\n",
    "cube=lambda a:a**3\n",
    "sqroot=lambda a:math.sqrt(a)\n",
    "num=int(input())\n",
    "dic = {'Square': sqr(num), 'Cube': cube(num), 'Sqroot': sqroot(num)}\n",
    "s=dic['Square']+dic['Cube']+dic['Sqroot']\n",
    "print(s)"
   ]
  },
  {
   "cell_type": "markdown",
   "metadata": {},
   "source": [
    "# Question-3\n",
    "Find the fruits that are sour in taste from the tuple given below. fruits = (('Lemon','sour'), ('DragonFruit', 'Sweet'), ('Grapes','soUr'), ('Kiwi','Sour'), ('Apples','sweet'), ('Orange','sour'), ('Blueberries','sweet'), ('Limes','Sour') )\n",
    "\n",
    "Output: Sour Fruits: ['Lemon', 'Grapes', 'Kiwi', 'Orange', 'Limes']"
   ]
  },
  {
   "cell_type": "code",
   "execution_count": 3,
   "metadata": {},
   "outputs": [
    {
     "name": "stdout",
     "output_type": "stream",
     "text": [
      "Sour Fruits :  ['Lemon', 'Grapes', 'Kiwi', 'Orange', 'Limes']\n"
     ]
    }
   ],
   "source": [
    "list1=[]\n",
    "fruits = (('Lemon','sour'), ('DragonFruit', 'Sweet'), ('Grapes','soUr'), ('Kiwi','Sour'), ('Apples','sweet'), ('Orange','sour'), ('Blueberries','sweet'), ('Limes','Sour') )\n",
    "for ir in range(len(fruits)):\n",
    "    if fruits[ir][1].lower()=='sour':\n",
    "        list1.append(fruits[ir][0])\n",
    "print(\"Sour Fruits : \",list1)"
   ]
  },
  {
   "cell_type": "markdown",
   "metadata": {},
   "source": [
    "# Question-4\n",
    "A list of words is given. Find the words from the list that have their second character in uppercase.\n",
    "\n",
    "ls = ['hello', 'Dear', 'hOw', 'ARe', 'You']\n",
    "\n",
    "Output: ['hOw', 'ARe'"
   ]
  },
  {
   "cell_type": "code",
   "execution_count": 4,
   "metadata": {},
   "outputs": [
    {
     "data": {
      "text/plain": [
       "['hOw', 'ARe']"
      ]
     },
     "execution_count": 4,
     "metadata": {},
     "output_type": "execute_result"
    }
   ],
   "source": [
    "list1 = ['hello', 'Dear', 'hOw', 'ARe', 'You']\n",
    "sec=[]\n",
    "for i in list1:\n",
    "    if i[1].isupper():\n",
    "        sec.append(i)\n",
    "        \n",
    "sec"
   ]
  },
  {
   "cell_type": "markdown",
   "metadata": {},
   "source": [
    "# Question-5\n",
    "A dictionary of names and their weights on earth is given. Find how much they will weigh on the moon. (Use map and lambda functions) Formula : wMoon = (wEarth * GMoon) / GEarth\n",
    "\n",
    "Weight of people in kg\n",
    "WeightOnEarth = {'John':45, 'Shelly':65, 'Marry':35}\n",
    "\n",
    "Gravitational force on the Moon: 1.622 m/s2\n",
    "GMoon = 1.622\n",
    "\n",
    "Gravitational force on the Earth: 9.81 m/s2\n",
    "GEarth = 9.81 Output: Weight on Moon: {'John': 7.44, 'Shelly': 10.75, 'Marry': 5.79}"
   ]
  },
  {
   "cell_type": "code",
   "execution_count": 5,
   "metadata": {},
   "outputs": [
    {
     "data": {
      "text/plain": [
       "{'John': 7.440366972477065,\n",
       " 'Shelly': 10.747196738022426,\n",
       " 'Marry': 5.786952089704383}"
      ]
     },
     "execution_count": 5,
     "metadata": {},
     "output_type": "execute_result"
    }
   ],
   "source": [
    "WeightOnEarth = {'John':45, 'Shelly':65, 'Marry':35} \n",
    "WeightonMoon ={}\n",
    "GMoon = 1.622\n",
    "GEarth = 9.81\n",
    "WeightonMoon = dict(map(lambda kv: (kv[0],(kv[1]*GMoon)/GEarth), WeightOnEarth.items()))\n",
    "WeightonMoon"
   ]
  },
  {
   "cell_type": "markdown",
   "metadata": {},
   "source": [
    "# Question-6\n",
    "Write a program to fetch the words from the given list which have their first character in uppercase. namesList = ['santa Maria', 'Hello World','Merry christmas', 'tHank You']\n",
    "\n",
    "Output: ['Maria', 'Hello', 'World', 'Merry', 'You']"
   ]
  },
  {
   "cell_type": "code",
   "execution_count": 6,
   "metadata": {},
   "outputs": [
    {
     "data": {
      "text/plain": [
       "['Maria', 'Hello', 'World', 'Merry', 'You']"
      ]
     },
     "execution_count": 6,
     "metadata": {},
     "output_type": "execute_result"
    }
   ],
   "source": [
    "listt =  ['santa Maria', 'Hello World','Merry christmas', 'tHank You']\n",
    "split =[]\n",
    "for i in listt:\n",
    "        split.append(i.split(' '))\n",
    "list1 = []\n",
    "for i in split:\n",
    "    for j in i:\n",
    "        if j[0].isupper():\n",
    "            list1.append(j)\n",
    "list1"
   ]
  },
  {
   "cell_type": "markdown",
   "metadata": {},
   "source": [
    "# Question-7\n",
    "A list containing multiple lists is given. Convert each inner list into sets and find the intersection of all the sets. Use reduce function. given_sets = [[1, 2, 3, 4, 8], [2, 3, 8, 5, 6], [8, 4, 5, 3, 7], [6, 9, 8, 3], [9, 12, 3, 7, 6, 8, 4, 6, 21, 1, 6]]\n",
    "\n",
    "Output: {8, 3}"
   ]
  },
  {
   "cell_type": "code",
   "execution_count": 7,
   "metadata": {},
   "outputs": [
    {
     "name": "stdout",
     "output_type": "stream",
     "text": [
      "{8, 3}\n"
     ]
    }
   ],
   "source": [
    "import functools\n",
    "l=[[1, 2, 3, 4, 8], [2, 3, 8, 5, 6], [8, 4, 5, 3, 7], [6, 9, 8, 3], [9,12, 3, 7, 6, 8, 4, 6, 21, 1, 6]]\n",
    "list1=[]\n",
    "for i in l:\n",
    "    list1.append(set(i))\n",
    "print(functools.reduce(lambda a,b : b.intersection(a),list1))"
   ]
  },
  {
   "cell_type": "markdown",
   "metadata": {},
   "source": [
    "# Q8\n",
    "Find the cumulative average of the list [9,8,7,6,5] using accumulate() and lambda function.\n",
    "\n",
    "Input list: [9, 5, 7, 8, 5]"
   ]
  },
  {
   "cell_type": "code",
   "execution_count": 8,
   "metadata": {},
   "outputs": [
    {
     "data": {
      "text/plain": [
       "[9.0, 7.0, 7.0, 7.25, 6.8]"
      ]
     },
     "execution_count": 8,
     "metadata": {},
     "output_type": "execute_result"
    }
   ],
   "source": [
    "from itertools import accumulate\n",
    "lst = [9, 5, 7, 8, 5]\n",
    "cum_avg = lambda l: [round(list(accumulate(l))[i-1]/i, 2) for i in range(1, len(l)+1)]\n",
    "cum_avg(lst)"
   ]
  },
  {
   "cell_type": "markdown",
   "metadata": {},
   "source": [
    "# Question-9\n",
    "A list of words is given. Convert the words into uppercase. Use lambda and map functions.\n",
    "\n",
    "lsbool = ['True','FALse','tRUe','tRue','False','faLse']\n",
    "\n",
    "Output: ['TRUE', 'FALSE', 'TRUE', 'TRUE', 'FALSE', 'FALSE']"
   ]
  },
  {
   "cell_type": "code",
   "execution_count": 10,
   "metadata": {},
   "outputs": [
    {
     "data": {
      "text/plain": [
       "['TRUE', 'FALSE', 'TRUE', 'TRUE', 'FALSE', 'FALSE']"
      ]
     },
     "execution_count": 10,
     "metadata": {},
     "output_type": "execute_result"
    }
   ],
   "source": [
    "lsbool = ['True','FALse','tRUe','tRue','False','faLse']\n",
    "newl=list(map(lambda t:t.upper(),lsbool))\n",
    "newl"
   ]
  },
  {
   "cell_type": "markdown",
   "metadata": {},
   "source": [
    "# Question-10\n",
    "A list of dates (dd-mm-yyyy) in the form of string is given below. Create a new list that stores years i.e. the 'yyyy' part from the dates in the given list.\n",
    "\n",
    "datesList = ['17-12-1997','22-04-2011','01-05-1993','19-06-2020']\n",
    "\n",
    "Output: ['1997','2011','1993','2020']"
   ]
  },
  {
   "cell_type": "code",
   "execution_count": 11,
   "metadata": {},
   "outputs": [
    {
     "data": {
      "text/plain": [
       "['1997', '2011', '1993', '2020']"
      ]
     },
     "execution_count": 11,
     "metadata": {},
     "output_type": "execute_result"
    }
   ],
   "source": [
    "datesList = ['17-12-1997','22-04-2011','01-05-1993','19-06-2020']\n",
    "years=[i[6:] for i in datesList]\n",
    "years"
   ]
  },
  {
   "cell_type": "code",
   "execution_count": null,
   "metadata": {},
   "outputs": [],
   "source": []
  }
 ],
 "metadata": {
  "kernelspec": {
   "display_name": "Python 3",
   "language": "python",
   "name": "python3"
  },
  "language_info": {
   "codemirror_mode": {
    "name": "ipython",
    "version": 3
   },
   "file_extension": ".py",
   "mimetype": "text/x-python",
   "name": "python",
   "nbconvert_exporter": "python",
   "pygments_lexer": "ipython3",
   "version": "3.7.6"
  }
 },
 "nbformat": 4,
 "nbformat_minor": 4
}
