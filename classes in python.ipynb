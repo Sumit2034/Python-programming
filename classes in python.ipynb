{
 "cells": [
  {
   "cell_type": "markdown",
   "metadata": {},
   "source": [
    "# CLASSES IN PYTHON\n"
   ]
  },
  {
   "cell_type": "code",
   "execution_count": 45,
   "metadata": {},
   "outputs": [
    {
     "name": "stdout",
     "output_type": "stream",
     "text": [
      "4\n",
      "car\n",
      "this is class representing vehicle\n"
     ]
    }
   ],
   "source": [
    "class abc:\n",
    "    '''this is class representing vehicle'''\n",
    "    wheels = 4  #class variable\n",
    "    \n",
    "    def vehicletype():\n",
    "        print(\"car\")\n",
    "\n",
    "print(abc.wheels)        \n",
    "abc.vehicletype()\n",
    "print(abc.__doc__)"
   ]
  },
  {
   "cell_type": "code",
   "execution_count": 15,
   "metadata": {},
   "outputs": [
    {
     "name": "stdout",
     "output_type": "stream",
     "text": [
      "4\n",
      "<function abc.vehicletype at 0x0380B978>\n",
      "car\n",
      "None\n",
      "4\n"
     ]
    }
   ],
   "source": [
    "#creation of object in python\n",
    "#   object_name = class_name()\n",
    "\n",
    "\n",
    "o1 = abc()\n",
    "print(abc.wheels)\n",
    "print(abc.vehicletype)\n",
    "print(o1.vehicletype())   #object can access fucntion in clas if n only if there is self passing argument\n",
    "print(o1.wheels)"
   ]
  },
  {
   "cell_type": "code",
   "execution_count": 31,
   "metadata": {},
   "outputs": [
    {
     "name": "stdout",
     "output_type": "stream",
     "text": [
      "5\n",
      "12\n"
     ]
    }
   ],
   "source": [
    "class abc:\n",
    "    \n",
    "    def __init__(self, a, b):\n",
    "            self.a = a\n",
    "            self.b = b\n",
    "        \n",
    "obj1 = abc(5,9)\n",
    "obj2 = abc(12,7)\n",
    "print(obj1.a)\n",
    "print(obj2.a)"
   ]
  },
  {
   "cell_type": "code",
   "execution_count": 34,
   "metadata": {},
   "outputs": [
    {
     "name": "stdout",
     "output_type": "stream",
     "text": [
      "2\n",
      "2\n",
      "3\n",
      "4\n",
      "8\n",
      "9\n"
     ]
    }
   ],
   "source": [
    "class abc:\n",
    "    num1 = 2\n",
    "    num2 = 5\n",
    "    def getdata(self,a,b):\n",
    "        self.a = a\n",
    "        self.b = b\n",
    "    def setdata(self):\n",
    "        print(self.a)\n",
    "        print(self.b)\n",
    "ob1 = abc()\n",
    "ob2 = abc()\n",
    "print(ob1.num1)\n",
    "print(ob2.num1)\n",
    "ob1.getdata(3,4)\n",
    "ob2.getdata(8,9)\n",
    "ob1.setdata()\n",
    "ob2.setdata()"
   ]
  },
  {
   "cell_type": "code",
   "execution_count": 49,
   "metadata": {},
   "outputs": [
    {
     "name": "stdout",
     "output_type": "stream",
     "text": [
      "7\n",
      "8\n"
     ]
    }
   ],
   "source": [
    "class abc:\n",
    "    a=2\n",
    "    b=3\n",
    "    def setdata(d,c):\n",
    "        print(d)\n",
    "        print(c)\n",
    "\n",
    "(abc.setdata(7,8))"
   ]
  },
  {
   "cell_type": "code",
   "execution_count": null,
   "metadata": {},
   "outputs": [],
   "source": []
  }
 ],
 "metadata": {
  "kernelspec": {
   "display_name": "Python 3",
   "language": "python",
   "name": "python3"
  },
  "language_info": {
   "codemirror_mode": {
    "name": "ipython",
    "version": 3
   },
   "file_extension": ".py",
   "mimetype": "text/x-python",
   "name": "python",
   "nbconvert_exporter": "python",
   "pygments_lexer": "ipython3",
   "version": "3.7.6"
  }
 },
 "nbformat": 4,
 "nbformat_minor": 4
}
