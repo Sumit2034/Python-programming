{
 "cells": [
  {
   "cell_type": "code",
   "execution_count": 1,
   "metadata": {},
   "outputs": [
    {
     "name": "stdout",
     "output_type": "stream",
     "text": [
      "enter name of student : puneet\n",
      "puneet {'maths': 49, 'spanish': 63, 'punjabi': 87}\n"
     ]
    }
   ],
   "source": [
    "dict1 = {\"shivam\":{\"maths\":45,\"spanish\":60, \"punjabi\":89},\"ajay\":\n",
    "        {\"maths\":85,\"spanish\":40, \"punjabi\":99}, \"kimmi\":\n",
    "        {\"maths\":65,\"spanish\":62, \"punjabi\":59}, \"puneet\":\n",
    "        {\"maths\":49,\"spanish\":63, \"punjabi\":87}}\n",
    "value = input(\"enter name of student : \")\n",
    "for i in dict1:\n",
    "    if value==i:\n",
    "        print(i,dict1[i])"
   ]
  },
  {
   "cell_type": "code",
   "execution_count": 9,
   "metadata": {},
   "outputs": [
    {
     "name": "stdout",
     "output_type": "stream",
     "text": [
      "enter no. of subjects: 2\n",
      "enter name of student : sumit\n",
      "enter subject : maths\n",
      "enter marks in sub : 56\n",
      "enter subject : english\n",
      "enter marks in sub : 78\n",
      "{'sumit': {'maths': '56', 'english': '78'}}\n"
     ]
    }
   ],
   "source": [
    "dict2 = {}\n",
    "n = int(input(\"enter no. of subjects: \"))\n",
    "for i in range(0,1):\n",
    "    name = input(\"enter name of student : \")\n",
    "    dict1 = {}n\n",
    "    for j in range(0,n):\n",
    "        sub = input(\"enter subject : \")\n",
    "        marks = input(\"enter marks in sub : \")\n",
    "        dict1[sub] = marks\n",
    "        \n",
    "    dict2[name] = dict1\n",
    "\n",
    "print(dict2)"
   ]
  },
  {
   "cell_type": "code",
   "execution_count": 22,
   "metadata": {},
   "outputs": [
    {
     "name": "stdout",
     "output_type": "stream",
     "text": [
      "[7.4, 8.9] ['facebook', 'google', 'data'] [45, 23]\n"
     ]
    }
   ],
   "source": [
    "list1 = [\"facebook\",45,\"google\",7.4,23,8.90,\"data\"]\n",
    "\n",
    "listf = []\n",
    "liststr = []\n",
    "listint = []\n",
    "for i in list1:\n",
    "        if(type(i)==str):\n",
    "            liststr.append(i)\n",
    "        elif(type(i)==int):\n",
    "            listint.append(i)\n",
    "        else:\n",
    "            listf.append(i)\n",
    "    \n",
    "    \n",
    "    \n",
    "print(listf,liststr,listint)"
   ]
  },
  {
   "cell_type": "code",
   "execution_count": 27,
   "metadata": {},
   "outputs": [
    {
     "name": "stdout",
     "output_type": "stream",
     "text": [
      "enter no. of element you want in list4\n",
      "enter elementsmit\n",
      "enter element2\n",
      "enter element4\n",
      "enter element8\n",
      "['smit', '2', '4', '8']\n",
      "enter element you wan to search2\n",
      "['smit', '4', '8']\n"
     ]
    }
   ],
   "source": [
    "list = []\n",
    "n = int(input(\"enter no. of element you want in list : \"))\n",
    "for i in range(0,n):\n",
    "    val = input(\"enter element : \")\n",
    "    list.append(val)\n",
    "\n",
    "print(list)\n",
    "search = input(\"enter element you wan to search : \")\n",
    "\n",
    "for i in list:\n",
    "    if i==search:\n",
    "        list.remove(i)\n",
    "\n",
    "print(list)        "
   ]
  },
  {
   "cell_type": "code",
   "execution_count": 60,
   "metadata": {},
   "outputs": [
    {
     "name": "stdout",
     "output_type": "stream",
     "text": [
      "        *  \n",
      "      * * *  \n",
      "    * * * * *  \n",
      "  * * * * * * *  \n",
      "* * * * * * * * *  \n"
     ]
    }
   ],
   "source": [
    "num = 5\n",
    "m = num*5\n",
    "k = 1\n",
    "#for i in range(1,num+1):\n",
    "    #print(end = \" \"*m)\n",
    "    #for j in range(1,k+1):\n",
    "     #       print(\"* \",end = \"\")\n",
    "    #k = k+2\n",
    "    #m = m-2\n",
    "    #print(\"\")\n",
    "    \n",
    "###alternate\n",
    "\n",
    "for i in range(1,num+1):\n",
    "    for j in range(i,num):\n",
    "        print(\" \" , end=\" \")\n",
    "    for k in range(0,2*i-1):\n",
    "        print(\"*\" , end = \" \")\n",
    "    print(\" \")"
   ]
  },
  {
   "cell_type": "code",
   "execution_count": 46,
   "metadata": {},
   "outputs": [
    {
     "name": "stdout",
     "output_type": "stream",
     "text": [
      "[14, 28, 42, 56, 70, 84, 98, 102, 126, 140]\n"
     ]
    }
   ],
   "source": [
    "list1 = [12,24,36,48,60,72,84,86,108,120]\n",
    "val = 2\n",
    "list2 = []\n",
    "for i in list1:\n",
    "    list2.append(i+val)\n",
    "    val = val + 2\n",
    "    \n",
    "print(list2)"
   ]
  },
  {
   "cell_type": "code",
   "execution_count": null,
   "metadata": {},
   "outputs": [],
   "source": []
  }
 ],
 "metadata": {
  "kernelspec": {
   "display_name": "Python 3",
   "language": "python",
   "name": "python3"
  },
  "language_info": {
   "codemirror_mode": {
    "name": "ipython",
    "version": 3
   },
   "file_extension": ".py",
   "mimetype": "text/x-python",
   "name": "python",
   "nbconvert_exporter": "python",
   "pygments_lexer": "ipython3",
   "version": "3.7.6"
  }
 },
 "nbformat": 4,
 "nbformat_minor": 4
}
