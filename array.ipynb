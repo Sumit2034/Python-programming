{
 "cells": [
  {
   "cell_type": "code",
   "execution_count": 2,
   "metadata": {},
   "outputs": [
    {
     "name": "stdout",
     "output_type": "stream",
     "text": [
      "enter no.5\n",
      "true\n"
     ]
    }
   ],
   "source": [
    "#############     Fibonacci series     ###############\n",
    "import math\n",
    "def perfectsquare(num):\n",
    "    sq = int(math.sqrt(num))\n",
    "    return sq*sq == num\n",
    "\n",
    "def checknumber(n):\n",
    "   # A number is Fibonacci if and only if one or both of (5*n2 + 4) or (5*n2 – 4) is a perfect squa\n",
    "    return perfectsquare(5*n*n + 4) or perfectsquare(5*n*n -4)\n",
    "        \n",
    "n = int(input(\"enter no.\"))\n",
    "if(checknumber(n)):\n",
    "    print(\"true\")\n",
    "else:\n",
    "    print(\"false\")"
   ]
  },
  {
   "cell_type": "code",
   "execution_count": 1,
   "metadata": {},
   "outputs": [
    {
     "name": "stdout",
     "output_type": "stream",
     "text": [
      "enter length of series6\n",
      "[0, 1, 1, 2, 3, 5]\n"
     ]
    }
   ],
   "source": [
    "def checknumber(n):\n",
    "    if(n<=1):\n",
    "        return n\n",
    "    else:\n",
    "        return(checknumber(n-1)+checknumber(n-2))\n",
    "    \n",
    "n = int(input(\"enter length of series\"))\n",
    "list = []\n",
    "for i in range(0,n):\n",
    "    list.append(checknumber(i))\n",
    "print(list)\n"
   ]
  },
  {
   "cell_type": "code",
   "execution_count": 4,
   "metadata": {},
   "outputs": [
    {
     "name": "stdout",
     "output_type": "stream",
     "text": [
      "datascience python\n"
     ]
    }
   ],
   "source": [
    "def func1(fname, lname):\n",
    "    print(fname +\" \" + lname)\n",
    "    \n",
    "func1(lname= \"python\", fname = \"datascience\")"
   ]
  },
  {
   "cell_type": "markdown",
   "metadata": {},
   "source": [
    "# ARBITARY  ARGUMENTS"
   ]
  },
  {
   "cell_type": "code",
   "execution_count": 2,
   "metadata": {},
   "outputs": [
    {
     "name": "stdout",
     "output_type": "stream",
     "text": [
      "the number is 838\n"
     ]
    }
   ],
   "source": [
    "def func(*values):\n",
    "        print(\"the number is \" + values[2])\n",
    "        \n",
    "func(\"hello\",\"python\",\"838\")\n"
   ]
  },
  {
   "cell_type": "code",
   "execution_count": 7,
   "metadata": {},
   "outputs": [
    {
     "name": "stdout",
     "output_type": "stream",
     "text": [
      "the number is hello\n"
     ]
    }
   ],
   "source": [
    "#if i want to pass keyword argument then we have to use double *\n",
    "\n",
    "def keyword(**values):\n",
    "    print(\"the number is \" + values[\"fname\"])\n",
    "    \n",
    "keyword(fname = \"hello\",mname = \"python\",lname = \"838\")"
   ]
  },
  {
   "cell_type": "code",
   "execution_count": 9,
   "metadata": {},
   "outputs": [
    {
     "name": "stdout",
     "output_type": "stream",
     "text": [
      "delhi\n"
     ]
    }
   ],
   "source": [
    "#default parameters\n",
    "\n",
    "def func(city=\"rajpura\"):\n",
    "    print(city)\n",
    "    \n",
    "func(\"delhi\")"
   ]
  },
  {
   "cell_type": "code",
   "execution_count": 10,
   "metadata": {},
   "outputs": [
    {
     "name": "stdout",
     "output_type": "stream",
     "text": [
      "rajpura\n"
     ]
    }
   ],
   "source": [
    "func()"
   ]
  },
  {
   "cell_type": "code",
   "execution_count": 11,
   "metadata": {},
   "outputs": [
    {
     "name": "stdout",
     "output_type": "stream",
     "text": [
      "[1, 2, 3]\n"
     ]
    }
   ],
   "source": [
    "def func(li):\n",
    "    print(li[0:3])\n",
    "    \n",
    "list = [1,2,3,4,5,6]\n",
    "func(list)"
   ]
  },
  {
   "cell_type": "markdown",
   "metadata": {},
   "source": [
    "# ANONYMOUS FUCNTION"
   ]
  },
  {
   "cell_type": "markdown",
   "metadata": {},
   "source": [
    "#LAMBDA FUNCTION"
   ]
  },
  {
   "cell_type": "code",
   "execution_count": 13,
   "metadata": {},
   "outputs": [
    {
     "name": "stdout",
     "output_type": "stream",
     "text": [
      "11000\n",
      "31000\n"
     ]
    }
   ],
   "source": [
    "# lambda arguments: expression\n",
    "\n",
    "x = lambda a : a + 1000\n",
    "\n",
    "print(x(10000))\n",
    "print(x(30000))"
   ]
  },
  {
   "cell_type": "code",
   "execution_count": 14,
   "metadata": {},
   "outputs": [
    {
     "name": "stdout",
     "output_type": "stream",
     "text": [
      "11133\n",
      "31145\n"
     ]
    }
   ],
   "source": [
    "x = lambda a,b : a + b + 1000\n",
    "\n",
    "print(x(10000,133))\n",
    "print(x(30000,145))"
   ]
  },
  {
   "cell_type": "markdown",
   "metadata": {},
   "source": [
    "# ARRAYS\n"
   ]
  },
  {
   "cell_type": "code",
   "execution_count": null,
   "metadata": {},
   "outputs": [],
   "source": [
    "import array as arr\n",
    "# a(name of array) = arr.array(data_type, elements)   \n",
    "a = arr.array('i',[1,2,3,4,5])\n",
    "print(a)"
   ]
  },
  {
   "cell_type": "code",
   "execution_count": null,
   "metadata": {},
   "outputs": [],
   "source": [
    "for x in a:\n",
    "    print(x)"
   ]
  },
  {
   "cell_type": "code",
   "execution_count": null,
   "metadata": {},
   "outputs": [],
   "source": [
    "a.append(8)\n",
    "print(a)"
   ]
  },
  {
   "cell_type": "code",
   "execution_count": null,
   "metadata": {},
   "outputs": [],
   "source": [
    "a[0] = 5\n",
    "print(a)"
   ]
  },
  {
   "cell_type": "code",
   "execution_count": null,
   "metadata": {},
   "outputs": [],
   "source": [
    "a.insert(3,8)\n",
    "print(a)"
   ]
  },
  {
   "cell_type": "code",
   "execution_count": null,
   "metadata": {},
   "outputs": [],
   "source": [
    "for i in range(0,5):\n",
    "    print(a[i])"
   ]
  },
  {
   "cell_type": "code",
   "execution_count": null,
   "metadata": {},
   "outputs": [],
   "source": [
    "new_arr = a[3:6]#to get sub array\n",
    "print(new_arr)"
   ]
  },
  {
   "cell_type": "code",
   "execution_count": null,
   "metadata": {},
   "outputs": [],
   "source": [
    "#to change in list\n",
    "list = a.tolist()\n",
    "print(list)"
   ]
  },
  {
   "cell_type": "code",
   "execution_count": null,
   "metadata": {},
   "outputs": [],
   "source": [
    "a.remove(5)\n",
    "print(a)\n"
   ]
  },
  {
   "cell_type": "code",
   "execution_count": null,
   "metadata": {},
   "outputs": [],
   "source": [
    "length = len(a)\n",
    "print(length)"
   ]
  },
  {
   "cell_type": "code",
   "execution_count": null,
   "metadata": {},
   "outputs": [],
   "source": [
    "a.pop(3) #to delete from particular index\n",
    "print(a)"
   ]
  },
  {
   "cell_type": "code",
   "execution_count": 4,
   "metadata": {},
   "outputs": [
    {
     "name": "stdout",
     "output_type": "stream",
     "text": [
      "0\n"
     ]
    }
   ],
   "source": [
    "occurences = a.count(8)\n",
    "print(occurences)"
   ]
  },
  {
   "cell_type": "markdown",
   "metadata": {},
   "source": [
    "# to know about size of item in bytes\n",
    "print(a.itemsize)\n",
    "#to knoe whole array size\n",
    "l = len(a)\n",
    "size = l*a.itemsize\n",
    "print(size)"
   ]
  },
  {
   "cell_type": "code",
   "execution_count": null,
   "metadata": {},
   "outputs": [],
   "source": [
    "print(a.buffer_info())"
   ]
  },
  {
   "cell_type": "code",
   "execution_count": 3,
   "metadata": {},
   "outputs": [
    {
     "name": "stdout",
     "output_type": "stream",
     "text": [
      "20\n"
     ]
    }
   ],
   "source": [
    "#another method to know about size of array in bytes\n",
    "print(a.buffer_info()[1] * a.itemsize)"
   ]
  },
  {
   "cell_type": "code",
   "execution_count": 2,
   "metadata": {},
   "outputs": [
    {
     "name": "stdout",
     "output_type": "stream",
     "text": [
      "array('i', [5, 4, 3, 2, 1])\n"
     ]
    }
   ],
   "source": [
    "import array as arr\n",
    "# reverse the elements in array\n",
    "a = arr.array('i', [1,2,3,4,5])\n",
    "new_arr = a[::-1]\n",
    "print(new_arr)"
   ]
  },
  {
   "cell_type": "code",
   "execution_count": null,
   "metadata": {},
   "outputs": [],
   "source": [
    "#another method to reverse\n",
    "print(\"Original array: \")\n",
    "for i in range(0,len(a)):\n",
    "    print(a[i])\n",
    "print(\"array in reverse order\")\n",
    "for i in range(len(a)-1,-1,-1):\n",
    "    print(a[i])"
   ]
  },
  {
   "cell_type": "code",
   "execution_count": null,
   "metadata": {},
   "outputs": [],
   "source": []
  }
 ],
 "metadata": {
  "kernelspec": {
   "display_name": "Python 3",
   "language": "python",
   "name": "python3"
  },
  "language_info": {
   "codemirror_mode": {
    "name": "ipython",
    "version": 3
   },
   "file_extension": ".py",
   "mimetype": "text/x-python",
   "name": "python",
   "nbconvert_exporter": "python",
   "pygments_lexer": "ipython3",
   "version": "3.7.6"
  }
 },
 "nbformat": 4,
 "nbformat_minor": 4
}
